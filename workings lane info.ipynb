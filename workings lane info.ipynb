{
 "cells": [
  {
   "cell_type": "markdown",
   "metadata": {},
   "source": [
    "Full code to make all waypoints from road sections "
   ]
  },
  {
   "cell_type": "code",
   "execution_count": 1,
   "metadata": {},
   "outputs": [],
   "source": [
    "#all imports\n",
    "import carla #the sim library itself\n",
    "import time # to set a delay after each photo\n",
    "import numpy as np #in this example to change image representation - re-shaping\n",
    "import math\n",
    "import sys\n",
    "import random\n",
    "import glob\n",
    "import os\n",
    "try:\n",
    "    sys.path.append(glob.glob('./carla/dist/carla-0.9.14-py3.7-win-amd64.egg')[0])\n",
    "except IndexError:\n",
    "    print('Couldn\\'t import Carla egg properly')\n",
    "import carla\n",
    "\n",
    "try:\n",
    "    sys.path.insert(0,r'C:\\Users\\ashokkumar\\source\\repos\\AD\\carla')\n",
    "except IndexError:\n",
    "    pass\n",
    "\n",
    "from carla import ColorConverter as cc\n",
    "from agents.navigation.behavior_agent import BehaviorAgent  \n",
    "from agents.navigation.basic_agent import BasicAgent  \n",
    "\n",
    "# connect to the sim \n",
    "client = carla.Client('localhost', 2000)\n",
    "\n",
    "world = client.get_world()\n",
    "world = client.load_world('Town02')\n",
    "\n",
    "spectator = world.get_spectator()\n",
    "\n",
    "# get map look at the map\n",
    "town_map = world.get_map()\n",
    "roads = town_map.get_topology()\n",
    "\n",
    "# set up route generations"
   ]
  },
  {
   "cell_type": "code",
   "execution_count": 2,
   "metadata": {},
   "outputs": [
    {
     "ename": "",
     "evalue": "",
     "output_type": "error",
     "traceback": [
      "\u001b[1;31mThe Kernel crashed while executing code in the current cell or a previous cell. \n",
      "\u001b[1;31mPlease review the code in the cell(s) to identify a possible cause of the failure. \n",
      "\u001b[1;31mClick <a href='https://aka.ms/vscodeJupyterKernelCrash'>here</a> for more info. \n",
      "\u001b[1;31mView Jupyter <a href='command:jupyter.viewOutput'>log</a> for further details."
     ]
    }
   ],
   "source": [
    "'''\n",
    "this is a better option:\n",
    "1. it allows to set a distance between waypoints\n",
    "2. it gets them all without gaps\n",
    "3. Do not need ti use route planner\n",
    "\n",
    "#this takes about 4 minutes - in RL context, this only needs to run at the start or when you change a towns\n",
    "'''\n",
    "all_waypoints = town_map.generate_waypoints(1) #note distance between waypoints in meters\n",
    "\n",
    "# make unique\n",
    "unique_waypoints = []\n",
    "for wp in all_waypoints:\n",
    "    if len(unique_waypoints)==0:\n",
    "        unique_waypoints.append(wp) #first waypoint is added regardless to start the list\n",
    "    else:\n",
    "        found = False\n",
    "        for uwp in unique_waypoints: #check for same located waypoints and ignore if found\n",
    "            if abs(uwp.transform.location.x - wp.transform.location.x) < 0.1 \\\n",
    "                            and abs(uwp.transform.location.y - wp.transform.location.y)<0.1 \\\n",
    "                            and abs(uwp.transform.rotation.yaw - wp.transform.rotation.yaw)<20:  #this checks same direction\n",
    "                found = True\n",
    "                break\n",
    "        if not found:\n",
    "            unique_waypoints.append(wp)\n",
    "\n",
    "# draw all point in the sim for 60 seconds\n",
    "for wp in unique_waypoints:\n",
    "    world.debug.draw_string(wp.transform.location, '^', draw_shadow=False,\n",
    "        color=carla.Color(r=0, g=0, b=255), life_time=60.0,\n",
    "        persistent_lines=True)\n",
    "\n",
    "#move spectator for top down view to see all points \n",
    "spectator_pos = carla.Transform(carla.Location(x=0,y=30,z=200), carla.Rotation(pitch=-90, yaw=0, roll=0))\n",
    "spectator.set_transform(spectator_pos)"
   ]
  },
  {
   "cell_type": "code",
   "execution_count": 68,
   "metadata": {},
   "outputs": [],
   "source": [
    "'''\n",
    "now we will see how this will be used in real examples, like during RL training\n",
    "e.g. see how long it takes to find closest point to the car\n",
    "\n",
    "'''\n",
    "#remove any cars/clean up the sim\n",
    "for actor in world.get_actors().filter('*vehicle*'):\n",
    "    actor.destroy()\n",
    "blueprint_library = world.get_blueprint_library()\n",
    "\n",
    "# Now let's filter all the blueprints of type 'vehicle' and choose one\n",
    "bp = blueprint_library.find('vehicle.tesla.model3')\n",
    "transform = random.choice(world.get_map().get_spawn_points())\n",
    "vehicle = world.spawn_actor(bp, transform)  \n",
    "spectator = world.get_spectator()\n",
    "spectator_transform =  vehicle.get_transform()\n",
    "spectator_transform.location += carla.Location(z = 10.0)\n",
    "world.get_spectator().set_transform(spectator_transform)\n",
    "\n",
    "\n",
    "agent = BasicAgent(vehicle)\n",
    "waypoint_counter = 0\n"
   ]
  },
  {
   "cell_type": "code",
   "execution_count": 77,
   "metadata": {},
   "outputs": [],
   "source": [
    "my_waypoint = vehicle.get_transform().location\n",
    "curr_distance = 1000\n",
    "for wp in unique_waypoints:\n",
    "    dist = my_waypoint.distance(wp.transform.location)\n",
    "    if dist < curr_distance:\n",
    "        curr_distance =  dist\n",
    "        selected_wp = wp\n",
    "\n",
    "next_wp = selected_wp.next(5.0)[0]\n",
    "destination = next_wp.transform.location\n",
    "agent.set_destination(destination)"
   ]
  },
  {
   "cell_type": "code",
   "execution_count": 78,
   "metadata": {},
   "outputs": [
    {
     "name": "stdout",
     "output_type": "stream",
     "text": [
      "We have reached the end of the waypoints\n"
     ]
    }
   ],
   "source": [
    "while True:\n",
    "    if agent.done():\n",
    "        next_wp = selected_wp.next(5.0)[0]\n",
    "        destination = next_wp.transform.location\n",
    "        agent.set_destination(destination)\n",
    "        world.debug.draw_string(next_wp.transform.location, '^', draw_shadow=False,\n",
    "        color=carla.Color(r=0, g=255, b=0), life_time=2.0,\n",
    "        persistent_lines=True)\n",
    "        print(\"The target has been reached, setting next waypoint\")\n",
    "        selected_wp = next_wp\n",
    "        waypoint_counter += 1\n",
    "\n",
    "    if waypoint_counter > 100:\n",
    "        print(\"We have reached the end of the waypoints\")\n",
    "        break\n",
    "    vehicle.apply_control(agent.run_step())"
   ]
  },
  {
   "cell_type": "code",
   "execution_count": 75,
   "metadata": {},
   "outputs": [
    {
     "name": "stdout",
     "output_type": "stream",
     "text": [
      "deviation from waypoint: 325.9584045410156 metres\n",
      "angle discrepancy: 89.96080780029297 degrees\n"
     ]
    }
   ],
   "source": [
    "# example how to use this for measuring where the car is in relation to where it should be\n",
    "\n",
    "vehicle_transform = vehicle.get_transform()\n",
    "distance_to_wp = selected_wp.transform.location.distance(vehicle_transform.location)\n",
    "direction_difference = (vehicle_transform.rotation.yaw - selected_wp.transform.rotation.yaw) % 180\n",
    "print('deviation from waypoint:',distance_to_wp,'metres')\n",
    "print('angle discrepancy:',direction_difference,'degrees')\n"
   ]
  },
  {
   "cell_type": "code",
   "execution_count": 76,
   "metadata": {},
   "outputs": [],
   "source": [
    "for actor in world.get_actors().filter('*vehicle*'):\n",
    "    actor.destroy()\n"
   ]
  },
  {
   "cell_type": "code",
   "execution_count": 82,
   "metadata": {},
   "outputs": [
    {
     "ename": "",
     "evalue": "",
     "output_type": "error",
     "traceback": [
      "\u001b[1;31mThe Kernel crashed while executing code in the current cell or a previous cell. \n",
      "\u001b[1;31mPlease review the code in the cell(s) to identify a possible cause of the failure. \n",
      "\u001b[1;31mClick <a href='https://aka.ms/vscodeJupyterKernelCrash'>here</a> for more info. \n",
      "\u001b[1;31mView Jupyter <a href='command:jupyter.viewOutput'>log</a> for further details."
     ]
    }
   ],
   "source": [
    "spectator_transform =  vehicle.get_transform()\n",
    "world.get_spectator().set_transform(spectator_transform)"
   ]
  },
  {
   "cell_type": "code",
   "execution_count": 81,
   "metadata": {},
   "outputs": [],
   "source": [
    "for actor in world.get_actors().filter('*vehicle*'):\n",
    "    print(actor)"
   ]
  }
 ],
 "metadata": {
  "kernelspec": {
   "display_name": "tf2",
   "language": "python",
   "name": "python3"
  },
  "language_info": {
   "codemirror_mode": {
    "name": "ipython",
    "version": 3
   },
   "file_extension": ".py",
   "mimetype": "text/x-python",
   "name": "python",
   "nbconvert_exporter": "python",
   "pygments_lexer": "ipython3",
   "version": "3.8.7"
  },
  "orig_nbformat": 4
 },
 "nbformat": 4,
 "nbformat_minor": 2
}
