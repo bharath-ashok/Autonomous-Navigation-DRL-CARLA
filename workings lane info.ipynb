{
 "cells": [
  {
   "cell_type": "markdown",
   "metadata": {},
   "source": [
    "Full code to make all waypoints from road sections "
   ]
  },
  {
   "cell_type": "code",
   "execution_count": 1,
   "metadata": {},
   "outputs": [],
   "source": [
    "#all imports\n",
    "import carla #the sim library itself\n",
    "import time # to set a delay after each photo\n",
    "import numpy as np #in this example to change image representation - re-shaping\n",
    "import math\n",
    "import sys\n",
    "import random\n",
    "import glob\n",
    "import os\n",
    "try:\n",
    "    sys.path.append(glob.glob('./carla/dist/carla-0.9.14-py3.7-win-amd64.egg')[0])\n",
    "except IndexError:\n",
    "    print('Couldn\\'t import Carla egg properly')\n",
    "import carla\n",
    "\n",
    "try:\n",
    "    sys.path.insert(0,r'C:\\Users\\ashokkumar\\source\\repos\\AD\\carla')\n",
    "except IndexError:\n",
    "    pass\n",
    "\n",
    "from carla import ColorConverter as cc\n",
    "from agents.navigation.behavior_agent import BehaviorAgent  \n",
    "from agents.navigation.basic_agent import BasicAgent  \n",
    "\n",
    "# connect to the sim \n",
    "client = carla.Client('localhost', 2000)\n",
    "\n",
    "world = client.get_world()\n",
    "world = client.load_world('Town02')\n",
    "\n",
    "spectator = world.get_spectator()\n",
    "\n",
    "# get map look at the map\n",
    "town_map = world.get_map()\n",
    "roads = town_map.get_topology()\n",
    "\n",
    "# set up route generations"
   ]
  },
  {
   "cell_type": "code",
   "execution_count": 2,
   "metadata": {},
   "outputs": [],
   "source": [
    "'''\n",
    "this is a better option:\n",
    "1. it allows to set a distance between waypoints\n",
    "2. it gets them all without gaps\n",
    "3. Do not need ti use route planner\n",
    "\n",
    "#this takes about 4 minutes - in RL context, this only needs to run at the start or when you change a towns\n",
    "'''\n",
    "all_waypoints = town_map.generate_waypoints(1) #note distance between waypoints in meters\n",
    "\n",
    "# make unique\n",
    "unique_waypoints = []\n",
    "for wp in all_waypoints:\n",
    "    if len(unique_waypoints)==0:\n",
    "        unique_waypoints.append(wp) #first waypoint is added regardless to start the list\n",
    "    else:\n",
    "        found = False\n",
    "        for uwp in unique_waypoints: #check for same located waypoints and ignore if found\n",
    "            if abs(uwp.transform.location.x - wp.transform.location.x) < 0.1 \\\n",
    "                            and abs(uwp.transform.location.y - wp.transform.location.y)<0.1 \\\n",
    "                            and abs(uwp.transform.rotation.yaw - wp.transform.rotation.yaw)<20:  #this checks same direction\n",
    "                found = True\n",
    "                break\n",
    "        if not found:\n",
    "            unique_waypoints.append(wp)\n",
    "\n",
    "# draw all point in the sim for 60 seconds\n",
    "for wp in unique_waypoints:\n",
    "    world.debug.draw_string(wp.transform.location, '^', draw_shadow=False,\n",
    "        color=carla.Color(r=0, g=0, b=255), life_time=60.0,\n",
    "        persistent_lines=True)\n",
    "\n",
    "#move spectator for top down view to see all points \n",
    "spectator_pos = carla.Transform(carla.Location(x=0,y=30,z=200), carla.Rotation(pitch=-90, yaw=0, roll=0))\n",
    "spectator.set_transform(spectator_pos)"
   ]
  },
  {
   "cell_type": "code",
   "execution_count": 3,
   "metadata": {},
   "outputs": [],
   "source": [
    "'''\n",
    "now we will see how this will be used in real examples, like during RL training\n",
    "e.g. see how long it takes to find closest point to the car\n",
    "\n",
    "'''\n",
    "#remove any cars/clean up the sim\n",
    "for actor in world.get_actors().filter('*vehicle*'):\n",
    "    actor.destroy()\n",
    "blueprint_library = world.get_blueprint_library()\n",
    "\n",
    "# Now let's filter all the blueprints of type 'vehicle' and choose one\n",
    "bp = blueprint_library.find('vehicle.tesla.model3')\n",
    "transform = random.choice(world.get_map().get_spawn_points())\n",
    "vehicle = world.spawn_actor(bp, transform)  \n",
    "spectator = world.get_spectator()\n",
    "spectator_transform =  vehicle.get_transform()\n",
    "spectator_transform.location += carla.Location(z = 10.0)\n",
    "world.get_spectator().set_transform(spectator_transform)\n",
    "\n",
    "\n",
    "agent = BasicAgent(vehicle)\n",
    "waypoint_counter = 0\n"
   ]
  },
  {
   "cell_type": "code",
   "execution_count": 4,
   "metadata": {},
   "outputs": [],
   "source": [
    "my_waypoint = vehicle.get_transform().location\n",
    "curr_distance = 1000\n",
    "for wp in unique_waypoints:\n",
    "    dist = my_waypoint.distance(wp.transform.location)\n",
    "    if dist < curr_distance:\n",
    "        curr_distance =  dist\n",
    "        selected_wp = wp\n",
    "\n",
    "next_wp = selected_wp.next(5.0)[0]\n",
    "destination = next_wp.transform.location\n",
    "agent.set_destination(destination)"
   ]
  },
  {
   "cell_type": "code",
   "execution_count": 5,
   "metadata": {},
   "outputs": [
    {
     "name": "stdout",
     "output_type": "stream",
     "text": [
      "The target has been reached, setting next waypoint\n",
      "The target has been reached, setting next waypoint\n",
      "The target has been reached, setting next waypoint\n",
      "The target has been reached, setting next waypoint\n",
      "The target has been reached, setting next waypoint\n",
      "The target has been reached, setting next waypoint\n",
      "The target has been reached, setting next waypoint\n",
      "The target has been reached, setting next waypoint\n",
      "The target has been reached, setting next waypoint\n",
      "The target has been reached, setting next waypoint\n",
      "The target has been reached, setting next waypoint\n",
      "The target has been reached, setting next waypoint\n",
      "The target has been reached, setting next waypoint\n",
      "The target has been reached, setting next waypoint\n",
      "The target has been reached, setting next waypoint\n",
      "The target has been reached, setting next waypoint\n",
      "The target has been reached, setting next waypoint\n",
      "The target has been reached, setting next waypoint\n",
      "The target has been reached, setting next waypoint\n",
      "The target has been reached, setting next waypoint\n",
      "The target has been reached, setting next waypoint\n",
      "The target has been reached, setting next waypoint\n",
      "The target has been reached, setting next waypoint\n",
      "The target has been reached, setting next waypoint\n",
      "The target has been reached, setting next waypoint\n",
      "The target has been reached, setting next waypoint\n",
      "The target has been reached, setting next waypoint\n",
      "The target has been reached, setting next waypoint\n",
      "The target has been reached, setting next waypoint\n",
      "The target has been reached, setting next waypoint\n",
      "The target has been reached, setting next waypoint\n",
      "The target has been reached, setting next waypoint\n",
      "The target has been reached, setting next waypoint\n",
      "The target has been reached, setting next waypoint\n",
      "The target has been reached, setting next waypoint\n",
      "The target has been reached, setting next waypoint\n",
      "The target has been reached, setting next waypoint\n",
      "The target has been reached, setting next waypoint\n",
      "The target has been reached, setting next waypoint\n",
      "The target has been reached, setting next waypoint\n",
      "The target has been reached, setting next waypoint\n",
      "The target has been reached, setting next waypoint\n",
      "The target has been reached, setting next waypoint\n",
      "The target has been reached, setting next waypoint\n",
      "The target has been reached, setting next waypoint\n",
      "The target has been reached, setting next waypoint\n",
      "The target has been reached, setting next waypoint\n",
      "The target has been reached, setting next waypoint\n",
      "The target has been reached, setting next waypoint\n",
      "The target has been reached, setting next waypoint\n",
      "The target has been reached, setting next waypoint\n",
      "The target has been reached, setting next waypoint\n",
      "The target has been reached, setting next waypoint\n",
      "The target has been reached, setting next waypoint\n",
      "The target has been reached, setting next waypoint\n",
      "The target has been reached, setting next waypoint\n",
      "The target has been reached, setting next waypoint\n",
      "The target has been reached, setting next waypoint\n",
      "The target has been reached, setting next waypoint\n",
      "The target has been reached, setting next waypoint\n",
      "The target has been reached, setting next waypoint\n",
      "The target has been reached, setting next waypoint\n",
      "The target has been reached, setting next waypoint\n",
      "The target has been reached, setting next waypoint\n",
      "The target has been reached, setting next waypoint\n",
      "The target has been reached, setting next waypoint\n",
      "The target has been reached, setting next waypoint\n",
      "The target has been reached, setting next waypoint\n",
      "The target has been reached, setting next waypoint\n",
      "The target has been reached, setting next waypoint\n",
      "The target has been reached, setting next waypoint\n",
      "The target has been reached, setting next waypoint\n",
      "The target has been reached, setting next waypoint\n",
      "The target has been reached, setting next waypoint\n",
      "The target has been reached, setting next waypoint\n",
      "The target has been reached, setting next waypoint\n",
      "The target has been reached, setting next waypoint\n",
      "The target has been reached, setting next waypoint\n",
      "The target has been reached, setting next waypoint\n",
      "The target has been reached, setting next waypoint\n",
      "The target has been reached, setting next waypoint\n",
      "The target has been reached, setting next waypoint\n",
      "The target has been reached, setting next waypoint\n",
      "The target has been reached, setting next waypoint\n",
      "The target has been reached, setting next waypoint\n",
      "The target has been reached, setting next waypoint\n",
      "The target has been reached, setting next waypoint\n",
      "The target has been reached, setting next waypoint\n",
      "The target has been reached, setting next waypoint\n",
      "The target has been reached, setting next waypoint\n",
      "The target has been reached, setting next waypoint\n",
      "The target has been reached, setting next waypoint\n",
      "The target has been reached, setting next waypoint\n",
      "The target has been reached, setting next waypoint\n",
      "The target has been reached, setting next waypoint\n",
      "The target has been reached, setting next waypoint\n",
      "The target has been reached, setting next waypoint\n",
      "The target has been reached, setting next waypoint\n",
      "The target has been reached, setting next waypoint\n",
      "The target has been reached, setting next waypoint\n",
      "The target has been reached, setting next waypoint\n",
      "We have reached the end of the waypoints\n"
     ]
    }
   ],
   "source": [
    "while True:\n",
    "    if agent.done():\n",
    "        next_wp = selected_wp.next(5.0)[0]\n",
    "        destination = next_wp.transform.location\n",
    "        agent.set_destination(destination)\n",
    "        world.debug.draw_string(next_wp.transform.location, '^', draw_shadow=False,\n",
    "        color=carla.Color(r=0, g=255, b=0), life_time=2.0,\n",
    "        persistent_lines=True)\n",
    "        print(\"The target has been reached, setting next waypoint\")\n",
    "        selected_wp = next_wp\n",
    "        waypoint_counter += 1\n",
    "\n",
    "    if waypoint_counter > 100:\n",
    "        print(\"We have reached the end of the waypoints\")\n",
    "        break\n",
    "    vehicle.apply_control(agent.run_step())"
   ]
  },
  {
   "cell_type": "code",
   "execution_count": 7,
   "metadata": {},
   "outputs": [
    {
     "name": "stdout",
     "output_type": "stream",
     "text": [
      "The vehicle pos:  Location(x=123.497292, y=306.554932, z=0.221790)\n",
      "The next waypoint:  Location(x=136.511978, y=306.559784, z=0.000000)\n"
     ]
    }
   ],
   "source": [
    "vehicle_pos = vehicle.get_transform().location\n",
    "print(\"The vehicle pos: \", vehicle_pos)\n",
    "next_wp = selected_wp.next(5.0)[0]\n",
    "print(\"The next waypoint: \", next_wp.transform.location)\n"
   ]
  },
  {
   "cell_type": "code",
   "execution_count": 11,
   "metadata": {},
   "outputs": [
    {
     "name": "stdout",
     "output_type": "stream",
     "text": [
      "The lateral distance is:  0.0004417125493269432\n",
      "The normalized lateral distance is:  5.52140686658679e-05\n"
     ]
    }
   ],
   "source": [
    "def get_lateral_distance(vehicle, waypoint, max_distance=8.0):\n",
    "    # Get vehicle and waypoint positions\n",
    "    vehicle_location = vehicle.get_transform().location\n",
    "    waypoint_location = waypoint.transform.location\n",
    "\n",
    "    # Get the forward vector of the waypoint (direction the road is facing)\n",
    "    waypoint_forward_vector = waypoint.transform.get_forward_vector()\n",
    "\n",
    "    # Calculate the vector from the waypoint to the vehicle\n",
    "    vehicle_vector = vehicle_location - waypoint_location\n",
    "\n",
    "    # Convert the CARLA location objects to NumPy arrays for easier vector math\n",
    "    waypoint_forward_np = np.array([waypoint_forward_vector.x, waypoint_forward_vector.y])\n",
    "    vehicle_vector_np = np.array([vehicle_vector.x, vehicle_vector.y])\n",
    "\n",
    "    # Normalize the waypoint's forward vector to get the direction\n",
    "    waypoint_forward_np = waypoint_forward_np / np.linalg.norm(waypoint_forward_np)\n",
    "\n",
    "    # Project the vehicle vector onto the waypoint's forward vector\n",
    "    projection_length = np.dot(vehicle_vector_np, waypoint_forward_np)\n",
    "\n",
    "    # Get the projection point (the closest point on the waypoint's direction line)\n",
    "    projection_point = projection_length * waypoint_forward_np\n",
    "\n",
    "    # Calculate the lateral distance as the distance between the vehicle's position and the projection point\n",
    "    lateral_vector = vehicle_vector_np - projection_point\n",
    "    lateral_distance = np.linalg.norm(lateral_vector)\n",
    "\n",
    "    # Normalize the lateral distance to the range [-1, 1]\n",
    "    normalized_lateral_distance = np.clip(lateral_distance / max_distance, -1, 1)\n",
    "\n",
    "    return normalized_lateral_distance, lateral_distance\n",
    "\n",
    "norm_lateral_distance, lateral_distance = get_lateral_distance(vehicle, next_wp)\n",
    "print(\"The lateral distance is: \", lateral_distance)\n",
    "print(\"The normalized lateral distance is: \", norm_lateral_distance)"
   ]
  },
  {
   "cell_type": "code",
   "execution_count": 19,
   "metadata": {},
   "outputs": [
    {
     "name": "stdout",
     "output_type": "stream",
     "text": [
      "the relateve heading is: -3.400500863790512e-05\n"
     ]
    }
   ],
   "source": [
    "def get_relative_heading(vehicle_transform, waypoint_transform):\n",
    "    # Extract vehicle and waypoint yaw in degrees\n",
    "    vehicle_yaw = vehicle_transform.rotation.yaw\n",
    "    waypoint_yaw = waypoint_transform.rotation.yaw\n",
    "    \n",
    "    # Compute relative heading (difference between vehicle and waypoint yaw)\n",
    "    relative_heading = (vehicle_yaw - waypoint_yaw) % 360\n",
    "    \n",
    "    # Normalize to [-180, 180] range\n",
    "    if relative_heading > 180:\n",
    "        relative_heading -= 360\n",
    "    normalized_heading = relative_heading / 180.0\n",
    "    return np.clip(normalized_heading, -1, 1)\n",
    "\n",
    "print('the relateve heading is:', get_relative_heading(vehicle.get_transform(), next_wp.transform))\n"
   ]
  },
  {
   "cell_type": "code",
   "execution_count": 18,
   "metadata": {},
   "outputs": [
    {
     "name": "stdout",
     "output_type": "stream",
     "text": [
      "the future headings are: [0.0027809961959374724, -0.002774559359618083, 0.0027809961959374724]\n"
     ]
    }
   ],
   "source": [
    "\n",
    "def get_future_headings(vehicle_transform, waypoints):\n",
    "    headings = []\n",
    "    for waypoint in waypoints[:3]:  # Get the heading to the next 3 waypoints\n",
    "        heading = get_relative_heading(vehicle_transform, waypoint.transform)\n",
    "        headings.append(heading/180)\n",
    "    return headings  # Return a list of normalized headings\n",
    "print('the future headings are:', get_future_headings(vehicle.get_transform(), unique_waypoints))\n"
   ]
  },
  {
   "cell_type": "code",
   "execution_count": 20,
   "metadata": {},
   "outputs": [
    {
     "name": "stdout",
     "output_type": "stream",
     "text": [
      "Actor(id=135, type=vehicle.tesla.model3)\n"
     ]
    },
    {
     "ename": "",
     "evalue": "",
     "output_type": "error",
     "traceback": [
      "\u001b[1;31mThe Kernel crashed while executing code in the current cell or a previous cell. \n",
      "\u001b[1;31mPlease review the code in the cell(s) to identify a possible cause of the failure. \n",
      "\u001b[1;31mClick <a href='https://aka.ms/vscodeJupyterKernelCrash'>here</a> for more info. \n",
      "\u001b[1;31mView Jupyter <a href='command:jupyter.viewOutput'>log</a> for further details."
     ]
    }
   ],
   "source": [
    "for actor in world.get_actors().filter('*vehicle*'):\n",
    "    print(actor)"
   ]
  }
 ],
 "metadata": {
  "kernelspec": {
   "display_name": "rlvenv",
   "language": "python",
   "name": "python3"
  },
  "language_info": {
   "codemirror_mode": {
    "name": "ipython",
    "version": 3
   },
   "file_extension": ".py",
   "mimetype": "text/x-python",
   "name": "python",
   "nbconvert_exporter": "python",
   "pygments_lexer": "ipython3",
   "version": "3.8.7"
  },
  "orig_nbformat": 4
 },
 "nbformat": 4,
 "nbformat_minor": 2
}
