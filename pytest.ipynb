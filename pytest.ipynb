{
 "cells": [
  {
   "cell_type": "code",
   "execution_count": 36,
   "metadata": {},
   "outputs": [],
   "source": [
    "#all imports\n",
    "import carla #the sim library itself\n",
    "import time # to set a delay after each photo\n",
    "import numpy as np #in this example to change image representation - re-shaping\n",
    "import math\n",
    "import sys\n",
    "import random\n",
    "import glob\n",
    "import os\n",
    "try:\n",
    "    sys.path.append(glob.glob('./carla/dist/carla-0.9.14-py3.7-win-amd64.egg')[0])\n",
    "except IndexError:\n",
    "    print('Couldn\\'t import Carla egg properly')\n",
    "import carla\n",
    "try:\n",
    "    sys.path.insert(0,r'C:\\Users\\ashokkumar\\source\\repos\\AD\\carla')\n",
    "except IndexError:\n",
    "    pass\n",
    "\n",
    "from carla import ColorConverter as cc\n",
    "\n",
    "from scipy.spatial import KDTree\n",
    "\n",
    "SECONDS_PER_EPISODE = 25\n",
    "\n",
    "SECONDS_PER_EPISODE = 10  # seconds per episode maybe needs to be removed later\n",
    "FIXED_DELTA_SECONDS = 0.02 # seconds per frame\n",
    "SHOW_PREVIEW = True # Show preview for debugging\n",
    "NO_RENDERING = False # No rendering for training\n",
    "SYNCRONOUST_MODE = False # Synchronous mode for training\n",
    "SHOW_CAM = SHOW_PREVIEW     # render camera\n",
    "\n"
   ]
  },
  {
   "cell_type": "code",
   "execution_count": 37,
   "metadata": {},
   "outputs": [],
   "source": [
    "## INITIALIZE THE SIMULATOR\n",
    "\n",
    "# connect to the sim \n",
    "client = carla.Client('localhost', 2000)\n",
    "client.set_timeout(10.0)\n",
    "world = client.get_world()\n",
    "world = client.load_world('Town02')\n",
    "\n",
    "settings = world.get_settings()\n",
    "settings.no_rendering_mode = NO_RENDERING\n",
    "settings.synchronous_mode = SYNCRONOUST_MODE\n",
    "settings.fixed_delta_seconds = FIXED_DELTA_SECONDS\n",
    "world.apply_settings(settings)\n",
    "blueprint_library = world.get_blueprint_library()\n",
    "actor_list = []\n",
    "vehicle = None\n",
    "collision_hist = []\n",
    "\n",
    "# get map look at the map\n",
    "if SHOW_CAM:\n",
    "    spectator = world.get_spectator()\n",
    "\n",
    "town_map = world.get_map()\n",
    "roads = town_map.get_topology()\n"
   ]
  },
  {
   "cell_type": "code",
   "execution_count": 12,
   "metadata": {},
   "outputs": [],
   "source": [
    "\n",
    "blueprint_library = world.get_blueprint_library()\n",
    "model_3 = blueprint_library.find('vehicle.tesla.model3')"
   ]
  },
  {
   "cell_type": "code",
   "execution_count": 5,
   "metadata": {},
   "outputs": [],
   "source": [
    "spectator.set_transform(carla.Transform(carla.Location(x=193.779999, y=171.289993, z=0.500000), carla.Rotation(pitch=-90)))\n"
   ]
  },
  {
   "cell_type": "code",
   "execution_count": 38,
   "metadata": {},
   "outputs": [],
   "source": [
    "spawn_points = world.get_map().get_spawn_points()\n",
    "for i, spawn_point in enumerate(spawn_points):\n",
    "    # Draw in the spectator window the spawn point index\n",
    "    world.debug.draw_string(spawn_point.location, str(i), life_time=100)\n",
    "    world.debug.draw_arrow(spawn_point.location, spawn_point.location + spawn_point.get_forward_vector(), life_time=100)\n"
   ]
  },
  {
   "cell_type": "code",
   "execution_count": 26,
   "metadata": {},
   "outputs": [],
   "source": [
    "vehicle.destroy()\n",
    "vehicle = world.spawn_actor(model_3, spawn_points[12])"
   ]
  },
  {
   "cell_type": "markdown",
   "metadata": {},
   "source": [
    "Current waypoint: Location(x=193.682220, y=172.089539, z=0.000000)\n",
    "Target waypoint: Location(x=193.681534, y=169.089539, z=0.000000)"
   ]
  },
  {
   "cell_type": "code",
   "execution_count": 27,
   "metadata": {},
   "outputs": [],
   "source": [
    "world.debug.draw_string(carla.Location(x=193.682220, y=172.089539, z=0.000000), 'O', draw_shadow=False,\n",
    "        color=carla.Color(255, 0, 0), life_time=50, persistent_lines=True)\n",
    "\n",
    "world.debug.draw_string(carla.Location(x=193.681534, y=169.089539, z=0.000000), 'O', draw_shadow=False,\n",
    "        color=carla.Color(255, 0, 0), life_time=50, persistent_lines=True)\n"
   ]
  },
  {
   "cell_type": "code",
   "execution_count": 31,
   "metadata": {},
   "outputs": [],
   "source": [
    "spectator.set_transform(carla.Transform(carla.Location(x=25.530020, y=105.549988, z=0.500000), carla.Rotation(pitch=-90)))\n"
   ]
  },
  {
   "cell_type": "code",
   "execution_count": 33,
   "metadata": {},
   "outputs": [],
   "source": [
    "vehicle_1 = world.spawn_actor(model_3, spawn_points[28])\n",
    "\n",
    "\n",
    "world.debug.draw_string(carla.Location(x=193.682220, y=172.089539, z=0.000000), 'O', draw_shadow=False,\n",
    "        color=carla.Color(255, 0, 0), life_time=50, persistent_lines=True)\n",
    "\n",
    "world.debug.draw_string(carla.Location(x=193.681534, y=169.089539, z=0.000000), 'O', draw_shadow=False,\n",
    "        color=carla.Color(255, 0, 0), life_time=50, persistent_lines=True)"
   ]
  },
  {
   "cell_type": "code",
   "execution_count": 35,
   "metadata": {},
   "outputs": [],
   "source": [
    "spawn_points = world.get_map().get_spawn_points()\n",
    "\n",
    "for i, spawn_point in enumerate(spawn_points):\n",
    "    # Draw in the spectator window the spawn point index\n",
    "    world.debug.draw_string(spawn_point.location, str(i), life_time=100)\n",
    "    # We can also draw an arrow to see the orientation of the spawn point\n",
    "    # (i.e. which way the vehicle will be facing when spawned)\n",
    "    world.debug.draw_arrow(spawn_point.location, spawn_point.location + spawn_point.get_forward_vector(), life_time=100)\n",
    "\n"
   ]
  },
  {
   "cell_type": "code",
   "execution_count": null,
   "metadata": {},
   "outputs": [],
   "source": [
    "def calculate_relative_yaw(vehicle_transform, waypoint):\n",
    "        # Extract yaw angles from vehicle and waypoint\n",
    "        vehicle_yaw = vehicle_transform.rotation.yaw % 360\n",
    "        waypoint_yaw = waypoint.transform.rotation.yaw % 360\n",
    "\n",
    "        # Calculate the yaw difference, ensuring it's within [-180, 180] range\n",
    "        yaw_diff = vehicle_yaw - waypoint_yaw\n",
    "\n",
    "        if yaw_diff > 180:\n",
    "            yaw_diff -= 360\n",
    "        elif yaw_diff < -180:\n",
    "            yaw_diff += 360\n",
    "\n",
    "        return yaw_diff"
   ]
  },
  {
   "cell_type": "markdown",
   "metadata": {},
   "source": [
    "### Vehicle (x=196.060120, y=243.630508, z=0.271711), Yaw:12.253863334655762, WP_Yaw:56.278587341308594 relative_yaw: -44.02472400665283"
   ]
  },
  {
   "cell_type": "code",
   "execution_count": 5,
   "metadata": {},
   "outputs": [
    {
     "name": "stdout",
     "output_type": "stream",
     "text": [
      "158\n"
     ]
    },
    {
     "ename": "",
     "evalue": "",
     "output_type": "error",
     "traceback": [
      "\u001b[1;31mThe Kernel crashed while executing code in the current cell or a previous cell. \n",
      "\u001b[1;31mPlease review the code in the cell(s) to identify a possible cause of the failure. \n",
      "\u001b[1;31mClick <a href='https://aka.ms/vscodeJupyterKernelCrash'>here</a> for more info. \n",
      "\u001b[1;31mView Jupyter <a href='command:jupyter.viewOutput'>log</a> for further details."
     ]
    }
   ],
   "source": [
    "vehicle_yaw =  68 % 360\n",
    "waypoint_yaw = -90 % 360\n",
    "\n",
    "# Calculate the yaw difference, ensuring it's within [-180, 180] range\n",
    "yaw_diff = vehicle_yaw - waypoint_yaw\n",
    "\n",
    "if yaw_diff > 180:\n",
    "    yaw_diff -= 360\n",
    "elif yaw_diff < -180:\n",
    "    yaw_diff += 360\n",
    "\n",
    "print(yaw_diff)"
   ]
  },
  {
   "cell_type": "code",
   "execution_count": 5,
   "metadata": {},
   "outputs": [
    {
     "name": "stdout",
     "output_type": "stream",
     "text": [
      "354.89363861083984\n",
      "305.10636138916016\n",
      "-0.30496465894911023\n",
      "-0.30496465894911023\n"
     ]
    }
   ],
   "source": [
    "vehicle_yaw = 149.94712829589844\n",
    "waypoint_yaw = -90.00496673583984 \n",
    "num_lookahead = 5  # Number of waypoints to look ahead\n",
    "distance_lookahead = 3.0\n",
    "yaw_differences_sum = 0  # Accumulator for the sum of yaw differences\n",
    "turn_direction = 1\n",
    "for i in range(1, num_lookahead + 1):\n",
    "    # Fetch the next waypoint 'i' steps ahead\n",
    "    \n",
    "\n",
    "    yaw_diff = 60 % 360\n",
    "    yaw_diff = yaw_diff if yaw_diff <= 180 else 360 - yaw_diff\n",
    "    \n",
    "    # Accumulate the yaw difference\n",
    "    yaw_differences_sum += yaw_diff\n",
    "\n",
    "vehicle_yaw = vehicle_yaw % 360     \n",
    "relative_yaw = (vehicle_yaw - waypoint_yaw) % 360  \n",
    "print(relative_yaw)          \n",
    "# Calculate relative heading as the difference between the yaw sum and the vehicle's yaw\n",
    "relative_heading = (yaw_differences_sum - turn_direction*relative_yaw) % 360\n",
    "print(relative_heading)\n",
    "# Normalize to [-180, 180] range\n",
    "if relative_heading > 180:\n",
    "    relative_heading -= 360\n",
    "\n",
    "# Adjust the heading based on the turn direction\n",
    "normalized_heading = turn_direction * (relative_heading / 180.0)\n",
    "print(normalized_heading)\n",
    "print(np.clip(normalized_heading, -1, 1))\n"
   ]
  },
  {
   "cell_type": "markdown",
   "metadata": {},
   "source": [
    "## Train"
   ]
  },
  {
   "cell_type": "code",
   "execution_count": null,
   "metadata": {},
   "outputs": [],
   "source": []
  }
 ],
 "metadata": {
  "kernelspec": {
   "display_name": "rlvenv",
   "language": "python",
   "name": "python3"
  },
  "language_info": {
   "codemirror_mode": {
    "name": "ipython",
    "version": 3
   },
   "file_extension": ".py",
   "mimetype": "text/x-python",
   "name": "python",
   "nbconvert_exporter": "python",
   "pygments_lexer": "ipython3",
   "version": "3.8.7"
  },
  "orig_nbformat": 4
 },
 "nbformat": 4,
 "nbformat_minor": 2
}
