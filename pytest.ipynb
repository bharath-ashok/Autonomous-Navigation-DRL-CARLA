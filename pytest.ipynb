{
 "cells": [
  {
   "cell_type": "code",
   "execution_count": 2,
   "metadata": {},
   "outputs": [],
   "source": [
    "#all imports\n",
    "import carla #the sim library itself\n",
    "import time # to set a delay after each photo\n",
    "import numpy as np #in this example to change image representation - re-shaping\n",
    "import math\n",
    "import sys\n",
    "import random\n",
    "import glob\n",
    "import os\n",
    "try:\n",
    "    sys.path.append(glob.glob('./carla/dist/carla-0.9.14-py3.7-win-amd64.egg')[0])\n",
    "except IndexError:\n",
    "    print('Couldn\\'t import Carla egg properly')\n",
    "import carla\n",
    "try:\n",
    "    sys.path.insert(0,r'C:\\Users\\ashokkumar\\source\\repos\\AD\\carla')\n",
    "except IndexError:\n",
    "    pass\n",
    "\n",
    "from carla import ColorConverter as cc\n",
    "from agents.navigation.global_route_planner import GlobalRoutePlanner\n",
    "\n",
    "from scipy.spatial import KDTree\n",
    "\n",
    "SECONDS_PER_EPISODE = 25\n",
    "\n",
    "SECONDS_PER_EPISODE = 10  # seconds per episode maybe needs to be removed later\n",
    "FIXED_DELTA_SECONDS = 0.02 # seconds per frame\n",
    "SHOW_PREVIEW = True # Show preview for debugging\n",
    "NO_RENDERING = False # No rendering for training\n",
    "SYNCRONOUST_MODE = False # Synchronous mode for training\n",
    "SHOW_CAM = SHOW_PREVIEW     # render camera\n",
    "\n"
   ]
  },
  {
   "cell_type": "code",
   "execution_count": 3,
   "metadata": {},
   "outputs": [],
   "source": [
    "## INITIALIZE THE SIMULATOR\n",
    "\n",
    "# connect to the sim \n",
    "client = carla.Client('localhost', 2000)\n",
    "client.set_timeout(10.0)\n",
    "world = client.get_world()\n",
    "world = client.load_world('Town02')\n",
    "\n",
    "settings = world.get_settings()\n",
    "settings.no_rendering_mode = NO_RENDERING\n",
    "settings.synchronous_mode = SYNCRONOUST_MODE\n",
    "settings.fixed_delta_seconds = FIXED_DELTA_SECONDS\n",
    "world.apply_settings(settings)\n",
    "blueprint_library = world.get_blueprint_library()\n",
    "actor_list = []\n",
    "vehicle = None\n",
    "collision_hist = []\n",
    "\n",
    "# get map look at the map\n",
    "if SHOW_CAM:\n",
    "    spectator = world.get_spectator()\n",
    "\n",
    "town_map = world.get_map()\n",
    "roads = town_map.get_topology()\n"
   ]
  },
  {
   "cell_type": "code",
   "execution_count": 4,
   "metadata": {},
   "outputs": [],
   "source": [
    "\n",
    "blueprint_library = world.get_blueprint_library()\n",
    "model_3 = blueprint_library.find('vehicle.tesla.model3')"
   ]
  },
  {
   "cell_type": "markdown",
   "metadata": {},
   "source": [
    "Current waypoint: Location(x=193.682220, y=172.089539, z=0.000000)\n",
    "Target waypoint: Location(x=193.681534, y=169.089539, z=0.000000)"
   ]
  },
  {
   "cell_type": "code",
   "execution_count": 5,
   "metadata": {},
   "outputs": [],
   "source": [
    "spawn_points = world.get_map().get_spawn_points()\n",
    "\n",
    "for i, spawn_point in enumerate(spawn_points):\n",
    "    world.debug.draw_string(spawn_point.location, str(i), life_time=100)\n",
    "    world.debug.draw_arrow(spawn_point.location, spawn_point.location + spawn_point.get_forward_vector(), life_time=100)\n",
    "\n"
   ]
  },
  {
   "cell_type": "code",
   "execution_count": 6,
   "metadata": {},
   "outputs": [],
   "source": [
    "vehicle = world.spawn_actor(model_3, spawn_points[14])\n",
    "traffic_lights = world.get_actors().filter('traffic.traffic_light')\n"
   ]
  },
  {
   "cell_type": "code",
   "execution_count": 7,
   "metadata": {},
   "outputs": [],
   "source": [
    "map = world.get_map()\n",
    "route_planner = GlobalRoutePlanner(map, sampling_resolution=1)\n",
    "spawn_points = map.get_spawn_points()    "
   ]
  },
  {
   "cell_type": "code",
   "execution_count": 8,
   "metadata": {},
   "outputs": [
    {
     "name": "stdout",
     "output_type": "stream",
     "text": [
      "207\n"
     ]
    }
   ],
   "source": [
    "start_waypoint = spawn_points[14]\n",
    "dest_waypoint = random.choice(spawn_points)\n",
    "route = route_planner.trace_route(start_waypoint.location, dest_waypoint.location)\n",
    "print(len(route))\n",
    "spectator.set_transform(vehicle.get_transform())"
   ]
  },
  {
   "cell_type": "code",
   "execution_count": 9,
   "metadata": {},
   "outputs": [],
   "source": [
    "for wp in route:\n",
    "    world.debug.draw_string(wp[0].transform.location, 'O', draw_shadow=False,\n",
    "                            color=carla.Color(r=0, g=255, b=0), life_time=1000,\n",
    "                            persistent_lines=True)\n",
    "    world.debug.draw_point(wp[0].transform.location, size=0.1, color=carla.Color(r=0, g=255, b=0), life_time=1000,\n",
    "                            persistent_lines=True)"
   ]
  },
  {
   "cell_type": "code",
   "execution_count": 10,
   "metadata": {},
   "outputs": [],
   "source": [
    "traffic_lights = world.get_actors().filter('traffic.traffic_light')\n"
   ]
  },
  {
   "cell_type": "code",
   "execution_count": 11,
   "metadata": {},
   "outputs": [],
   "source": [
    "def update_traffic_light_info(traffic_lights, route):\n",
    "    \"\"\"\n",
    "    Updates the information of traffic lights that are within 2 meters\n",
    "    of any waypoint in the current route.\n",
    "    \"\"\"\n",
    "    traffic_light_info = []\n",
    "    for tl in traffic_lights:\n",
    "        tl_waypoints = tl.get_stop_waypoints()\n",
    "\n",
    "        if tl_waypoints:\n",
    "            tl_location = tl_waypoints[0].transform.location\n",
    "            # Check if the traffic light waypoint is within 2 meters of any waypoint in the route\n",
    "            for waypoint, _ in route:\n",
    "                if waypoint.transform.location.distance(tl_location) < 2:\n",
    "                    tl_info = (tl, tl_waypoints[0])\n",
    "                    if tl_info not in traffic_light_info:\n",
    "                        traffic_light_info.append(tl_info)\n",
    "    \n",
    "    return traffic_light_info\n"
   ]
  },
  {
   "cell_type": "code",
   "execution_count": 12,
   "metadata": {},
   "outputs": [
    {
     "name": "stdout",
     "output_type": "stream",
     "text": [
      "Red\n",
      "Location(x=132.130005, y=219.192657, z=0.000000)\n",
      "Red\n",
      "Location(x=153.534256, y=187.622604, z=0.000000)\n",
      "Green\n",
      "Location(x=189.681595, y=169.374588, z=0.000000)\n",
      "Red\n",
      "Location(x=171.956711, y=240.947983, z=0.000000)\n"
     ]
    }
   ],
   "source": [
    "traffic_lights_info = update_traffic_light_info(traffic_lights, route)\n",
    "for x in traffic_lights_info:\n",
    "    print(x[0].get_state())\n",
    "    print(x[1].transform.location)\n",
    "    world.debug.draw_string(x[1].transform.location, 'O', draw_shadow=False, color=carla.Color(r=0, g=0, b=255), life_time=10, persistent_lines=True)"
   ]
  },
  {
   "cell_type": "code",
   "execution_count": 13,
   "metadata": {},
   "outputs": [
    {
     "name": "stdout",
     "output_type": "stream",
     "text": [
      "4\n"
     ]
    }
   ],
   "source": [
    "print(len(traffic_lights_info))\n",
    "world.debug.draw_string(start_waypoint.location, 'O', draw_shadow=False, color=carla.Color(r=0, g=0, b=255), life_time=10, persistent_lines=True)"
   ]
  },
  {
   "cell_type": "code",
   "execution_count": 14,
   "metadata": {},
   "outputs": [],
   "source": [
    "def get_traffic_light_info(vehicle_transform, current_waypoint, route, traffic_light_info):\n",
    "    vehicle_location = vehicle_transform.location\n",
    "    # Find the segment of the route that is ahead of the vehicle\n",
    "    route_tl = _get_route_segment(current_waypoint,route, length=51)\n",
    "    print(len(route_tl))\n",
    "    # Check for any traffic lights that impact this segment\n",
    "    for tl, tl_waypoint in traffic_light_info:\n",
    "        if any(_is_waypoint_close(waypoint, tl_waypoint) for waypoint, _ in route_tl):\n",
    "            print('found')\n",
    "            stop_distance = tl_waypoint.transform.location.distance(vehicle_location)\n",
    "            return tl.get_state(), stop_distance\n",
    "    return 0, 0  # Default if no traffic light affects the route\n",
    "\n",
    "def _get_route_segment( current_waypoint, route, length=51):\n",
    "    \"\"\"Returns a sublist of self.route starting from the current_waypoint.\"\"\"\n",
    "    if not route:\n",
    "        print('no route')\n",
    "        return []\n",
    "    try:\n",
    "        start_index = next(\n",
    "            i for i, (waypoint, _) in enumerate(route)\n",
    "            if waypoint == current_waypoint\n",
    "        )\n",
    "        end_index = min(start_index + length, len(route))\n",
    "        return route[start_index:end_index]\n",
    "    except StopIteration:\n",
    "        return []\n",
    "    except Exception as e:\n",
    "        return []\n",
    "    \n",
    "def _is_waypoint_close( waypoint, target_waypoint, threshold=2.0):\n",
    "    \"\"\"Checks if a waypoint is within a certain distance (threshold) of the target waypoint.\"\"\"\n",
    "    distance = waypoint.transform.location.distance(target_waypoint.transform.location)\n",
    "    return distance < threshold"
   ]
  },
  {
   "cell_type": "code",
   "execution_count": 15,
   "metadata": {},
   "outputs": [
    {
     "name": "stdout",
     "output_type": "stream",
     "text": [
      "51\n",
      "found\n",
      "Green 8.807050704956055\n"
     ]
    }
   ],
   "source": [
    "world.tick()\n",
    "vehicle_transform = vehicle.get_transform()\n",
    "state, distance = get_traffic_light_info(vehicle_transform, route[0][0], route, traffic_lights_info)\n",
    "print(state, distance)"
   ]
  },
  {
   "cell_type": "code",
   "execution_count": 16,
   "metadata": {},
   "outputs": [
    {
     "name": "stdout",
     "output_type": "stream",
     "text": [
      "Waypoint(Transform(Location(x=189.681580, y=161.067245, z=0.000000), Rotation(pitch=360.000000, yaw=90.077835, roll=0.000000)))\n",
      "Transform(Location(x=189.929993, y=160.580002, z=0.500000), Rotation(pitch=0.000000, yaw=89.999954, roll=0.000000))\n"
     ]
    }
   ],
   "source": [
    "current_waypoint = route[0][0]\n",
    "print(current_waypoint)\n",
    "print(start_waypoint)"
   ]
  },
  {
   "cell_type": "code",
   "execution_count": 17,
   "metadata": {},
   "outputs": [
    {
     "name": "stdout",
     "output_type": "stream",
     "text": [
      "51\n",
      "found\n",
      "Green 8.807050704956055\n"
     ]
    }
   ],
   "source": [
    "vehicle_location = vehicle_transform.location\n",
    "current_waypoint = route[0][0]\n",
    "# Find the segment of the route that is ahead of the vehicle\n",
    "route_tl = _get_route_segment(current_waypoint ,route, length=51)\n",
    "print(len(route_tl))\n",
    "# Check for any traffic lights that impact this segment\n",
    "for tl, tl_waypoint in traffic_lights_info:\n",
    "    if any(_is_waypoint_close(waypoint, tl_waypoint) for waypoint, _ in route_tl):\n",
    "        print('found')\n",
    "        stop_distance = tl_waypoint.transform.location.distance(vehicle_location)\n",
    "        tl.set_state(carla.TrafficLightState.Red)\n",
    "        state, distance = tl.get_state(), stop_distance\n",
    "        \n",
    "\n",
    "print(state, distance)"
   ]
  },
  {
   "cell_type": "code",
   "execution_count": 18,
   "metadata": {},
   "outputs": [
    {
     "name": "stdout",
     "output_type": "stream",
     "text": [
      "2.0\n",
      "10.0\n"
     ]
    }
   ],
   "source": [
    "tl.set_state(carla.TrafficLightState.Red)\n",
    "world.tick()\n",
    "print(tl.get_red_time())\n",
    "print(tl.get_green_time())\n"
   ]
  },
  {
   "cell_type": "code",
   "execution_count": 22,
   "metadata": {},
   "outputs": [
    {
     "data": {
      "text/plain": [
       "carla.libcarla.TrafficLightState.Green"
      ]
     },
     "execution_count": 22,
     "metadata": {},
     "output_type": "execute_result"
    }
   ],
   "source": [
    "tl.set_state(carla.TrafficLightState.Green)\n",
    "tl.get_state()"
   ]
  }
 ],
 "metadata": {
  "kernelspec": {
   "display_name": "rlvenv",
   "language": "python",
   "name": "python3"
  },
  "language_info": {
   "codemirror_mode": {
    "name": "ipython",
    "version": 3
   },
   "file_extension": ".py",
   "mimetype": "text/x-python",
   "name": "python",
   "nbconvert_exporter": "python",
   "pygments_lexer": "ipython3",
   "version": "3.8.7"
  },
  "orig_nbformat": 4
 },
 "nbformat": 4,
 "nbformat_minor": 2
}
