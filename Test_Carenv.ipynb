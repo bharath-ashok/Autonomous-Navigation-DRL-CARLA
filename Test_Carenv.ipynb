{
 "cells": [
  {
   "cell_type": "markdown",
   "metadata": {},
   "source": [
    "Full code to make all waypoints from road sections "
   ]
  },
  {
   "cell_type": "code",
   "execution_count": 1,
   "metadata": {},
   "outputs": [],
   "source": [
    "#all imports\n",
    "import carla #the sim library itself\n",
    "import time # to set a delay after each photo\n",
    "import numpy as np #in this example to change image representation - re-shaping\n",
    "import math\n",
    "import sys\n",
    "import random\n",
    "import glob\n",
    "import os\n",
    "try:\n",
    "    sys.path.append(glob.glob('./carla/dist/carla-0.9.14-py3.7-win-amd64.egg')[0])\n",
    "except IndexError:\n",
    "    print('Couldn\\'t import Carla egg properly')\n",
    "import carla\n",
    "\n",
    "try:\n",
    "    sys.path.insert(0,r'C:\\Users\\ashokkumar\\source\\repos\\AD\\carla')\n",
    "except IndexError:\n",
    "    pass\n",
    "\n",
    "from carla import ColorConverter as cc\n",
    "from agents.navigation.global_route_planner import GlobalRoutePlanner\n",
    "from scipy.spatial import KDTree\n",
    "\n",
    "SECONDS_PER_EPISODE = 25\n",
    "\n",
    "SECONDS_PER_EPISODE = 10  # seconds per episode maybe needs to be removed later\n",
    "FIXED_DELTA_SECONDS = 0.02 # seconds per frame\n",
    "SHOW_PREVIEW = True # Show preview for debugging\n",
    "NO_RENDERING = False # No rendering for training\n",
    "SYNCRONOUST_MODE = False # Synchronous mode for training\n",
    "SPIN = 10   # angle of spin for initail spawn\n",
    "HEIGHT = 480 # height of image\n",
    "WIDTH = 640 # width of image\n",
    "SHOW_CAM = SHOW_PREVIEW     # render camera\n",
    "front_camera = None\n",
    "CAMERA_POS_Z = 1.3      # camera position similar to tesla model 3\n",
    "CAMERA_POS_X = 1.4    # camera position similar to tesla model 3\n",
    "im_width = WIDTH\n",
    "im_height = HEIGHT\n"
   ]
  },
  {
   "cell_type": "code",
   "execution_count": 2,
   "metadata": {},
   "outputs": [],
   "source": [
    "## INITIALIZE THE SIMULATOR\n",
    "\n",
    "# connect to the sim \n",
    "client = carla.Client('localhost', 2000)\n",
    "client.set_timeout(10.0)\n",
    "world = client.get_world()\n",
    "world = client.load_world('Town02')\n",
    "\n",
    "settings = world.get_settings()\n",
    "settings.no_rendering_mode = NO_RENDERING\n",
    "settings.synchronous_mode = SYNCRONOUST_MODE\n",
    "settings.fixed_delta_seconds = FIXED_DELTA_SECONDS\n",
    "world.apply_settings(settings)\n",
    "blueprint_library = world.get_blueprint_library()\n",
    "actor_list = []\n",
    "vehicle = None\n",
    "collision_hist = []\n",
    "\n",
    "# get map look at the map\n",
    "if SHOW_CAM:\n",
    "    spectator = world.get_spectator()\n",
    "\n",
    "town_map = world.get_map()\n",
    "roads = town_map.get_topology()\n",
    "\n"
   ]
  },
  {
   "cell_type": "code",
   "execution_count": 3,
   "metadata": {},
   "outputs": [
    {
     "name": "stdout",
     "output_type": "stream",
     "text": [
      "Generated 770 waypoints\n"
     ]
    }
   ],
   "source": [
    "# Define the waypoint and KDTree generation logic\n",
    "\n",
    "town_map = world.get_map()\n",
    "waypoints = town_map.generate_waypoints(4)\n",
    "waypoint_positions = np.array([(wp.transform.location.x, wp.transform.location.y) for wp in waypoints])\n",
    "waypoint_tree = KDTree(waypoint_positions)\n",
    "spawn_position = None        \n",
    "start_waypoint = None\n",
    "dest_waypoint = None\n",
    "observation = None\n",
    "\n",
    "print(f\"Generated {len(waypoints)} waypoints\")\n",
    "# draw all point in the sim for 60 seconds\n",
    "for wp in waypoints:\n",
    "    world.debug.draw_string(wp.transform.location, '^', draw_shadow=False,\n",
    "        color=carla.Color(r=0, g=0, b=255), life_time=20.0,\n",
    "        persistent_lines=True)\n",
    "\n"
   ]
  },
  {
   "cell_type": "markdown",
   "metadata": {},
   "source": [
    "### Functions"
   ]
  },
  {
   "cell_type": "code",
   "execution_count": 4,
   "metadata": {},
   "outputs": [],
   "source": [
    "## CLEANUP THE SIMULATOR\n",
    "def cleanup():\n",
    "    for actor in actor_list:\n",
    "        actor.destroy()\n",
    "        actor_list.pop(actor_list.index(actor))                  \n",
    "    world.tick()\n"
   ]
  },
  {
   "cell_type": "code",
   "execution_count": 5,
   "metadata": {},
   "outputs": [],
   "source": [
    "## SPAWN THE VEHICLE\n",
    "def spawn_vehicle(spawn_point):\n",
    "    transform = spawn_point\n",
    "    blueprint_library = world.get_blueprint_library()\n",
    "    model_3 = blueprint_library.find('vehicle.tesla.model3')\n",
    "    vehicle = None\n",
    "    while vehicle is None:\n",
    "        try:\n",
    "            vehicle = world.spawn_actor(model_3, transform)\n",
    "        except Exception as e:\n",
    "            print(f\"Failed to spawn vehicle: {e}\")\n",
    "            time.sleep(0.2)  # Brief delay before retrying\n",
    "    return vehicle"
   ]
  },
  {
   "cell_type": "code",
   "execution_count": 6,
   "metadata": {},
   "outputs": [],
   "source": [
    "def initial_waypoint(initial_pos):\n",
    "    # Query the KD-tree for the closest waypoint to initial_pos\n",
    "    _, closest_index = waypoint_tree.query([initial_pos.x, initial_pos.y])\n",
    "    closest_waypoint = waypoints[closest_index]\n",
    "    return closest_waypoint\n",
    "\n",
    "def next_waypoint(start_waypoint, look_ahead=5.0):\n",
    "    next_wps = start_waypoint.next(look_ahead)\n",
    "    if next_wps:\n",
    "        return next_wps[0]\n",
    "    else:\n",
    "        # Handle the case where no next waypoint is found\n",
    "        print(\"No next waypoint found\")\n",
    "        return None\n",
    "    \n",
    "def draw_waypoint(waypoint, color=carla.Color(255, 0, 0), lt=20.0):\n",
    "    world.debug.draw_string(waypoint.transform.location, 'O', draw_shadow=False,\n",
    "        color=color, life_time=lt, persistent_lines=True)\n",
    "    \n",
    "def vector3d_to_location(vector):\n",
    "    return carla.Location(x=vector.x, y=vector.y, z=vector.z)\n",
    "\n",
    "def draw_arrow(start_location, end_location,color=carla.Color(255, 0, 0), lt=20.0):\n",
    "    if start_location and end_location:\n",
    "        start_location = vector3d_to_location(start_location)\n",
    "        end_location = vector3d_to_location(end_location)\n",
    "        end_location += carla.Location(z=2)\n",
    "        start_location += carla.Location(z=2)\n",
    "        world.debug.draw_arrow(start_location, end_location, thickness=0.1, arrow_size=0.3, color=color, life_time=lt)\n",
    "\n",
    "def draw_heading_arrow(location, yaw, length=5.0, color=carla.Color(255, 0, 0), life_time=5.0):\n",
    "    yaw_corrected = (yaw) % 360\n",
    "\n",
    "    # Convert yaw from degrees to radians\n",
    "    yaw_rad = np.deg2rad(yaw_corrected)\n",
    "\n",
    "    # Compute the direction vector based on the corrected yaw (heading)\n",
    "    direction_x = np.cos(yaw_rad)\n",
    "    direction_y = np.sin(yaw_rad)\n",
    "\n",
    "    # Calculate the end location of the arrow using the direction vector\n",
    "    end_location = carla.Location(\n",
    "        x=location.x + length * direction_x,\n",
    "        y=location.y + length * direction_y,\n",
    "        z=2\n",
    "    )\n",
    "    location.z = 2\n",
    "    # Draw the arrow in the CARLA world\n",
    "    world.debug.draw_arrow(\n",
    "        location,                 # Start point (the given location)\n",
    "        end_location,             # End point (direction of the yaw)\n",
    "        thickness=0.1,            # Arrow thickness\n",
    "        arrow_size=0.3,           # Arrowhead size\n",
    "        color=color,              # Color of the arrow\n",
    "        life_time=life_time       # How long the arrow will stay in the world (in seconds)\n",
    "    )\n",
    "\n",
    "def draw_relative_heading_arrow(vehicle_transform, waypoint_transform, length=5.0, color=carla.Color(0, 255, 0), life_time=5.0):\n",
    "# Extract vehicle and waypoint yaw in degrees\n",
    "    vehicle_yaw = vehicle_transform.rotation.yaw\n",
    "    waypoint_yaw = waypoint_transform.rotation.yaw\n",
    "\n",
    "    # Calculate the relative heading (difference between vehicle and waypoint yaw)\n",
    "    relative_heading = (vehicle_yaw - waypoint_yaw) % 360\n",
    "    if relative_heading > 180:\n",
    "        relative_heading -= 360\n",
    "\n",
    "    # The correct heading to draw the arrow is the vehicle's global yaw minus the relative heading\n",
    "    absolute_heading = vehicle_yaw - relative_heading\n",
    "\n",
    "    # Convert the absolute heading to radians\n",
    "    absolute_heading_rad = np.deg2rad(absolute_heading)\n",
    "\n",
    "    # Get the vehicle's current location\n",
    "    vehicle_location = vehicle_transform.location\n",
    "\n",
    "    # Compute the arrow's end location based on the absolute heading direction\n",
    "    arrow_end_location = carla.Location(\n",
    "        x=vehicle_location.x + length * np.cos(absolute_heading_rad),\n",
    "        y=vehicle_location.y + length * np.sin(absolute_heading_rad),\n",
    "        z=vehicle_location.z\n",
    "    )\n",
    "\n",
    "    # Draw an arrow in the CARLA world from the vehicle location in the direction of absolute heading\n",
    "    world.debug.draw_arrow(\n",
    "        vehicle_location,             # Start point (vehicle's current location)\n",
    "        arrow_end_location,           # End point (direction of the relative heading)\n",
    "        thickness=0.1,                # Arrow thickness\n",
    "        arrow_size=0.3,               # Arrowhead size\n",
    "        color=color,                  # Color of the arrow\n",
    "        life_time=life_time           # How long the arrow will stay in the world (in seconds)\n",
    "    )\n",
    "\n",
    "\n"
   ]
  },
  {
   "cell_type": "code",
   "execution_count": 7,
   "metadata": {},
   "outputs": [],
   "source": [
    "## OBSERVATION LOGIC - 1\n",
    "def get_speed(v, max_speed=50.0):\n",
    "    if not isinstance(v, carla.Vector3D):\n",
    "        print(\"Invalid velocity vector provided.\")\n",
    "        return 0\n",
    "    speed = int(3.6 * np.sqrt(v.x**2 + v.y**2 + v.z**2))\n",
    "    normalized_speed = np.clip(speed / max_speed, -1, 1)  # Normalize speed to [-1, 1]\n",
    "    return normalized_speed\n",
    "\n",
    "def get_relative_heading(vehicle_transform, waypoint):\n",
    "    # Extract vehicle and waypoint yaw in degrees\n",
    "    vehicle_yaw = vehicle_transform.rotation.yaw\n",
    "    current_waypoint = waypoint  # Start from the current waypoint\n",
    "    num_lookahead = 5  # Number of waypoints to look ahead\n",
    "    distance_lookahead = 3.0\n",
    "    yaw_differences_sum = 0  # Accumulator for the sum of yaw differences\n",
    "    turn_direction = turn_directon(vehicle_transform, waypoint, num_lookahead, distance_lookahead)\n",
    "    \n",
    "    for i in range(1, num_lookahead + 1):\n",
    "        # Fetch the next waypoint 'i' steps ahead\n",
    "        future_waypoint = next_waypoint(current_waypoint, distance_lookahead)\n",
    "        \n",
    "        if not future_waypoint:\n",
    "            break  # Stop if there's no more valid waypoints\n",
    "    \n",
    "        # Check if the current waypoint is part of a turn\n",
    "        future_yaw = future_waypoint.transform.rotation.yaw\n",
    "        yaw_diff = abs(current_waypoint.transform.rotation.yaw - future_yaw) % 360\n",
    "        yaw_diff = yaw_diff if yaw_diff <= 180 else 360 - yaw_diff\n",
    "        \n",
    "        # Accumulate the yaw difference\n",
    "        yaw_differences_sum += yaw_diff\n",
    "        \n",
    "        # Move to the next waypoint for the next iteration\n",
    "        current_waypoint = future_waypoint\n",
    "\n",
    "    vehicle_yaw = vehicle_yaw % 360            \n",
    "    # Calculate relative heading as the difference between the yaw sum and the vehicle's yaw\n",
    "    relative_heading = (yaw_differences_sum - vehicle_yaw) % 360\n",
    "    \n",
    "    # Normalize to [-180, 180] range\n",
    "    if relative_heading > 180:\n",
    "        relative_heading -= 360\n",
    "\n",
    "    # Adjust the heading based on the turn direction\n",
    "    normalized_heading = turn_direction * (relative_heading / 180.0)\n",
    "    return np.clip(normalized_heading, -1, 1)\n",
    "\n",
    "def turn_directon(vehicle_transform, waypoint, num_lookahead=5, distance_lookahead=3.0):\n",
    "    # Extract yaw angles from waypoints\n",
    "    vehicle_yaw = vehicle_transform.rotation.yaw  # Vehicle's current yaw\n",
    "    current_waypoint = waypoint  # Start from the current waypoint\n",
    "    future_waypoint = None\n",
    "    for i in range(1, num_lookahead + 1):\n",
    "        future_waypoint = next_waypoint(current_waypoint, distance_lookahead)\n",
    "        if not future_waypoint:\n",
    "            break  # Stop if there's no valid future waypoint\n",
    "        current_waypoint = future_waypoint  # Move to the next waypoint\n",
    "\n",
    "    if future_waypoint:\n",
    "        # Get the yaw of the future waypoint\n",
    "        future_yaw = future_waypoint.transform.rotation.yaw\n",
    "        \n",
    "        # Calculate the yaw difference between the vehicle and the future waypoint\n",
    "        yaw_diff = (future_yaw - vehicle_yaw) % 360\n",
    "        \n",
    "        # Normalize the yaw difference to the [-180, 180] range\n",
    "        if yaw_diff > 180:\n",
    "            yaw_diff -= 360\n",
    "        if yaw_diff > 0:  # If the future yaw is greater than the vehicle's yaw by a threshold\n",
    "            return 1\n",
    "        else:\n",
    "            return -1"
   ]
  },
  {
   "cell_type": "code",
   "execution_count": 8,
   "metadata": {},
   "outputs": [],
   "source": [
    "   \n",
    "def get_lateral_distance(vehicle_transform, waypoint, max_distance=3.0):\n",
    "    # Get the vehicle and waypoint positions\n",
    "    waypoint_location = waypoint.transform.location\n",
    "    waypoint_forward_vector = waypoint.transform.get_forward_vector()\n",
    "    vehicle_location = vehicle_transform.location\n",
    "\n",
    "    # Convert CARLA location objects to NumPy arrays for easier vector calculations\n",
    "    waypoint_location_np = np.array([waypoint_location.x, waypoint_location.y])\n",
    "    waypoint_forward_np = np.array([waypoint_forward_vector.x, waypoint_forward_vector.y])\n",
    "    vehicle_location_np = np.array([vehicle_location.x, vehicle_location.y])\n",
    "\n",
    "    # Normalize the waypoint's forward vector (this is the direction of the lane)\n",
    "    norm = np.linalg.norm(waypoint_forward_np)\n",
    "    if norm == 0:\n",
    "        return 0  # Prevent division by zero if the forward vector length is zero\n",
    "    waypoint_forward_np = waypoint_forward_np / norm\n",
    "\n",
    "    # Vector from the waypoint (center of the lane) to the vehicle\n",
    "    vehicle_vector_np = vehicle_location_np - waypoint_location_np\n",
    "\n",
    "    # Project the vehicle vector onto the waypoint's forward vector (lane direction)\n",
    "    projection_length = np.dot(vehicle_vector_np, waypoint_forward_np)\n",
    "    projection_point = projection_length * waypoint_forward_np\n",
    "\n",
    "    # Calculate the lateral distance between the vehicle and the center line\n",
    "    lateral_vector = vehicle_vector_np - projection_point\n",
    "    lateral_distance = np.linalg.norm(lateral_vector)\n",
    "\n",
    "    # Normalize the lateral distance to the range [-1, 1]\n",
    "    normalized_lateral_distance = np.clip(lateral_distance / max_distance, -1, 1)\n",
    "\n",
    "    # Check if the vehicle is to the left or right of the lane center by using a cross product\n",
    "    cross_product = np.cross(waypoint_forward_np, vehicle_vector_np)\n",
    "    if cross_product < 0:\n",
    "        # If the cross product is negative, the vehicle is to the right of the lane\n",
    "        normalized_lateral_distance *= -1\n",
    "\n",
    "    return normalized_lateral_distance"
   ]
  },
  {
   "cell_type": "code",
   "execution_count": 9,
   "metadata": {},
   "outputs": [],
   "source": [
    "## OBSERVATION LOGIC - 2\n",
    "\n",
    "def get_observation(vehicle_transform, dest_waypoint):\n",
    "        if vehicle and vehicle.is_alive:\n",
    "                velocity = vehicle.get_velocity()\n",
    "                speed = get_speed(velocity)\n",
    "        else:\n",
    "                speed = 0  # Default speed if vehicle is not available\n",
    "        lateral_distance = get_lateral_distance(vehicle_transform, dest_waypoint)\n",
    "        heading = get_relative_heading(vehicle_transform, dest_waypoint)\n",
    "        \n",
    "        print(f\"lateral_distance: {lateral_distance}, speed: {speed}, heading: {heading}\")\n",
    "        obs = np.array([\n",
    "                lateral_distance,\n",
    "                speed,\n",
    "                heading,\n",
    "        ], dtype=np.float32)\n",
    "        return obs"
   ]
  },
  {
   "cell_type": "code",
   "execution_count": 10,
   "metadata": {},
   "outputs": [],
   "source": [
    "spawn_points = world.get_map().get_spawn_points()\n",
    "\n",
    "for i, spawn_point in enumerate(spawn_points):\n",
    "    # Draw in the spectator window the spawn point index\n",
    "    world.debug.draw_string(spawn_point.location, str(i), life_time=400)\n",
    "    # We can also draw an arrow to see the orientation of the spawn point\n",
    "    # (i.e. which way the vehicle will be facing when spawned)\n",
    "    world.debug.draw_arrow(spawn_point.location, spawn_point.location + spawn_point.get_forward_vector(), life_time=100)\n",
    "\n"
   ]
  },
  {
   "cell_type": "code",
   "execution_count": 11,
   "metadata": {},
   "outputs": [
    {
     "name": "stdout",
     "output_type": "stream",
     "text": [
      "Location(x=-7.530000, y=142.190002, z=0.500000)\n"
     ]
    }
   ],
   "source": [
    "print(f\"{spawn_points[0].location}\")"
   ]
  },
  {
   "cell_type": "markdown",
   "metadata": {},
   "source": [
    "### Understanding Spawn points and Orientation"
   ]
  },
  {
   "cell_type": "code",
   "execution_count": null,
   "metadata": {},
   "outputs": [],
   "source": [
    "print(spawn_points[36])\n",
    "spawn_position = spawn_points[36]\n",
    "\n",
    "print(spawn_position)\n",
    "start_waypoint = initial_waypoint(spawn_position.location)\n",
    "start_waypoint.transform.location.x += 1\n",
    "draw_waypoint(start_waypoint, color=carla.Color(0, 255, 0), lt=20.0)\n",
    "print(start_waypoint)"
   ]
  },
  {
   "cell_type": "code",
   "execution_count": null,
   "metadata": {},
   "outputs": [],
   "source": [
    "## RESET THE SIMULATOR\n",
    "cleanup()\n",
    "vehicle = spawn_vehicle(spawn_position)\n",
    "actor_list.append(vehicle)\n",
    "world.tick()\n",
    "vehicle_transform = vehicle.get_transform()\n",
    "start_waypoint = initial_waypoint(vehicle_transform.location)\n",
    "dest_waypoint = next_waypoint(start_waypoint, 3)\n",
    "print(\"Vehicle spawned at location \", vehicle_transform.location)\n",
    "\n",
    "spectator.set_transform(carla.Transform(vehicle_transform.location + carla.Location(z=40), carla.Rotation(pitch=-90)))"
   ]
  },
  {
   "cell_type": "code",
   "execution_count": null,
   "metadata": {},
   "outputs": [],
   "source": [
    "\n",
    "print(\"Start waypoint: \", start_waypoint.transform)\n",
    "print(\"Vehicle transform: \", vehicle_transform)\n",
    "print (\"dest_waypoint: \", dest_waypoint)\n",
    "draw_waypoint(dest_waypoint, color=carla.Color(0, 255, 0), lt=20.0)\n"
   ]
  },
  {
   "cell_type": "code",
   "execution_count": null,
   "metadata": {},
   "outputs": [],
   "source": [
    "\n",
    "vehicle.set_transform(vehicle_transform)\n",
    "print(\"Vehicle transform after rotation: \", vehicle_transform)"
   ]
  },
  {
   "cell_type": "code",
   "execution_count": null,
   "metadata": {},
   "outputs": [],
   "source": [
    "print(\"Relative heading: \", get_relative_heading(vehicle_transform, dest_waypoint))"
   ]
  },
  {
   "cell_type": "code",
   "execution_count": null,
   "metadata": {},
   "outputs": [],
   "source": [
    "vehicle.apply_control(carla.VehicleControl(throttle=0.0, steer=0.0, brake=1.0))\n",
    "speed = get_speed(vehicle.get_velocity())\n",
    "print (vehicle.get_velocity())\n",
    "print(\"Speed: \", speed)\n",
    "vehicle_transform = vehicle.get_transform()\n",
    "start_waypoint = initial_waypoint(vehicle_transform.location)\n",
    "vehicle.set_transform(start_waypoint.transform)\n",
    "world.tick()\n",
    "print(\"Vehicle moved to location \", vehicle.get_transform().location)\n",
    "vehicle_transform = vehicle.get_transform()\n",
    "print(vehicle_transform)"
   ]
  },
  {
   "cell_type": "code",
   "execution_count": null,
   "metadata": {},
   "outputs": [],
   "source": [
    "world.wait_for_tick()\n",
    "dest_waypoint = next_waypoint(start_waypoint, look_ahead=3.0)\n",
    "print(\"Start waypoint: \", start_waypoint.transform)    \n",
    "print(\"Dest waypoint: \", dest_waypoint.transform)\n",
    "print(vehicle_transform)\n",
    "draw_waypoint(dest_waypoint, carla.Color(255, 0, 0))\n",
    "draw_waypoint(start_waypoint, carla.Color(0, 255, 0))"
   ]
  },
  {
   "cell_type": "code",
   "execution_count": null,
   "metadata": {},
   "outputs": [],
   "source": [
    "print(get_observation(vehicle_transform, dest_waypoint))\n"
   ]
  },
  {
   "cell_type": "markdown",
   "metadata": {},
   "source": [
    "### Understanding Lateral Distance"
   ]
  },
  {
   "cell_type": "code",
   "execution_count": null,
   "metadata": {},
   "outputs": [],
   "source": [
    "## Geting inputs and coverting to numpy arrays\n",
    "waypoint_location = dest_waypoint.transform.location\n",
    "waypoint_forward_vector = dest_waypoint.transform.get_forward_vector()\n",
    "vehicle_location = vehicle_transform.location\n",
    "print(waypoint_location, waypoint_forward_vector, vehicle_location)\n",
    "# Convert CARLA location objects to NumPy arrays for easier vector calculations\n",
    "waypoint_location_np = np.array([waypoint_location.x, waypoint_location.y])\n",
    "waypoint_forward_np = np.array([waypoint_forward_vector.x, waypoint_forward_vector.y])\n",
    "vehicle_location_np = np.array([vehicle_location.x, vehicle_location.y])\n",
    "print(waypoint_location_np, waypoint_forward_np, vehicle_location_np)\n",
    "# Normalize the waypoint's forward vector (this is the direction of the lane)\n",
    "norm = np.linalg.norm(waypoint_forward_np)\n",
    "print(norm)\n",
    "waypoint_forward_np = waypoint_forward_np / norm\n",
    "print(waypoint_forward_np)\n"
   ]
  },
  {
   "cell_type": "code",
   "execution_count": null,
   "metadata": {},
   "outputs": [],
   "source": [
    "## \n",
    "# Vector from the waypoint (center of the lane) to the vehicle\n",
    "vehicle_vector_np = vehicle_location_np - waypoint_location_np\n",
    "\n",
    "# Project the vehicle vector onto the waypoint's forward vector (lane direction)\n",
    "projection_length = np.dot(vehicle_vector_np, waypoint_forward_np)\n",
    "projection_point = projection_length * waypoint_forward_np\n",
    "\n",
    "lateral_vector = vehicle_vector_np - projection_point\n",
    "lateral_distance = np.linalg.norm(lateral_vector)\n",
    "\n",
    "# Normalize the lateral distance to the range [-1, 1]\n",
    "normalized_lateral_distance = np.clip(lateral_distance / 3, -1, 1)\n",
    "\n",
    "# Check if the vehicle is to the left or right of the lane center by using a cross product\n",
    "cross_product = np.cross(waypoint_forward_np, vehicle_vector_np)\n",
    "if cross_product < 0:\n",
    "    # If the cross product is negative, the vehicle is to the right of the lane\n",
    "    normalized_lateral_distance *= -1\n",
    "print(normalized_lateral_distance)\n"
   ]
  },
  {
   "cell_type": "markdown",
   "metadata": {},
   "source": [
    "### Understanding Relative Heading "
   ]
  },
  {
   "cell_type": "code",
   "execution_count": null,
   "metadata": {},
   "outputs": [],
   "source": [
    "print(spawn_points[36])\n",
    "spawn_position = spawn_points[36]\n",
    "print(spawn_position)\n",
    "start_waypoint = initial_waypoint(spawn_position.location)\n",
    "start_waypoint.transform.location.x += 1\n",
    "draw_waypoint(start_waypoint, color=carla.Color(0, 255, 0), lt=20.0)\n",
    "print(start_waypoint)"
   ]
  },
  {
   "cell_type": "code",
   "execution_count": null,
   "metadata": {},
   "outputs": [],
   "source": [
    "## RESET THE SIMULATOR\n",
    "cleanup()\n",
    "vehicle = spawn_vehicle(spawn_position) # Use 9,36,43\n",
    "actor_list.append(vehicle)\n",
    "world.tick()\n",
    "vehicle_transform = vehicle.get_transform()\n",
    "start_waypoint = initial_waypoint(vehicle_transform.location)\n",
    "world.tick()\n",
    "start_waypoint = initial_waypoint(vehicle_transform.location)\n",
    "dest_waypoint = next_waypoint(start_waypoint, 3)\n",
    "print(\"Vehicle spawned at location \", vehicle_transform.location)\n",
    "\n",
    "spectator.set_transform(carla.Transform(vehicle_transform.location + carla.Location(z=40), carla.Rotation(pitch=-90)))"
   ]
  },
  {
   "cell_type": "code",
   "execution_count": null,
   "metadata": {},
   "outputs": [],
   "source": [
    "print(\"Start waypoint: \", start_waypoint.transform)\n",
    "print(\"Vehicle transform: \", vehicle_transform)\n",
    "print (\"dest_waypoint: \", dest_waypoint.transform)"
   ]
  },
  {
   "cell_type": "code",
   "execution_count": null,
   "metadata": {},
   "outputs": [],
   "source": [
    "# Extract vehicle and waypoint yaw in degrees\n",
    "#vehicle_transform.rotation.yaw = 190\n",
    "vehicle.set_transform(vehicle_transform)\n",
    "waypoint = start_waypoint # Start from the current waypoint\n",
    "vehicle_yaw = vehicle_transform.rotation.yaw\n",
    "current_waypoint = start_waypoint\n",
    "waypoint_yaw = waypoint.transform.rotation.yaw\n",
    "num_lookahead = 5  # Number of waypoints to look ahead\n",
    "distance_lookahead = 3.0\n",
    "yaw_differences_sum = 0  # Accumulator for the sum of yaw differences\n",
    "print(vehicle_yaw, waypoint_yaw)\n",
    "turn = turn_directon(vehicle_transform, waypoint, num_lookahead, distance_lookahead)\n",
    "if turn == -1:\n",
    "    print(\"Turning left\")\n",
    "else:\n",
    "    print(\"Turning right\")"
   ]
  },
  {
   "cell_type": "code",
   "execution_count": null,
   "metadata": {},
   "outputs": [],
   "source": [
    "def normalize_angle(angle):\n",
    "    \"\"\"Normalize an angle to the range [-180, 180].\"\"\"\n",
    "    angle = angle % 360  # First, wrap the angle to [0, 360]\n",
    "    if angle > 180:\n",
    "        angle -= 360  # Bring it to [-180, 180]\n",
    "    return angle\n",
    "print(normalize_angle(vehicle_yaw), normalize_angle(waypoint_yaw))\n"
   ]
  },
  {
   "cell_type": "code",
   "execution_count": null,
   "metadata": {},
   "outputs": [],
   "source": [
    "\n",
    "for i in range(1, num_lookahead + 1):\n",
    "    # Fetch the next waypoint 'i' steps ahead\n",
    "    future_waypoint = next_waypoint(current_waypoint, distance_lookahead)\n",
    "    if not future_waypoint:\n",
    "        break  # Stop if there's no more valid waypoints\n",
    "\n",
    "    # Check if the current waypoint is part of a turn\n",
    "    future_yaw = future_waypoint.transform.rotation.yaw\n",
    "    yaw_diff = abs(current_waypoint.transform.rotation.yaw - future_yaw) % 360\n",
    "    yaw_diff = yaw_diff if yaw_diff <= 180 else 360 - yaw_diff\n",
    "    \n",
    "    # Accumulate the yaw difference\n",
    "    yaw_differences_sum += yaw_diff\n",
    "    print(f\"future_yaw: {future_yaw}, yaw_diff: {yaw_diff}, yaw_differences_sum: {yaw_differences_sum}\")\n",
    "    # Move to the next waypoint for the next iteration\n",
    "    current_waypoint = future_waypoint\n",
    "    draw_waypoint(future_waypoint, carla.Color(0, 255, 0))\n",
    "\n",
    "vehicle_yaw = vehicle_yaw % 360     \n",
    "relative_yaw =(vehicle_yaw - waypoint_yaw) % 360\n",
    "print(relative_yaw)       \n",
    "# Calculate relative heading as the difference between the yaw sum and the vehicle's yaw\n",
    "relative_heading = (yaw_differences_sum - turn*relative_yaw) % 360\n",
    "print(relative_heading)\n",
    "# Normalize to [-180, 180] range\n",
    "if relative_heading > 180:\n",
    "    relative_heading -= 360\n",
    "\n",
    "# Adjust the heading based on the turn direction\n",
    "normalized_heading = turn * (relative_heading / 180.0)\n",
    "print( np.clip(normalized_heading, -1, 1))\n"
   ]
  },
  {
   "cell_type": "code",
   "execution_count": null,
   "metadata": {},
   "outputs": [],
   "source": [
    "\n",
    "def turn_directon(vehicle_transform, waypoint, num_lookahead=5, distance_lookahead=3.0):\n",
    "    # Extract yaw angles from waypoints\n",
    "    vehicle_yaw = vehicle_transform.rotation.yaw  # Vehicle's current yaw\n",
    "    current_waypoint = waypoint  # Start from the current waypoint\n",
    "    future_waypoint = None\n",
    "    for i in range(1, num_lookahead + 1):\n",
    "        future_waypoint = next_waypoint(current_waypoint, distance_lookahead)\n",
    "        if not future_waypoint:\n",
    "            break  # Stop if there's no valid future waypoint\n",
    "        current_waypoint = future_waypoint  # Move to the next waypoint\n",
    "\n",
    "    if future_waypoint:\n",
    "        # Get the yaw of the future waypoint\n",
    "        future_yaw = future_waypoint.transform.rotation.yaw\n",
    "        \n",
    "        # Calculate the yaw difference between the vehicle and the future waypoint\n",
    "        yaw_diff = (future_yaw - vehicle_yaw) % 360\n",
    "        \n",
    "        # Normalize the yaw difference to the [-180, 180] range\n",
    "        if yaw_diff > 180:\n",
    "            yaw_diff -= 360\n",
    "        if yaw_diff > 10:  # If the future yaw is greater than the vehicle's yaw by a threshold\n",
    "            return 1\n",
    "        else:\n",
    "            return -1"
   ]
  },
  {
   "cell_type": "code",
   "execution_count": null,
   "metadata": {},
   "outputs": [],
   "source": [
    "print(get_observation(vehicle_transform, dest_waypoint))\n"
   ]
  },
  {
   "cell_type": "code",
   "execution_count": null,
   "metadata": {},
   "outputs": [],
   "source": [
    "\n",
    "num_lookahead = 5\n",
    "distance_lookahead = 3.0\n",
    "turn_direction = 1\n",
    "# Extract vehicle and waypoint yaw in degrees\n",
    "vehicle_yaw = vehicle_transform.rotation.yaw\n",
    "waypoint_yaw = dest_waypoint.transform.rotation.yaw\n",
    "draw_heading_arrow(vehicle_transform.location, vehicle_transform.rotation.yaw,color=carla.Color(0, 255, 0))\n",
    "draw_heading_arrow(dest_waypoint.transform.location, dest_waypoint.transform.rotation.yaw)\n",
    "# List to store yaw values of waypoints ahead\n",
    "yaw_differences_sum = 0  # Accumulator for the sum of yaw differences\n",
    "\n",
    "current_waypoint = dest_waypoint  # Start from the current waypoint\n"
   ]
  },
  {
   "cell_type": "code",
   "execution_count": null,
   "metadata": {},
   "outputs": [],
   "source": [
    "\n",
    "for i in range(1, num_lookahead + 1):\n",
    "    # Fetch the next waypoint 'i' steps ahead\n",
    "    future_waypoint = next_waypoint(current_waypoint, distance_lookahead)\n",
    "    draw_waypoint(future_waypoint, carla.Color(0, 0, 255))\n",
    "    if not future_waypoint:\n",
    "        break  # Stop if there's no more valid waypoints\n",
    "    # Calculate yaw difference between current waypoint and future waypoint\n",
    "    future_yaw = future_waypoint.transform.rotation.yaw\n",
    "    draw_heading_arrow(future_waypoint.transform.location, future_yaw)\n",
    "    yaw_diff = (current_waypoint.transform.rotation.yaw - future_yaw) % 360\n",
    "    print(yaw_diff)\n",
    "    if yaw_diff > 180:\n",
    "        yaw_diff -= 360\n",
    "    # Accumulate the yaw difference\n",
    "    yaw_differences_sum += yaw_diff\n",
    "    # Move to the next waypoint for the next iteration\n",
    "    current_waypoint = future_waypoint\n"
   ]
  },
  {
   "cell_type": "code",
   "execution_count": null,
   "metadata": {},
   "outputs": [],
   "source": [
    "print(yaw_differences_sum)\n",
    "# If we gathered yaw differences, process the sum\n",
    "if abs(yaw_differences_sum) > 25:\n",
    "    # Calculate relative heading as the difference between the yaw sum and the vehicle's yaw\n",
    "    relative_heading = (yaw_differences_sum) % 360\n",
    "    \n",
    "    # Normalize to [-180, 180] range\n",
    "    if relative_heading > 180:\n",
    "        relative_heading -= 360\n",
    "\n",
    "    # Adjust the heading based on the turn direction\n",
    "    normalized_heading = turn_direction * (relative_heading / 180.0)\n",
    "    np.clip(normalized_heading, -1, 1)\n",
    "    print(normalized_heading)"
   ]
  },
  {
   "cell_type": "code",
   "execution_count": null,
   "metadata": {},
   "outputs": [],
   "source": [
    "\n",
    "# If no turn detected, calculate the basic relative heading from the closest waypoint\n",
    "relative_heading = (waypoint_yaw - vehicle_yaw) % 360\n",
    "\n",
    "# Normalize to [-180, 180] range\n",
    "if relative_heading > 180:\n",
    "    relative_heading -= 360\n",
    "\n",
    "normalized_heading = relative_heading / 180.0\n",
    "np.clip(normalized_heading, -1, 1)\n",
    "print(normalized_heading)\n"
   ]
  },
  {
   "cell_type": "markdown",
   "metadata": {},
   "source": [
    "### Route Planner\n"
   ]
  },
  {
   "cell_type": "code",
   "execution_count": 13,
   "metadata": {},
   "outputs": [],
   "source": [
    "spawn_points = world.get_map().get_spawn_points()\n",
    "\n",
    "cleanup()"
   ]
  },
  {
   "cell_type": "code",
   "execution_count": 14,
   "metadata": {},
   "outputs": [],
   "source": [
    "world_map = world.get_map()\n",
    "spawn_points = world_map.get_spawn_points()\n",
    "sampling_resolution = 3\n",
    "route_planner = GlobalRoutePlanner(world.get_map(), sampling_resolution)\n"
   ]
  },
  {
   "cell_type": "code",
   "execution_count": 15,
   "metadata": {},
   "outputs": [],
   "source": [
    "def generate_route(start_waypoint=None):\n",
    "\n",
    "    if start_waypoint is None:\n",
    "        start_waypoint = random.choice(spawn_points)\n",
    "        print(f\"Start waypoint: {start_waypoint.location}\")\n",
    "    else:\n",
    "        start_waypoint = start_waypoint\n",
    "    dest_waypoint = random.choice(spawn_points)\n",
    "    distance = start_waypoint.location.distance(dest_waypoint.location)\n",
    "    while distance < 50:\n",
    "        dest_waypoint = random.choice(spawn_points)\n",
    "        distance = start_waypoint.location.distance(dest_waypoint.location)\n",
    "    try:\n",
    "        route = route_planner.trace_route(start_waypoint.location, dest_waypoint.location)\n",
    "    except Exception as e:\n",
    "        print(f\"Failed to generate route: {e}\")\n",
    "        return None\n",
    "    \n",
    "    return route \n"
   ]
  },
  {
   "cell_type": "code",
   "execution_count": 16,
   "metadata": {},
   "outputs": [],
   "source": [
    "start_waypoint = random.choice(spawn_points)\n",
    "route = generate_route(start_waypoint)\n",
    "for waypoint in route:\n",
    "    world.debug.draw_string(waypoint[0].transform.location, '^', draw_shadow=False,\n",
    "                            color=carla.Color(r=0, g=0, b=255), life_time=60.0,\n",
    "                            persistent_lines=True)"
   ]
  },
  {
   "cell_type": "code",
   "execution_count": 17,
   "metadata": {},
   "outputs": [],
   "source": [
    "\n",
    "vehicle = spawn_vehicle(start_waypoint)\n",
    "actor_list.append(vehicle)"
   ]
  },
  {
   "cell_type": "code",
   "execution_count": 18,
   "metadata": {},
   "outputs": [],
   "source": [
    "spectator.set_transform(carla.Transform(vehicle.get_transform().location + carla.Location(z=40), carla.Rotation(pitch=-90)))\n"
   ]
  },
  {
   "cell_type": "code",
   "execution_count": 31,
   "metadata": {},
   "outputs": [],
   "source": [
    "#Draw the route in the simulator\n",
    "for waypoints in route:\n",
    "    draw_waypoint(waypoints[0], carla.Color(255, 0, 0))"
   ]
  },
  {
   "cell_type": "code",
   "execution_count": null,
   "metadata": {},
   "outputs": [
    {
     "name": "stdout",
     "output_type": "stream",
     "text": [
      "Transform(Location(x=26.940020, y=302.570007, z=0.221618), Rotation(pitch=0.000000, yaw=-179.999634, roll=0.000000))\n"
     ]
    }
   ],
   "source": [
    "vehicle_transform = vehicle.get_transform()\n",
    "print(vehicle_transform)\n",
    "previous_waypoints = []\n"
   ]
  },
  {
   "cell_type": "code",
   "execution_count": 22,
   "metadata": {},
   "outputs": [],
   "source": [
    "\n",
    "def find_current_waypoint(vehicle_location,route):\n",
    "    curr_waypoint = None\n",
    "    min_distance = 3.0\n",
    "  \n",
    "    if route is None:\n",
    "        print('Route not found')\n",
    "        return None\n",
    "    for waypoint, roadinfo  in route:\n",
    "        dist = waypoint.transform.location.distance(vehicle_location)\n",
    "        if dist < min_distance:\n",
    "            min_distance = dist\n",
    "            curr_waypoint = waypoint\n",
    "    if curr_waypoint is not None:\n",
    "        print(f\"Current waypoint: {curr_waypoint.transform.location}\")\n",
    "    else:\n",
    "        print(\"No waypoint found\")\n",
    "\n",
    "    return curr_waypoint\n"
   ]
  },
  {
   "cell_type": "code",
   "execution_count": 34,
   "metadata": {},
   "outputs": [
    {
     "name": "stdout",
     "output_type": "stream",
     "text": [
      "Current waypoint: Location(x=-3.370002, y=294.696808, z=0.000000)\n"
     ]
    }
   ],
   "source": [
    "curr_wp = find_current_waypoint(vehicle_transform.location, route)\n"
   ]
  },
  {
   "cell_type": "code",
   "execution_count": 62,
   "metadata": {},
   "outputs": [
    {
     "name": "stdout",
     "output_type": "stream",
     "text": [
      "Transform(Location(x=125.179070, y=191.608704, z=0.500000), Rotation(pitch=0.000000, yaw=-359.973694, roll=0.000000))\n"
     ]
    }
   ],
   "source": [
    "vehicle_transform = random.choice(route)[0].transform\n",
    "vehicle_transform.location.z = 0.5\n",
    "vehicle_transform.location.x += 2\n",
    "\n",
    "print(vehicle_transform)\n",
    "vehicle.set_transform(vehicle_transform)\n",
    "spectator.set_transform(carla.Transform(vehicle_transform.location + carla.Location(z=40), carla.Rotation(pitch=-90)))\n"
   ]
  },
  {
   "cell_type": "code",
   "execution_count": 63,
   "metadata": {},
   "outputs": [
    {
     "name": "stdout",
     "output_type": "stream",
     "text": [
      "Current waypoint: Location(x=126.179070, y=191.610077, z=0.000000)\n"
     ]
    }
   ],
   "source": [
    "curr_wp = find_current_waypoint(vehicle_transform.location, route)\n",
    "draw_waypoint(curr_wp, carla.Color(0, 255, 0), lt=20.0)\n"
   ]
  },
  {
   "cell_type": "code",
   "execution_count": 64,
   "metadata": {},
   "outputs": [],
   "source": [
    "for waypoint in route:\n",
    "    world.debug.draw_string(waypoint[0].transform.location, '^', draw_shadow=False,\n",
    "                            color=carla.Color(r=0, g=0, b=255), life_time=60.0,\n",
    "                            persistent_lines=True)"
   ]
  },
  {
   "cell_type": "code",
   "execution_count": null,
   "metadata": {},
   "outputs": [],
   "source": [
    "## BOTH WORK\n",
    "def find_next_waypoint(route, current_waypoint, distance_lookahead=6):\n",
    "    for waypoint, roadinfo in route:\n",
    "        dist = waypoint.transform.location.distance(current_waypoint.transform.location)\n",
    "        if dist == 0:\n",
    "            index = route.index((waypoint, roadinfo))\n",
    "            if index + 1 < len(route):\n",
    "                return route[index + distance_lookahead][0]\n",
    "            else:\n",
    "                return None\n",
    "    return None\n",
    "\n",
    "def find_mod_next_waypoint( current_waypoint, distance_lookahead=6):\n",
    "    for i, (waypoint, road_option) in enumerate(route):\n",
    "        dist = waypoint.transform.location.distance(current_waypoint.transform.location)\n",
    "        if dist == 0:\n",
    "            if i + 1 < len(route):\n",
    "                return route[i + distance_lookahead][0]\n",
    "            else:\n",
    "                return None\n",
    "    return None"
   ]
  },
  {
   "cell_type": "code",
   "execution_count": null,
   "metadata": {},
   "outputs": [
    {
     "name": "stdout",
     "output_type": "stream",
     "text": [
      "Waypoint(Transform(Location(x=132.144226, y=205.157974, z=0.000000), Rotation(pitch=360.000000, yaw=90.058083, roll=0.000000)))\n",
      "Waypoint(Transform(Location(x=128.700058, y=191.716599, z=0.000000), Rotation(pitch=0.000000, yaw=-346.489532, roll=0.000000)))\n"
     ]
    },
    {
     "ename": "",
     "evalue": "",
     "output_type": "error",
     "traceback": [
      "\u001b[1;31mThe Kernel crashed while executing code in the current cell or a previous cell. \n",
      "\u001b[1;31mPlease review the code in the cell(s) to identify a possible cause of the failure. \n",
      "\u001b[1;31mClick <a href='https://aka.ms/vscodeJupyterKernelCrash'>here</a> for more info. \n",
      "\u001b[1;31mView Jupyter <a href='command:jupyter.viewOutput'>log</a> for further details."
     ]
    }
   ],
   "source": [
    "next_wp = find_next_waypoint(route, curr_wp, 7)\n",
    "print(next_wp)\n",
    "next_wp_1 = find_mod_next_waypoint(curr_wp, 1)\n",
    "print(next_wp_1)"
   ]
  },
  {
   "cell_type": "code",
   "execution_count": 43,
   "metadata": {},
   "outputs": [],
   "source": [
    "\n",
    "draw_waypoint(next_wp, carla.Color(0, 255, 0), lt=20.0)\n",
    "draw_waypoint(curr_wp, carla.Color(255, 0, 0), lt=20.0)"
   ]
  },
  {
   "cell_type": "code",
   "execution_count": null,
   "metadata": {},
   "outputs": [
    {
     "ename": "ValueError",
     "evalue": "<carla.libcarla.Waypoint object at 0x000001E478109040> is not in list",
     "output_type": "error",
     "traceback": [
      "\u001b[1;31m---------------------------------------------------------------------------\u001b[0m",
      "\u001b[1;31mValueError\u001b[0m                                Traceback (most recent call last)",
      "Cell \u001b[1;32mIn[46], line 5\u001b[0m\n\u001b[0;32m      3\u001b[0m dist \u001b[38;5;241m=\u001b[39m waypoint\u001b[38;5;241m.\u001b[39mtransform\u001b[38;5;241m.\u001b[39mlocation\u001b[38;5;241m.\u001b[39mdistance(curr_wp\u001b[38;5;241m.\u001b[39mtransform\u001b[38;5;241m.\u001b[39mlocation)\n\u001b[0;32m      4\u001b[0m \u001b[38;5;28;01mif\u001b[39;00m dist \u001b[38;5;241m==\u001b[39m \u001b[38;5;241m0\u001b[39m:\n\u001b[1;32m----> 5\u001b[0m     \u001b[38;5;28;01mif\u001b[39;00m \u001b[43mroute\u001b[49m\u001b[38;5;241;43m.\u001b[39;49m\u001b[43mindex\u001b[49m\u001b[43m(\u001b[49m\u001b[43mwaypoint\u001b[49m\u001b[43m)\u001b[49m \u001b[38;5;241m+\u001b[39m \u001b[38;5;241m1\u001b[39m \u001b[38;5;241m<\u001b[39m \u001b[38;5;28mlen\u001b[39m(route):\n\u001b[0;32m      6\u001b[0m         next_wp \u001b[38;5;241m=\u001b[39m route[i \u001b[38;5;241m+\u001b[39m distance_lookahead][\u001b[38;5;241m0\u001b[39m]\n",
      "\u001b[1;31mValueError\u001b[0m: <carla.libcarla.Waypoint object at 0x000001E478109040> is not in list"
     ]
    }
   ],
   "source": [
    "distance_lookahead = 3.0\n",
    "for waypoint, roadinfo  in route:\n",
    "    dist = waypoint.transform.location.distance(curr_wp.transform.location)\n",
    "    if dist == 0:\n",
    "        if waypoint + 1 < len(route):\n",
    "            next_wp = route[i + distance_lookahead][0]\n",
    "\n"
   ]
  },
  {
   "cell_type": "markdown",
   "metadata": {},
   "source": [
    "## Test"
   ]
  },
  {
   "cell_type": "code",
   "execution_count": null,
   "metadata": {},
   "outputs": [],
   "source": [
    "wp = next_waypoint(start_waypoint,25)\n",
    "draw_waypoint(wp, carla.Color(0, 0, 255))"
   ]
  },
  {
   "cell_type": "code",
   "execution_count": null,
   "metadata": {},
   "outputs": [],
   "source": [
    "vehicle.set_transform(wp.transform)\n",
    "world.wait_for_tick()\n",
    "vehicle_transform = vehicle.get_transform()\n",
    "start_waypoint = initial_waypoint(vehicle_transform.location)\n",
    "spectator.set_transform(carla.Transform(vehicle_transform.location + carla.Location(z=40), carla.Rotation(pitch=-90)))\n",
    "vehicle.apply_control(carla.VehicleControl(throttle=0.0, steer=0.0, brake=1.0))\n",
    "print(vehicle_transform)\n",
    "dest_waypoint = next_waypoint(start_waypoint, look_ahead=3.0)\n",
    "print(\"Start waypoint: \", start_waypoint.transform)    \n",
    "print(\"Dest waypoint: \", dest_waypoint.transform)\n",
    "draw_waypoint(dest_waypoint, carla.Color(255, 0, 0))\n",
    "draw_waypoint(start_waypoint, carla.Color(0, 255, 0))"
   ]
  },
  {
   "cell_type": "code",
   "execution_count": null,
   "metadata": {},
   "outputs": [],
   "source": [
    "print(get_observation(vehicle_transform, dest_waypoint))"
   ]
  },
  {
   "cell_type": "code",
   "execution_count": null,
   "metadata": {},
   "outputs": [],
   "source": [
    "vehicle_transform.location.y -= 5\n",
    "vehicle.set_transform(vehicle_transform)\n"
   ]
  },
  {
   "cell_type": "code",
   "execution_count": null,
   "metadata": {},
   "outputs": [],
   "source": [
    "print(get_observation(vehicle_transform, dest_waypoint))"
   ]
  }
 ],
 "metadata": {
  "kernelspec": {
   "display_name": "rlvenv",
   "language": "python",
   "name": "python3"
  },
  "language_info": {
   "codemirror_mode": {
    "name": "ipython",
    "version": 3
   },
   "file_extension": ".py",
   "mimetype": "text/x-python",
   "name": "python",
   "nbconvert_exporter": "python",
   "pygments_lexer": "ipython3",
   "version": "3.8.7rc1"
  },
  "orig_nbformat": 4
 },
 "nbformat": 4,
 "nbformat_minor": 2
}
