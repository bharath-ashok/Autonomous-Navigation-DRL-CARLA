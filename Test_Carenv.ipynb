{
 "cells": [
  {
   "cell_type": "markdown",
   "metadata": {},
   "source": [
    "Full code to make all waypoints from road sections "
   ]
  },
  {
   "cell_type": "code",
   "execution_count": 10,
   "metadata": {},
   "outputs": [],
   "source": [
    "#all imports\n",
    "import carla #the sim library itself\n",
    "import time # to set a delay after each photo\n",
    "import numpy as np #in this example to change image representation - re-shaping\n",
    "import math\n",
    "import sys\n",
    "import random\n",
    "import glob\n",
    "import os\n",
    "try:\n",
    "    sys.path.append(glob.glob('./carla/dist/carla-0.9.14-py3.7-win-amd64.egg')[0])\n",
    "except IndexError:\n",
    "    print('Couldn\\'t import Carla egg properly')\n",
    "import carla\n",
    "\n",
    "try:\n",
    "    sys.path.insert(0,r'C:\\Users\\ashokkumar\\source\\repos\\AD\\carla')\n",
    "except IndexError:\n",
    "    pass\n",
    "\n",
    "from carla import ColorConverter as cc\n",
    "from agents.navigation.behavior_agent import BehaviorAgent   # type: ignore\n",
    "from agents.navigation.basic_agent import BasicAgent  # type: ignore\n",
    "\n",
    "SECONDS_PER_EPISODE = 25\n",
    "\n",
    "SECONDS_PER_EPISODE = 10  # seconds per episode maybe needs to be removed later\n",
    "FIXED_DELTA_SECONDS = 0.02 # seconds per frame\n",
    "SHOW_PREVIEW = True # Show preview for debugging\n",
    "NO_RENDERING = False # No rendering for training\n",
    "SYNCRONOUST_MODE = False # Synchronous mode for training\n",
    "SPIN = 10   # angle of spin for initail spawn\n",
    "HEIGHT = 480 # height of image\n",
    "WIDTH = 640 # width of image\n",
    "SHOW_CAM = SHOW_PREVIEW     # render camera\n",
    "front_camera = None\n",
    "CAMERA_POS_Z = 1.3      # camera position similar to tesla model 3\n",
    "CAMERA_POS_X = 1.4    # camera position similar to tesla model 3\n",
    "im_width = WIDTH\n",
    "im_height = HEIGHT\n"
   ]
  },
  {
   "cell_type": "code",
   "execution_count": 11,
   "metadata": {},
   "outputs": [
    {
     "ename": "",
     "evalue": "",
     "output_type": "error",
     "traceback": [
      "\u001b[1;31mThe Kernel crashed while executing code in the current cell or a previous cell. \n",
      "\u001b[1;31mPlease review the code in the cell(s) to identify a possible cause of the failure. \n",
      "\u001b[1;31mClick <a href='https://aka.ms/vscodeJupyterKernelCrash'>here</a> for more info. \n",
      "\u001b[1;31mView Jupyter <a href='command:jupyter.viewOutput'>log</a> for further details."
     ]
    }
   ],
   "source": [
    "# connect to the sim \n",
    "client = carla.Client('localhost', 2000)\n",
    "client.set_timeout(10.0)\n",
    "world = client.get_world()\n",
    "world = client.load_world('Town02')\n",
    "\n",
    "settings = world.get_settings()\n",
    "settings.no_rendering_mode = NO_RENDERING\n",
    "settings.synchronous_mode = SYNCRONOUST_MODE\n",
    "settings.fixed_delta_seconds = FIXED_DELTA_SECONDS\n",
    "world.apply_settings(settings)\n",
    "blueprint_library = world.get_blueprint_library()\n",
    "model_3 = blueprint_library.filter(\"vehicle.tesla.model3\")\n",
    "\n",
    "\n",
    "# get map look at the map\n",
    "if SHOW_CAM:\n",
    "    spectator = world.get_spectator()\n",
    "\n",
    "town_map = world.get_map()\n",
    "roads = town_map.get_topology()\n",
    "\n"
   ]
  },
  {
   "cell_type": "code",
   "execution_count": 3,
   "metadata": {},
   "outputs": [],
   "source": [
    "\n",
    "# set up route generations\n",
    "all_waypoints = town_map.generate_waypoints(1) #note distance between waypoints in meters\n",
    "\n",
    "# make unique\n",
    "waypoints = []\n",
    "for wp in all_waypoints:\n",
    "    if len(waypoints) == 0:\n",
    "        waypoints.append(wp) #first waypoint is added regardless to start the list\n",
    "    else:\n",
    "        found = False\n",
    "        for uwp in waypoints: #check for same located waypoints and ignore if found\n",
    "            if abs(uwp.transform.location.x - wp.transform.location.x) < 0.1 \\\n",
    "                            and abs(uwp.transform.location.y - wp.transform.location.y)<0.1 \\\n",
    "                            and abs(uwp.transform.rotation.yaw - wp.transform.rotation.yaw)<20:  #this checks same direction\n",
    "                found = True\n",
    "                break\n",
    "        if not found:\n",
    "            waypoints.append(wp)\n",
    "\n",
    "\n",
    "# draw all point in the sim for 60 seconds\n",
    "for wp in waypoints:\n",
    "    world.debug.draw_string(wp.transform.location, '^', draw_shadow=False,\n",
    "        color=carla.Color(r=0, g=0, b=255), life_time=60.0,\n",
    "        persistent_lines=True)\n",
    "\n",
    "#move spectator for top down view to see all points \n",
    "# spectator_transform = random.choice(town_map.get_spawn_points())\n",
    "# spectator_transform.Rotation += carla.Rotation(pitch=-90, yaw=0, roll=0)\n",
    "# spectator.set_transform(spectator_transform)"
   ]
  },
  {
   "cell_type": "code",
   "execution_count": 4,
   "metadata": {},
   "outputs": [],
   "source": [
    "'''\n",
    "now we will see how this will be used in real examples, like during RL training\n",
    "e.g. see how long it takes to find closest point to the car\n",
    "\n",
    "'''\n",
    "#remove any cars/clean up the sim\n",
    "for actor in world.get_actors().filter('*vehicle*'):\n",
    "    actor.destroy()\n",
    "\n",
    "blueprint_library = world.get_blueprint_library()\n",
    "# Now let's filter all the blueprints of type 'vehicle' and choose one\n",
    "bp = blueprint_library.find('vehicle.tesla.cybertruck')\n",
    "transform = random.choice(world.get_map().get_spawn_points())\n",
    "vehicle = world.spawn_actor(bp, transform)  \n",
    "spectator = world.get_spectator()\n",
    "spectator_transform =  vehicle.get_transform()\n",
    "spectator_transform.location += carla.Location(z = 20.0)\n",
    "spectator_transform.rotation.pitch = -90\n",
    "world.get_spectator().set_transform(spectator_transform)\n",
    "\n",
    "\n",
    "agent = BasicAgent(vehicle)\n",
    "waypoint_counter = 0\n"
   ]
  },
  {
   "cell_type": "code",
   "execution_count": 5,
   "metadata": {},
   "outputs": [
    {
     "name": "stdout",
     "output_type": "stream",
     "text": [
      "Location(x=189.929993, y=121.209999, z=0.215703)\n"
     ]
    }
   ],
   "source": [
    "print(vehicle.get_location())\n"
   ]
  },
  {
   "cell_type": "code",
   "execution_count": 6,
   "metadata": {},
   "outputs": [
    {
     "name": "stdout",
     "output_type": "stream",
     "text": [
      "Location(x=189.929993, y=121.209999, z=0.215703)\n",
      "Location(x=189.735886, y=121.087326, z=0.000000)\n"
     ]
    }
   ],
   "source": [
    "initial_pos = vehicle.get_location()\n",
    "curr_waypoint = initial_pos\n",
    "curr_distance = 1000\n",
    "for wp in waypoints:\n",
    "    dist = curr_waypoint.distance(wp.transform.location)\n",
    "    if dist < curr_distance:\n",
    "        curr_distance =  dist\n",
    "        selected_wp = wp\n",
    "print(initial_pos)\n",
    "print(selected_wp.transform.location)\n"
   ]
  },
  {
   "cell_type": "code",
   "execution_count": 7,
   "metadata": {},
   "outputs": [
    {
     "name": "stdout",
     "output_type": "stream",
     "text": [
      "Waypoint(Transform(Location(x=189.708725, y=141.087311, z=0.000000), Rotation(pitch=360.000000, yaw=90.077835, roll=0.000000)))\n"
     ]
    }
   ],
   "source": [
    "next_wp = selected_wp.next(20.0)[0]\n",
    "print(next_wp)\n"
   ]
  },
  {
   "cell_type": "code",
   "execution_count": 8,
   "metadata": {},
   "outputs": [
    {
     "name": "stdout",
     "output_type": "stream",
     "text": [
      "Transform(Location(x=189.735886, y=121.087326, z=0.000000), Rotation(pitch=360.000000, yaw=90.077835, roll=0.000000))\n",
      "Transform(Location(x=189.708725, y=141.087311, z=0.000000), Rotation(pitch=360.000000, yaw=90.077835, roll=0.000000))\n"
     ]
    }
   ],
   "source": [
    "print(selected_wp.transform)\n",
    "print(next_wp.transform)"
   ]
  },
  {
   "cell_type": "code",
   "execution_count": 9,
   "metadata": {},
   "outputs": [
    {
     "name": "stdout",
     "output_type": "stream",
     "text": [
      "veh loc:  Location(x=189.929993, y=121.209999, z=0.215703)\n",
      "wpt loc:  Location(x=189.708725, y=141.087311, z=0.000000)\n",
      "veh rot:  Rotation(pitch=0.000000, yaw=89.999954, roll=0.000000)\n",
      "wpt rot:  Rotation(pitch=360.000000, yaw=90.077835, roll=0.000000)\n",
      "road id: 15 lane id: 1 section id:0 \n",
      "x dist:  0.2212677001953125 y dist:  -19.87731170654297\n",
      "x-y dist:  19.878543208047713\n",
      "rel ang:  -0.077880859375\n"
     ]
    }
   ],
   "source": [
    "veh_trans = vehicle.get_transform() \n",
    "veh_loc = veh_trans.location\n",
    "veh_rot = veh_trans.rotation\n",
    "wpt = next_wp\n",
    "wpt_loc = wpt.transform.location\n",
    "wpt_rot = wpt.transform.rotation\n",
    "\n",
    "print(\"veh loc: \", veh_loc)\n",
    "print(\"wpt loc: \", wpt_loc)\n",
    "print(\"veh rot: \", veh_rot)\n",
    "print(\"wpt rot: \", wpt_rot)\n",
    "print(\"road id: %d lane id: %d section id:%d \"%(wpt.road_id, wpt.lane_id, wpt.section_id))\n",
    "print(\"x dist: \", veh_loc.x - wpt_loc.x, \"y dist: \", veh_loc.y - wpt_loc.y)\n",
    "print(\"x-y dist: \", np.linalg.norm(np.array([veh_loc.x - wpt_loc.x, veh_loc.y - wpt_loc.y])))\n",
    "print(\"rel ang: \", veh_rot.yaw - wpt_rot.yaw)"
   ]
  },
  {
   "cell_type": "code",
   "execution_count": 15,
   "metadata": {},
   "outputs": [
    {
     "name": "stdout",
     "output_type": "stream",
     "text": [
      "19.616851806640625\n",
      "0.00492095947265625\n"
     ]
    }
   ],
   "source": [
    "\n",
    "vehicle_transform = vehicle.get_transform()\n",
    "distance_to_wp = wpt.transform.location.distance(vehicle_transform.location)\n",
    "direction_difference = (vehicle_transform.rotation.yaw - wpt.transform.rotation.yaw) % 180\n",
    "print(distance_to_wp)\n",
    "print(direction_difference)"
   ]
  },
  {
   "cell_type": "code",
   "execution_count": 17,
   "metadata": {},
   "outputs": [
    {
     "name": "stdout",
     "output_type": "stream",
     "text": [
      "19.616851806640625\n"
     ]
    }
   ],
   "source": [
    "vehicle_location  = vehicle.get_transform().location\n",
    "waypoint_distance  = vehicle_location.distance(wpt.transform.location)\n",
    "print(waypoint_distance)\n",
    "\n"
   ]
  },
  {
   "cell_type": "code",
   "execution_count": 18,
   "metadata": {},
   "outputs": [
    {
     "name": "stdout",
     "output_type": "stream",
     "text": [
      "Location(x=41.854179, y=237.590179, z=0.000000)\n"
     ]
    }
   ],
   "source": [
    "current_waypoint = wpt\n",
    "next_wp = current_waypoint.next(5.0)[0]\n",
    "print(next_wp.transform.location)"
   ]
  },
  {
   "cell_type": "code",
   "execution_count": 43,
   "metadata": {},
   "outputs": [],
   "source": [
    "destination = next_wp.transform.location\n",
    "agent.set_destination(destination)"
   ]
  },
  {
   "cell_type": "code",
   "execution_count": 44,
   "metadata": {},
   "outputs": [
    {
     "ename": "KeyboardInterrupt",
     "evalue": "",
     "output_type": "error",
     "traceback": [
      "\u001b[1;31m---------------------------------------------------------------------------\u001b[0m",
      "\u001b[1;31mKeyboardInterrupt\u001b[0m                         Traceback (most recent call last)",
      "Cell \u001b[1;32mIn[44], line 4\u001b[0m\n\u001b[0;32m      2\u001b[0m \u001b[38;5;28;01mif\u001b[39;00m agent\u001b[38;5;241m.\u001b[39mdone():\n\u001b[0;32m      3\u001b[0m     \u001b[38;5;28;01mbreak\u001b[39;00m\n\u001b[1;32m----> 4\u001b[0m vehicle\u001b[38;5;241m.\u001b[39mapply_control(\u001b[43magent\u001b[49m\u001b[38;5;241;43m.\u001b[39;49m\u001b[43mrun_step\u001b[49m\u001b[43m(\u001b[49m\u001b[43m)\u001b[49m)\n",
      "File \u001b[1;32m~\\source\\repos\\AD\\carla\\agents\\navigation\\basic_agent.py:194\u001b[0m, in \u001b[0;36mBasicAgent.run_step\u001b[1;34m(self)\u001b[0m\n\u001b[0;32m    191\u001b[0m hazard_detected \u001b[38;5;241m=\u001b[39m \u001b[38;5;28;01mFalse\u001b[39;00m\n\u001b[0;32m    193\u001b[0m \u001b[38;5;66;03m# Retrieve all relevant actors\u001b[39;00m\n\u001b[1;32m--> 194\u001b[0m vehicle_list \u001b[38;5;241m=\u001b[39m \u001b[38;5;28;43mself\u001b[39;49m\u001b[38;5;241;43m.\u001b[39;49m\u001b[43m_world\u001b[49m\u001b[38;5;241;43m.\u001b[39;49m\u001b[43mget_actors\u001b[49m\u001b[43m(\u001b[49m\u001b[43m)\u001b[49m\u001b[38;5;241m.\u001b[39mfilter(\u001b[38;5;124m\"\u001b[39m\u001b[38;5;124m*vehicle*\u001b[39m\u001b[38;5;124m\"\u001b[39m)\n\u001b[0;32m    196\u001b[0m vehicle_speed \u001b[38;5;241m=\u001b[39m get_speed(\u001b[38;5;28mself\u001b[39m\u001b[38;5;241m.\u001b[39m_vehicle) \u001b[38;5;241m/\u001b[39m \u001b[38;5;241m3.6\u001b[39m\n\u001b[0;32m    198\u001b[0m \u001b[38;5;66;03m# Check for possible vehicle obstacles\u001b[39;00m\n",
      "\u001b[1;31mKeyboardInterrupt\u001b[0m: "
     ]
    }
   ],
   "source": [
    "while True:\n",
    "    if agent.done():\n",
    "        break\n",
    "    vehicle.apply_control(agent.run_step())"
   ]
  },
  {
   "cell_type": "code",
   "execution_count": 14,
   "metadata": {},
   "outputs": [
    {
     "name": "stdout",
     "output_type": "stream",
     "text": [
      "The target has been reached, setting next waypoint\n"
     ]
    },
    {
     "ename": "KeyboardInterrupt",
     "evalue": "",
     "output_type": "error",
     "traceback": [
      "\u001b[1;31m---------------------------------------------------------------------------\u001b[0m",
      "\u001b[1;31mKeyboardInterrupt\u001b[0m                         Traceback (most recent call last)",
      "Cell \u001b[1;32mIn[14], line 16\u001b[0m\n\u001b[0;32m     14\u001b[0m     \u001b[38;5;28mprint\u001b[39m(\u001b[38;5;124m\"\u001b[39m\u001b[38;5;124mWe have reached the end of the waypoints\u001b[39m\u001b[38;5;124m\"\u001b[39m)\n\u001b[0;32m     15\u001b[0m     \u001b[38;5;28;01mbreak\u001b[39;00m\n\u001b[1;32m---> 16\u001b[0m vehicle\u001b[38;5;241m.\u001b[39mapply_control(\u001b[43magent\u001b[49m\u001b[38;5;241;43m.\u001b[39;49m\u001b[43mrun_step\u001b[49m\u001b[43m(\u001b[49m\u001b[43m)\u001b[49m)\n",
      "File \u001b[1;32m~\\source\\repos\\AD\\carla\\agents\\navigation\\basic_agent.py:194\u001b[0m, in \u001b[0;36mBasicAgent.run_step\u001b[1;34m(self)\u001b[0m\n\u001b[0;32m    191\u001b[0m hazard_detected \u001b[38;5;241m=\u001b[39m \u001b[38;5;28;01mFalse\u001b[39;00m\n\u001b[0;32m    193\u001b[0m \u001b[38;5;66;03m# Retrieve all relevant actors\u001b[39;00m\n\u001b[1;32m--> 194\u001b[0m vehicle_list \u001b[38;5;241m=\u001b[39m \u001b[38;5;28;43mself\u001b[39;49m\u001b[38;5;241;43m.\u001b[39;49m\u001b[43m_world\u001b[49m\u001b[38;5;241;43m.\u001b[39;49m\u001b[43mget_actors\u001b[49m\u001b[43m(\u001b[49m\u001b[43m)\u001b[49m\u001b[38;5;241m.\u001b[39mfilter(\u001b[38;5;124m\"\u001b[39m\u001b[38;5;124m*vehicle*\u001b[39m\u001b[38;5;124m\"\u001b[39m)\n\u001b[0;32m    196\u001b[0m vehicle_speed \u001b[38;5;241m=\u001b[39m get_speed(\u001b[38;5;28mself\u001b[39m\u001b[38;5;241m.\u001b[39m_vehicle) \u001b[38;5;241m/\u001b[39m \u001b[38;5;241m3.6\u001b[39m\n\u001b[0;32m    198\u001b[0m \u001b[38;5;66;03m# Check for possible vehicle obstacles\u001b[39;00m\n",
      "\u001b[1;31mKeyboardInterrupt\u001b[0m: "
     ]
    }
   ],
   "source": [
    "while True:\n",
    "    if agent.done():\n",
    "        next_wp = selected_wp.next(5.0)[0]\n",
    "        destination = next_wp.transform.location\n",
    "        agent.set_destination(destination)\n",
    "        world.debug.draw_string(next_wp.transform.location, '^', draw_shadow=False,\n",
    "        color=carla.Color(r=0, g=255, b=0), life_time=2.0,\n",
    "        persistent_lines=True)\n",
    "        print(\"The target has been reached, setting next waypoint\")\n",
    "        selected_wp = next_wp\n",
    "        waypoint_counter += 1\n",
    "\n",
    "    if waypoint_counter > 100:\n",
    "        print(\"We have reached the end of the waypoints\")\n",
    "        break\n",
    "    vehicle.apply_control(agent.run_step())"
   ]
  },
  {
   "cell_type": "code",
   "execution_count": 16,
   "metadata": {},
   "outputs": [
    {
     "name": "stdout",
     "output_type": "stream",
     "text": [
      "deviation from waypoint: 214.70864868164062 metres\n",
      "angle discrepancy: 90.00496673583984 degrees\n"
     ]
    },
    {
     "ename": "NameError",
     "evalue": "name 'veh_rot' is not defined",
     "output_type": "error",
     "traceback": [
      "\u001b[1;31m---------------------------------------------------------------------------\u001b[0m",
      "\u001b[1;31mNameError\u001b[0m                                 Traceback (most recent call last)",
      "Cell \u001b[1;32mIn[16], line 9\u001b[0m\n\u001b[0;32m      6\u001b[0m \u001b[38;5;28mprint\u001b[39m(\u001b[38;5;124m'\u001b[39m\u001b[38;5;124mdeviation from waypoint:\u001b[39m\u001b[38;5;124m'\u001b[39m,distance_to_wp,\u001b[38;5;124m'\u001b[39m\u001b[38;5;124mmetres\u001b[39m\u001b[38;5;124m'\u001b[39m)\n\u001b[0;32m      7\u001b[0m \u001b[38;5;28mprint\u001b[39m(\u001b[38;5;124m'\u001b[39m\u001b[38;5;124mangle discrepancy:\u001b[39m\u001b[38;5;124m'\u001b[39m,direction_difference,\u001b[38;5;124m'\u001b[39m\u001b[38;5;124mdegrees\u001b[39m\u001b[38;5;124m'\u001b[39m)\n\u001b[1;32m----> 9\u001b[0m \u001b[38;5;28mprint\u001b[39m(\u001b[38;5;124m\"\u001b[39m\u001b[38;5;124mrel ang: \u001b[39m\u001b[38;5;124m\"\u001b[39m, \u001b[43mveh_rot\u001b[49m\u001b[38;5;241m.\u001b[39myaw \u001b[38;5;241m-\u001b[39m wpt_rot\u001b[38;5;241m.\u001b[39myaw)\n",
      "\u001b[1;31mNameError\u001b[0m: name 'veh_rot' is not defined"
     ]
    }
   ],
   "source": [
    "# example how to use this for measuring where the car is in relation to where it should be\n",
    "\n",
    "vehicle_transform = vehicle.get_transform()\n",
    "distance_to_wp = selected_wp.transform.location.distance(vehicle_transform.location)\n",
    "direction_difference = (vehicle_transform.rotation.yaw - selected_wp.transform.rotation.yaw) % 180\n",
    "print('deviation from waypoint:',distance_to_wp,'metres')\n",
    "print('angle discrepancy:',direction_difference,'degrees')\n",
    "\n",
    "print(\"rel ang: \", veh_rot.yaw - wpt_rot.yaw)"
   ]
  },
  {
   "cell_type": "code",
   "execution_count": 11,
   "metadata": {},
   "outputs": [],
   "source": [
    "for sensor in world.get_actors().filter('*sensor*'):\n",
    "    sensor.destroy()\n",
    "for actor in world.get_actors().filter('*vehicle*'):\n",
    "    actor.destroy()"
   ]
  },
  {
   "cell_type": "code",
   "execution_count": 45,
   "metadata": {},
   "outputs": [
    {
     "name": "stdout",
     "output_type": "stream",
     "text": [
      "0.5521860122680664\n"
     ]
    }
   ],
   "source": [
    "vehicle_transform = vehicle.get_transform()\n",
    "next_wp = selected_wp.next(20.0)[0]\n",
    "distance_to_wp = selected_wp.transform.location.distance(vehicle_transform.location)\n",
    "direction_difference = (vehicle_transform.rotation.yaw - selected_wp.transform.rotation.yaw) % 180\n",
    "print(distance_to_wp)"
   ]
  },
  {
   "cell_type": "code",
   "execution_count": null,
   "metadata": {},
   "outputs": [],
   "source": []
  }
 ],
 "metadata": {
  "kernelspec": {
   "display_name": "tf2",
   "language": "python",
   "name": "python3"
  },
  "language_info": {
   "codemirror_mode": {
    "name": "ipython",
    "version": 3
   },
   "file_extension": ".py",
   "mimetype": "text/x-python",
   "name": "python",
   "nbconvert_exporter": "python",
   "pygments_lexer": "ipython3",
   "version": "3.8.7"
  },
  "orig_nbformat": 4
 },
 "nbformat": 4,
 "nbformat_minor": 2
}
