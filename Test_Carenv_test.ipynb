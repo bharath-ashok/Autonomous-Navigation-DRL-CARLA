{
 "cells": [
  {
   "cell_type": "code",
   "execution_count": 1,
   "metadata": {},
   "outputs": [],
   "source": [
    "'''\n",
    "Terminology:\n",
    "\tEpisode: one go of the car trying to \"live\" in the simulation and earn max rewards.\n",
    "\t\t\t\tEpisode start from spawning a new car and ends with either car crashing or episode duration limit running out\n",
    "\n",
    "\tTimestep: one frame through simulation: the car gets a obs, reward from prior step and then it makes a decision on control input and sends it to simulation\n",
    "\n",
    "\tReward logic: each timestep a logic is applied to calculate a reward from latest step. \n",
    "\t\t\t\tThis logic represents you describing the desired behaviour the car needs to learn.\n",
    "\n",
    "\tPolicy/model: our objective, what we need learn as part of RL. This is the latest set of rules on what to do at a given camera image.\n",
    "\n",
    "\tIterations: RL training sessions (multiple episodes and timesteps) when a policy/model is saved. So the policy is changed throughout one iteration\n",
    "\t\t\t\tbut then saved in a new file at the end of iteration. This allows to test all models later at different stages of training  \n",
    "'''\t\n",
    "\n",
    "from stable_baselines3 import PPO #PPO\n",
    "from stable_baselines3.common.env_checker import check_env\n",
    "\n",
    "import os\n",
    "from environment import CarEnv\n",
    "import time\n",
    "import carla\n",
    "\n"
   ]
  },
  {
   "cell_type": "code",
   "execution_count": 2,
   "metadata": {},
   "outputs": [],
   "source": [
    "\n",
    "\n",
    "# Directory containing saved models\n",
    "models_dir = \"models/2410/1729763726\"\n",
    "logdir = \"logs/2410/1729763726\"\n",
    "\n",
    "# Ensure the directories exist\n",
    "assert os.path.exists(models_dir), f\"Model directory {models_dir} does not exist!\"\n",
    "assert os.path.exists(logdir), f\"Log directory {logdir} does not exist!\"\n",
    "\n",
    "# List all the saved models in the directory\n",
    "model_files = [f for f in sorted(os.listdir(models_dir)) if f.endswith('.zip')]\n",
    "assert len(model_files) > 0, \"No models found in the models directory!\"\n"
   ]
  },
  {
   "cell_type": "code",
   "execution_count": 3,
   "metadata": {},
   "outputs": [
    {
     "name": "stderr",
     "output_type": "stream",
     "text": [
      "2024-10-25 09:33:45,720 - INFO - Starting episode 1\n",
      "2024-10-25 09:33:45,751 - INFO - Spawned vehicle at: Location(x=111.080017, y=306.419983, z=0.500000)\n",
      "2024-10-25 09:33:45,753 - INFO - Current waypoint: Location(x=109.659309, y=306.550690, z=0.000000)\n",
      "2024-10-25 09:33:45,753 - INFO - Target waypoint: Location(x=112.659309, y=306.551697, z=0.000000)\n",
      "2024-10-25 09:33:45,760 - INFO - lateral_distance: -1.0, speed: 0.0, heading: 0.00010787288968761762\n",
      "2024-10-25 09:33:45,766 - INFO - Starting episode 2\n",
      "2024-10-25 09:33:45,770 - INFO - Spawned vehicle at: Location(x=173.870056, y=105.550011, z=0.500000)\n",
      "2024-10-25 09:33:45,771 - INFO - Current waypoint: Location(x=172.498642, y=105.426109, z=0.000000)\n",
      "2024-10-25 09:33:45,772 - INFO - Target waypoint: Location(x=169.498642, y=105.428146, z=0.000000)\n",
      "2024-10-25 09:33:45,778 - INFO - lateral_distance: 1.0, speed: 0.0, heading: 0.9997837490505642\n",
      "2024-10-25 09:33:45,790 - INFO - Starting episode 3\n",
      "2024-10-25 09:33:45,802 - INFO - Spawned vehicle at: Location(x=25.530020, y=105.549988, z=0.500000)\n",
      "2024-10-25 09:33:45,803 - INFO - Current waypoint: Location(x=25.492962, y=105.475281, z=0.000000)\n",
      "2024-10-25 09:33:45,804 - INFO - Target waypoint: Location(x=22.492983, y=105.486107, z=0.000000)\n",
      "2024-10-25 09:33:45,833 - INFO - lateral_distance: 1.0, speed: 0.0, heading: 0.998850843641493\n"
     ]
    },
    {
     "name": "stdout",
     "output_type": "stream",
     "text": [
      "Observation: [-1.0000000e+00  0.0000000e+00  1.0787289e-04]\n",
      "Observation: [1.         0.         0.99978375]\n",
      "Observation: [1.        0.        0.9988508]\n"
     ]
    },
    {
     "name": "stderr",
     "output_type": "stream",
     "text": [
      "2024-10-25 09:33:46,060 - INFO - Starting episode 4\n",
      "2024-10-25 09:33:46,078 - INFO - Spawned vehicle at: Location(x=111.080017, y=306.419983, z=0.500000)\n",
      "2024-10-25 09:33:46,080 - INFO - Current waypoint: Location(x=109.659309, y=306.550690, z=0.000000)\n",
      "2024-10-25 09:33:46,080 - INFO - Target waypoint: Location(x=112.659309, y=306.551697, z=0.000000)\n",
      "2024-10-25 09:33:46,105 - INFO - lateral_distance: -1.0, speed: 0.0, heading: 0.00010787288968761762\n"
     ]
    },
    {
     "name": "stdout",
     "output_type": "stream",
     "text": [
      "Vehicle transform: Transform(Location(x=25.530020, y=105.549988, z=0.208296), Rotation(pitch=0.000000, yaw=-179.999634, roll=0.000000)), Yaw:-179.9996337890625, WP_Yaw:179.79315185546875 relative_yaw: 0.20721435546875\n",
      "Observation: [-0.02494835  0.         -0.00115119]\n",
      "Observation: [-1.0000000e+00  0.0000000e+00  1.0787289e-04]\n"
     ]
    },
    {
     "data": {
      "text/plain": [
       "(array([-1.0000000e+00,  0.0000000e+00,  1.0787289e-04], dtype=float32), {})"
      ]
     },
     "execution_count": 3,
     "metadata": {},
     "output_type": "execute_result"
    }
   ],
   "source": [
    "\n",
    "# Load the environment\n",
    "env = CarEnv()\n",
    "check_env(env)\n",
    "env.reset()\n"
   ]
  },
  {
   "cell_type": "code",
   "execution_count": 4,
   "metadata": {},
   "outputs": [
    {
     "name": "stdout",
     "output_type": "stream",
     "text": [
      "Loading model from models/2410/1729763726\\750000.zip\n",
      "Wrapping the env with a `Monitor` wrapper\n",
      "Wrapping the env in a DummyVecEnv.\n"
     ]
    }
   ],
   "source": [
    "\n",
    "# Select the most recent model to test\n",
    "latest_model_path = os.path.join(models_dir, model_files[-1])\n",
    "print(f\"Loading model from {latest_model_path}\")\n",
    "model = PPO.load(latest_model_path, env=env)\n",
    "\n",
    "# Number of episodes to test\n",
    "num_test_episodes = 5"
   ]
  },
  {
   "cell_type": "code",
   "execution_count": 5,
   "metadata": {},
   "outputs": [
    {
     "name": "stderr",
     "output_type": "stream",
     "text": [
      "2024-10-25 09:33:48,077 - INFO - Starting episode 5\n",
      "2024-10-25 09:33:48,081 - INFO - Spawned vehicle at: Location(x=193.779999, y=142.190002, z=0.500000)\n",
      "2024-10-25 09:33:48,082 - INFO - Current waypoint: Location(x=193.707352, y=142.092743, z=0.000000)\n",
      "2024-10-25 09:33:48,083 - INFO - Target waypoint: Location(x=193.711441, y=139.092743, z=0.000000)\n",
      "2024-10-25 09:33:48,090 - INFO - lateral_distance: -1.0, speed: 0.0, heading: -0.49956758287217884\n"
     ]
    },
    {
     "name": "stdout",
     "output_type": "stream",
     "text": [
      "Observation: [-1.          0.         -0.49956757]\n",
      "Starting Episode 1\n",
      "Vehicle transform: Transform(Location(x=193.779999, y=142.190002, z=0.208296), Rotation(pitch=0.000000, yaw=-89.999817, roll=0.000000)), Yaw:-89.99981689453125, WP_Yaw:-89.92216491699219 relative_yaw: -0.0776519775390625\n",
      "Observation: [0.02425507 0.         0.0004314 ]\n",
      "Vehicle transform: Transform(Location(x=193.783295, y=142.061920, z=0.220926), Rotation(pitch=0.070344, yaw=-89.866646, roll=-0.004730)), Yaw:-89.86664581298828, WP_Yaw:-89.92216491699219 relative_yaw: 0.05551910400390625\n",
      "Observation: [ 0.0252957   0.1        -0.00030844]\n",
      "Vehicle transform: Transform(Location(x=193.743439, y=140.851929, z=0.221509), Rotation(pitch=0.028086, yaw=-91.008652, roll=0.001375)), Yaw:-91.00865173339844, WP_Yaw:-89.92216491699219 relative_yaw: -1.08648681640625\n",
      "Observation: [0.01146248 0.16666667 0.00603604]\n",
      "Vehicle transform: Transform(Location(x=193.631729, y=139.205475, z=0.221568), Rotation(pitch=0.018722, yaw=-93.239349, roll=-0.000397)), Yaw:-93.23934936523438, WP_Yaw:-89.92216491699219 relative_yaw: -3.3171844482421875\n",
      "Observation: [-0.02651913  0.21666667  0.0184288 ]\n",
      "Vehicle transform: Transform(Location(x=193.451538, y=137.294037, z=0.221666), Rotation(pitch=0.002111, yaw=-95.036552, roll=0.022131)), Yaw:-95.03655242919922, WP_Yaw:-89.92216491699219 relative_yaw: -5.114387512207031\n",
      "Observation: [-0.0874483   0.21666667  0.02841326]\n",
      "Vehicle transform: Transform(Location(x=193.300079, y=135.242340, z=0.221575), Rotation(pitch=0.017677, yaw=-94.439941, roll=-0.044769)), Yaw:-94.43994140625, WP_Yaw:-89.92216491699219 relative_yaw: -4.5177764892578125\n",
      "Observation: [-0.13886312  0.26666668  0.02509876]\n",
      "Vehicle transform: Transform(Location(x=193.326096, y=132.930908, z=0.221674), Rotation(pitch=0.000861, yaw=-88.429626, roll=-0.117981)), Yaw:-88.42962646484375, WP_Yaw:-89.92216491699219 relative_yaw: 1.4925384521484375\n",
      "Observation: [-0.13123728  0.26666668  0.06764831]\n",
      "Vehicle transform: Transform(Location(x=193.670547, y=130.562042, z=0.221653), Rotation(pitch=0.004344, yaw=-81.338943, roll=-0.063324)), Yaw:-81.33894348144531, WP_Yaw:-89.92216491699219 relative_yaw: 8.583221435546875\n",
      "Observation: [-0.01749233  0.28333333  0.1246109 ]\n"
     ]
    },
    {
     "name": "stderr",
     "output_type": "stream",
     "text": [
      "2024-10-25 09:33:49,945 - INFO - lateral_distance: 0.13136676646854964, speed: 0.31666666666666665, heading: 0.24426006740993925\n"
     ]
    },
    {
     "name": "stdout",
     "output_type": "stream",
     "text": [
      "Vehicle transform: Transform(Location(x=193.927826, y=128.048447, z=0.221878), Rotation(pitch=0.003080, yaw=-85.182793, roll=0.035460)), Yaw:-85.18279266357422, WP_Yaw:-89.92216491699219 relative_yaw: 4.739372253417969\n",
      "Observation: [0.06712887 0.3        0.14596562]\n",
      "Action: [2 1], Steer: -0.1, Throttle: 0.2, Brake: 0.0\n",
      "Vehicle transform: Transform(Location(x=194.124115, y=125.415710, z=0.221830), Rotation(pitch=0.002643, yaw=-85.626831, roll=0.019803)), Yaw:-85.6268310546875, WP_Yaw:-89.92216491699219 relative_yaw: 4.2953338623046875\n",
      "Observation: [0.13136676 0.31666666 0.24426007]\n",
      "Vehicle transform: Transform(Location(x=194.114258, y=122.759392, z=0.221833), Rotation(pitch=0.001878, yaw=-90.765701, roll=0.042130)), Yaw:-90.76570129394531, WP_Yaw:-89.92216491699219 relative_yaw: -0.843536376953125\n",
      "Observation: [0.12687863 0.31666666 0.36553252]\n",
      "Vehicle transform: Transform(Location(x=193.956467, y=120.102936, z=0.221846), Rotation(pitch=-0.000273, yaw=-93.414856, roll=0.002568)), Yaw:-93.41485595703125, WP_Yaw:-89.92216491699219 relative_yaw: -3.4926910400390625\n",
      "Observation: [0.07307917 0.31666666 0.4729732 ]\n",
      "Vehicle transform: Transform(Location(x=193.892715, y=117.406609, z=0.221460), Rotation(pitch=-0.011502, yaw=-89.947128, roll=-0.090027)), Yaw:-89.94712829589844, WP_Yaw:256.4085998535156 relative_yaw: 13.644271850585938\n",
      "Observation: [-0.05931868  0.31666666  0.34890696]\n",
      "Vehicle transform: Transform(Location(x=193.986893, y=114.616989, z=0.221007), Rotation(pitch=-0.003415, yaw=-88.436722, roll=-0.048340)), Yaw:-88.43672180175781, WP_Yaw:239.0646514892578 relative_yaw: 32.498626708984375\n",
      "Observation: [-0.01058153  0.33333334  0.14780527]\n"
     ]
    },
    {
     "name": "stderr",
     "output_type": "stream",
     "text": [
      "2024-10-25 09:33:50,795 - INFO - Collision detected, resetting vehicle.\n"
     ]
    },
    {
     "name": "stdout",
     "output_type": "stream",
     "text": [
      "Next waypoint after collision: Location(x=193.711441, y=139.092743, z=0.000000)\n",
      "Vehicle transform: Transform(Location(x=193.676498, y=142.043564, z=0.192375), Rotation(pitch=0.881969, yaw=-88.813164, roll=-1.376678)), Yaw:-88.81316375732422, WP_Yaw:-89.92216491699219 relative_yaw: 1.1090011596679688\n",
      "Observation: [-0.01031134  0.08333334 -0.00616112]\n",
      "Vehicle transform: Transform(Location(x=193.642654, y=140.934906, z=0.223830), Rotation(pitch=0.142491, yaw=-89.480339, roll=-0.161133)), Yaw:-89.48033905029297, WP_Yaw:-89.92216491699219 relative_yaw: 0.44182586669921875\n",
      "Observation: [-0.02209468  0.16666667 -0.00245459]\n",
      "Vehicle transform: Transform(Location(x=193.711227, y=139.334442, z=0.221626), Rotation(pitch=0.018831, yaw=-88.164238, roll=-0.023132)), Yaw:-88.16423797607422, WP_Yaw:-89.92216491699219 relative_yaw: 1.7579269409179688\n",
      "Observation: [ 3.8672948e-05  2.0000000e-01 -9.7662611e-03]\n",
      "Vehicle transform: Transform(Location(x=193.776855, y=137.368652, z=0.221471), Rotation(pitch=0.035462, yaw=-87.784775, roll=-0.031738)), Yaw:-87.78477478027344, WP_Yaw:-89.92216491699219 relative_yaw: 2.13739013671875\n",
      "Observation: [ 0.02102452  0.26666668 -0.01187439]\n"
     ]
    },
    {
     "name": "stderr",
     "output_type": "stream",
     "text": [
      "2024-10-25 09:33:51,741 - INFO - lateral_distance: -0.059659008412703794, speed: 0.31666666666666665, heading: 0.11056043836805556\n"
     ]
    },
    {
     "name": "stdout",
     "output_type": "stream",
     "text": [
      "Vehicle transform: Transform(Location(x=193.801468, y=134.798019, z=0.221834), Rotation(pitch=0.010389, yaw=-90.704399, roll=0.047919)), Yaw:-90.70439910888672, WP_Yaw:-89.92216491699219 relative_yaw: -0.7822341918945312\n",
      "Observation: [0.02806505 0.31666666 0.00434575]\n",
      "Action: [7 1], Steer: 0.25, Throttle: 0.2, Brake: 0.0\n",
      "Vehicle transform: Transform(Location(x=193.541916, y=132.131989, z=0.221822), Rotation(pitch=0.004105, yaw=-96.153809, roll=0.041950)), Yaw:-96.15380859375, WP_Yaw:-89.92216491699219 relative_yaw: -6.2316436767578125\n",
      "Observation: [-0.05965901  0.31666666  0.11056044]\n",
      "Vehicle transform: Transform(Location(x=193.316406, y=129.483093, z=0.221868), Rotation(pitch=-0.004119, yaw=-93.410576, roll=-0.015869)), Yaw:-93.41057586669922, WP_Yaw:-89.92216491699219 relative_yaw: -3.4884109497070312\n",
      "Observation: [-0.13602787  0.3         0.19167553]\n",
      "Vehicle transform: Transform(Location(x=193.349274, y=126.805809, z=0.221772), Rotation(pitch=0.012288, yaw=-89.507492, roll=0.041897)), Yaw:-89.50749206542969, WP_Yaw:-89.92216491699219 relative_yaw: 0.4146728515625\n",
      "Observation: [-0.12628396  0.33333334  0.26581928]\n",
      "Vehicle transform: Transform(Location(x=193.434952, y=123.916412, z=0.221818), Rotation(pitch=0.004440, yaw=-86.777679, roll=-0.053345)), Yaw:-86.77767944335938, WP_Yaw:-89.92216491699219 relative_yaw: 3.1444854736328125\n",
      "Observation: [-0.09903257  0.35        0.34337685]\n",
      "Vehicle transform: Transform(Location(x=193.975662, y=121.091606, z=0.221874), Rotation(pitch=-0.005129, yaw=-78.260170, roll=-0.039642)), Yaw:-78.26016998291016, WP_Yaw:-89.92216491699219 relative_yaw: 11.661994934082031\n",
      "Observation: [0.07992537 0.33333334 0.3887805 ]\n",
      "Vehicle transform: Transform(Location(x=194.522888, y=118.318375, z=0.221702), Rotation(pitch=-0.007267, yaw=-79.931702, roll=0.061131)), Yaw:-79.93170166015625, WP_Yaw:-89.92216491699219 relative_yaw: 9.990463256835938\n",
      "Observation: [0.2610781  0.33333334 0.3980668 ]\n",
      "Vehicle transform: Transform(Location(x=194.813858, y=115.449883, z=0.244437), Rotation(pitch=0.927560, yaw=-84.964592, roll=-1.821014)), Yaw:-84.96459197998047, WP_Yaw:-89.92216491699219 relative_yaw: 4.957572937011719\n",
      "Observation: [0.35676903 0.35       0.4260273 ]\n"
     ]
    },
    {
     "name": "stderr",
     "output_type": "stream",
     "text": [
      "2024-10-25 09:33:52,837 - INFO - Collision detected, resetting vehicle.\n"
     ]
    },
    {
     "name": "stdout",
     "output_type": "stream",
     "text": [
      "Next waypoint after collision: Location(x=193.711441, y=139.092743, z=0.000000)\n",
      "Vehicle transform: Transform(Location(x=193.656418, y=141.806244, z=0.240003), Rotation(pitch=1.046337, yaw=-89.484650, roll=-0.733612)), Yaw:-89.48464965820312, WP_Yaw:-89.92216491699219 relative_yaw: 0.4375152587890625\n",
      "Observation: [-0.01711231  0.1        -0.00243064]\n",
      "Vehicle transform: Transform(Location(x=193.567413, y=140.772812, z=0.222417), Rotation(pitch=0.071908, yaw=-93.047150, roll=-0.011871)), Yaw:-93.04714965820312, WP_Yaw:-89.92216491699219 relative_yaw: -3.1249847412109375\n",
      "Observation: [-0.04724842  0.13333334  0.01736103]\n"
     ]
    },
    {
     "name": "stderr",
     "output_type": "stream",
     "text": [
      "2024-10-25 09:33:53,465 - INFO - lateral_distance: -0.15285142783645078, speed: 0.2, heading: 0.02992189195421007\n"
     ]
    },
    {
     "name": "stdout",
     "output_type": "stream",
     "text": [
      "Vehicle transform: Transform(Location(x=193.419312, y=139.486328, z=0.221590), Rotation(pitch=0.018305, yaw=-95.016899, roll=-0.037628)), Yaw:-95.01689910888672, WP_Yaw:-89.92216491699219 relative_yaw: -5.094734191894531\n",
      "Observation: [-0.09719776  0.16666667  0.02830408]\n",
      "Action: [6 1], Steer: 0.1, Throttle: 0.2, Brake: 0.0\n",
      "Vehicle transform: Transform(Location(x=193.254486, y=137.914169, z=0.221569), Rotation(pitch=0.018626, yaw=-95.308105, roll=-0.020203)), Yaw:-95.30810546875, WP_Yaw:-89.92216491699219 relative_yaw: -5.3859405517578125\n",
      "Observation: [-0.15285143  0.2         0.02992189]\n",
      "Vehicle transform: Transform(Location(x=193.104996, y=136.022690, z=0.221666), Rotation(pitch=0.002220, yaw=-94.318306, roll=-0.073791)), Yaw:-94.31830596923828, WP_Yaw:-89.92216491699219 relative_yaw: -4.396141052246094\n",
      "Observation: [-0.20353757  0.21666667  0.02442301]\n",
      "Vehicle transform: Transform(Location(x=193.160995, y=133.931793, z=0.221552), Rotation(pitch=0.021611, yaw=-89.374985, roll=-0.049530)), Yaw:-89.37498474121094, WP_Yaw:-89.92216491699219 relative_yaw: 0.54718017578125\n",
      "Observation: [-0.18581781  0.26666668 -0.00303989]\n",
      "Vehicle transform: Transform(Location(x=193.386200, y=131.560745, z=0.221873), Rotation(pitch=0.018339, yaw=-85.649719, roll=-0.044678)), Yaw:-85.64971923828125, WP_Yaw:-89.92216491699219 relative_yaw: 4.2724456787109375\n",
      "Observation: [-0.11182295  0.3         0.05220439]\n",
      "Vehicle transform: Transform(Location(x=193.739838, y=129.208282, z=0.221582), Rotation(pitch=0.008640, yaw=-81.914536, roll=0.002521)), Yaw:-81.91453552246094, WP_Yaw:-89.92216491699219 relative_yaw: 8.00762939453125\n",
      "Observation: [0.00499136 0.28333333 0.12780863]\n",
      "Vehicle transform: Transform(Location(x=194.194504, y=126.747368, z=0.221898), Rotation(pitch=0.002780, yaw=-80.472549, roll=0.000356)), Yaw:-80.47254943847656, WP_Yaw:-89.92216491699219 relative_yaw: 9.449615478515625\n",
      "Observation: [0.15543269 0.3        0.21562517]\n",
      "Vehicle transform: Transform(Location(x=194.501984, y=124.194847, z=0.221790), Rotation(pitch=0.010314, yaw=-83.308136, roll=0.016411)), Yaw:-83.30813598632812, WP_Yaw:-89.92216491699219 relative_yaw: 6.6140289306640625\n",
      "Observation: [0.25677004 0.31666666 0.23137842]\n",
      "Vehicle transform: Transform(Location(x=194.640594, y=121.378456, z=0.221845), Rotation(pitch=-0.000246, yaw=-88.646782, roll=0.108790)), Yaw:-88.64678192138672, WP_Yaw:-89.92216491699219 relative_yaw: 1.2753829956054688\n",
      "Observation: [0.30169827 0.33333334 0.26103756]\n",
      "Vehicle transform: Transform(Location(x=194.478226, y=118.557388, z=0.221744), Rotation(pitch=-0.009036, yaw=-94.558960, roll=0.040335)), Yaw:-94.5589599609375, WP_Yaw:-89.92216491699219 relative_yaw: -4.6367950439453125\n",
      "Observation: [0.24629797 0.33333334 0.293883  ]\n"
     ]
    },
    {
     "name": "stderr",
     "output_type": "stream",
     "text": [
      "2024-10-25 09:33:55,048 - INFO - Passed waypoint. Reward: 5.0, Next waypoint: Transform(Location(x=193.711441, y=139.092743, z=0.000000), Rotation(pitch=0.000000, yaw=-89.922165, roll=0.000000))\n",
      "2024-10-25 09:33:55,199 - INFO - Reward: 15.0, Episode time limit reached\n",
      "2024-10-25 09:33:55,231 - INFO - Starting episode 6\n",
      "2024-10-25 09:33:55,247 - INFO - Spawned vehicle at: Location(x=193.779999, y=171.289993, z=0.500000)\n"
     ]
    },
    {
     "name": "stdout",
     "output_type": "stream",
     "text": [
      "Vehicle transform: Transform(Location(x=193.633987, y=141.545853, z=0.239557), Rotation(pitch=0.678163, yaw=-91.649437, roll=-1.401611)), Yaw:-91.6494369506836, WP_Yaw:-89.92216491699219 relative_yaw: -1.7272720336914062\n",
      "Observation: [-0.02470703  0.31666666  0.00959596]\n",
      "Action: [5 2], Steer: 0.05, Throttle: 0.4, Brake: 0.0\n",
      "Vehicle transform: Transform(Location(x=193.417633, y=138.876907, z=0.224100), Rotation(pitch=0.045059, yaw=-93.136292, roll=-0.153809)), Yaw:-93.13629150390625, WP_Yaw:-89.92216491699219 relative_yaw: -3.2141265869140625\n",
      "Episode 1 finished. Total Reward: 4249.248038585524 after 400 timesteps.\n",
      "\n"
     ]
    },
    {
     "name": "stderr",
     "output_type": "stream",
     "text": [
      "2024-10-25 09:33:55,250 - INFO - Current waypoint: Location(x=193.682220, y=172.089539, z=0.000000)\n",
      "2024-10-25 09:33:55,250 - INFO - Target waypoint: Location(x=193.681534, y=169.089539, z=0.000000)\n",
      "2024-10-25 09:33:55,261 - INFO - lateral_distance: -1.0, speed: 0.0, heading: -0.5005762736002605\n"
     ]
    },
    {
     "name": "stdout",
     "output_type": "stream",
     "text": [
      "Observation: [-1.          0.         -0.50057626]\n",
      "Starting Episode 2\n",
      "Vehicle transform: Transform(Location(x=193.779999, y=171.289978, z=0.208296), Rotation(pitch=0.000000, yaw=-89.999817, roll=0.000000)), Yaw:-89.99981689453125, WP_Yaw:-90.01294708251953 relative_yaw: 0.01313018798828125\n",
      "Observation: [0.03265593 0.         0.0004314 ]\n",
      "Vehicle transform: Transform(Location(x=193.779999, y=171.289978, z=0.221338), Rotation(pitch=0.000000, yaw=-89.999817, roll=0.000000)), Yaw:-89.99981689453125, WP_Yaw:-90.01294708251953 relative_yaw: 0.01313018798828125\n",
      "Observation: [0.03265593 0.         0.0004314 ]\n",
      "Vehicle transform: Transform(Location(x=193.745773, y=170.725037, z=0.221218), Rotation(pitch=0.077557, yaw=-91.225822, roll=0.014300)), Yaw:-91.22582244873047, WP_Yaw:-90.01294708251953 relative_yaw: -1.2128753662109375\n",
      "Observation: [0.02128999 0.15       0.00724254]\n",
      "Vehicle transform: Transform(Location(x=193.508926, y=168.976349, z=0.221499), Rotation(pitch=0.030497, yaw=-97.318077, roll=0.045136)), Yaw:-97.31807708740234, WP_Yaw:-90.01294708251953 relative_yaw: -7.3051300048828125\n",
      "Observation: [-0.05752943  0.23333333  0.0410884 ]\n",
      "Vehicle transform: Transform(Location(x=193.284683, y=166.685410, z=0.221596), Rotation(pitch=0.013995, yaw=-95.877937, roll=-0.019958)), Yaw:-95.87793731689453, WP_Yaw:-90.01294708251953 relative_yaw: -5.864990234375\n",
      "Observation: [-0.13210167  0.28333333  0.03308763]\n",
      "Vehicle transform: Transform(Location(x=193.252151, y=164.205414, z=0.221878), Rotation(pitch=0.005280, yaw=-90.069977, roll=-0.036652)), Yaw:-90.06997680664062, WP_Yaw:-90.01294708251953 relative_yaw: -0.05702972412109375\n",
      "Observation: [-0.1427588   0.3         0.00082118]\n",
      "Vehicle transform: Transform(Location(x=193.308212, y=161.663849, z=0.221821), Rotation(pitch=0.006058, yaw=-89.634705, roll=-0.026276)), Yaw:-89.63470458984375, WP_Yaw:-89.92216491699219 relative_yaw: 0.2874603271484375\n",
      "Observation: [-0.12418672  0.3        -0.001597  ]\n",
      "Vehicle transform: Transform(Location(x=193.525330, y=158.998459, z=0.221822), Rotation(pitch=0.003757, yaw=-85.193932, roll=-0.043488)), Yaw:-85.19393157958984, WP_Yaw:-89.92216491699219 relative_yaw: 4.728233337402344\n",
      "Observation: [-0.05302086  0.31666666 -0.02626796]\n",
      "Vehicle transform: Transform(Location(x=193.791382, y=156.339661, z=0.221877), Rotation(pitch=-0.005560, yaw=-86.457909, roll=0.172508)), Yaw:-86.4579086303711, WP_Yaw:-89.92216491699219 relative_yaw: 3.4642562866210938\n",
      "Observation: [ 0.03445961  0.31666666 -0.01924587]\n"
     ]
    },
    {
     "name": "stderr",
     "output_type": "stream",
     "text": [
      "2024-10-25 09:33:56,841 - INFO - lateral_distance: 0.0024015113408151767, speed: 0.3, heading: 0.007341088189019097\n"
     ]
    },
    {
     "name": "stdout",
     "output_type": "stream",
     "text": [
      "Action: [4 2], Steer: 0.0, Throttle: 0.4, Brake: 0.0\n",
      "Vehicle transform: Transform(Location(x=193.698700, y=153.767792, z=0.221839), Rotation(pitch=-0.003600, yaw=-91.243561, roll=0.047305)), Yaw:-91.24356079101562, WP_Yaw:-89.92216491699219 relative_yaw: -1.3213958740234375\n",
      "Observation: [0.00240151 0.3        0.00734109]\n",
      "Vehicle transform: Transform(Location(x=193.565750, y=151.228485, z=0.221813), Rotation(pitch=0.006181, yaw=-92.760979, roll=0.002786)), Yaw:-92.76097869873047, WP_Yaw:-89.92216491699219 relative_yaw: -2.8388137817382812\n",
      "Observation: [-0.04306448  0.3         0.01577119]\n",
      "Vehicle transform: Transform(Location(x=193.491135, y=148.519623, z=0.221842), Rotation(pitch=0.000389, yaw=-92.576874, roll=0.052465)), Yaw:-92.57687377929688, WP_Yaw:-89.92216491699219 relative_yaw: -2.6547088623046875\n",
      "Observation: [-0.06916248  0.31666666  0.01474838]\n",
      "Vehicle transform: Transform(Location(x=193.376602, y=145.799011, z=0.221769), Rotation(pitch=0.012772, yaw=-91.630219, roll=-0.037567)), Yaw:-91.63021850585938, WP_Yaw:-89.92216491699219 relative_yaw: -1.7080535888671875\n",
      "Observation: [-0.10857189  0.33333334  0.00948919]\n",
      "Vehicle transform: Transform(Location(x=193.503571, y=142.908295, z=0.221850), Rotation(pitch=-0.001011, yaw=-86.657494, roll=-0.021301)), Yaw:-86.6574935913086, WP_Yaw:-89.92216491699219 relative_yaw: 3.2646713256835938\n",
      "Observation: [-0.06755768  0.33333334 -0.01813706]\n",
      "Vehicle transform: Transform(Location(x=193.642746, y=140.014023, z=0.221790), Rotation(pitch=0.009228, yaw=-87.369308, roll=-0.003387)), Yaw:-87.36930847167969, WP_Yaw:-89.92216491699219 relative_yaw: 2.5528564453125\n",
      "Observation: [-0.02248116  0.35       -0.01418254]\n",
      "Vehicle transform: Transform(Location(x=193.763336, y=137.037628, z=0.221865), Rotation(pitch=-0.003634, yaw=-87.258141, roll=-0.015259)), Yaw:-87.25814056396484, WP_Yaw:-89.92216491699219 relative_yaw: 2.6640243530273438\n",
      "Observation: [ 0.0163682   0.35       -0.01480014]\n",
      "Vehicle transform: Transform(Location(x=193.833160, y=134.051285, z=0.221771), Rotation(pitch=0.012458, yaw=-88.786499, roll=0.005285)), Yaw:-88.7864990234375, WP_Yaw:-89.92216491699219 relative_yaw: 1.1356658935546875\n",
      "Observation: [ 0.03829107  0.36666667 -0.00630926]\n",
      "Vehicle transform: Transform(Location(x=194.169571, y=130.753540, z=0.221818), Rotation(pitch=0.004440, yaw=-82.526566, roll=-0.072540)), Yaw:-82.52656555175781, WP_Yaw:-89.92216491699219 relative_yaw: 7.395599365234375\n",
      "Observation: [0.14893495 0.4        0.03485353]\n",
      "Vehicle transform: Transform(Location(x=194.342178, y=127.474762, z=0.221832), Rotation(pitch=0.002070, yaw=-88.017609, roll=0.020606)), Yaw:-88.01760864257812, WP_Yaw:-89.92216491699219 relative_yaw: 1.9045562744140625\n",
      "Observation: [0.20498644 0.38333333 0.1617146 ]\n"
     ]
    },
    {
     "name": "stderr",
     "output_type": "stream",
     "text": [
      "2024-10-25 09:33:58,557 - INFO - lateral_distance: 0.19415262044004603, speed: 0.4, heading: 0.3656309339735243\n"
     ]
    },
    {
     "name": "stdout",
     "output_type": "stream",
     "text": [
      "Action: [4 4], Steer: 0.0, Throttle: 0.8, Brake: 0.0\n",
      "Vehicle transform: Transform(Location(x=194.314209, y=124.136658, z=0.221820), Rotation(pitch=0.004119, yaw=-90.783417, roll=0.053648)), Yaw:-90.78341674804688, WP_Yaw:-89.92216491699219 relative_yaw: -0.8612518310546875\n",
      "Observation: [0.19415262 0.4        0.36563092]\n",
      "Vehicle transform: Transform(Location(x=194.294373, y=120.672791, z=0.221835), Rotation(pitch=0.001496, yaw=-89.766968, roll=0.014709)), Yaw:-89.7669677734375, WP_Yaw:-89.92216491699219 relative_yaw: 0.1551971435546875\n",
      "Observation: [0.18597241 0.41666666 0.45270717]\n",
      "Vehicle transform: Transform(Location(x=194.240234, y=117.199097, z=0.221548), Rotation(pitch=-0.022130, yaw=-90.619133, roll=-0.037537)), Yaw:-90.61913299560547, WP_Yaw:256.4085998535156 relative_yaw: 12.972267150878906\n",
      "Observation: [0.06953185 0.4        0.35264033]\n",
      "Vehicle transform: Transform(Location(x=194.236420, y=113.962860, z=0.221122), Rotation(pitch=-0.009521, yaw=-90.651535, roll=0.011504)), Yaw:-90.65153503417969, WP_Yaw:256.4085998535156 relative_yaw: 12.939865112304688\n",
      "Observation: [0.32179686 0.36666667 0.35282034]\n"
     ]
    },
    {
     "name": "stderr",
     "output_type": "stream",
     "text": [
      "2024-10-25 09:33:59,306 - INFO - Collision detected, resetting vehicle.\n"
     ]
    },
    {
     "name": "stdout",
     "output_type": "stream",
     "text": [
      "Next waypoint after collision: Location(x=193.681534, y=169.089539, z=0.000000)\n",
      "Vehicle transform: Transform(Location(x=193.641907, y=171.892502, z=0.233837), Rotation(pitch=0.970529, yaw=-89.345825, roll=-1.374176)), Yaw:-89.3458251953125, WP_Yaw:-90.01294708251953 relative_yaw: 0.6671218872070312\n",
      "Observation: [-0.01342013  0.1        -0.00421058]\n",
      "Vehicle transform: Transform(Location(x=193.658905, y=170.903778, z=0.222726), Rotation(pitch=0.070850, yaw=-89.133545, roll=-0.105011)), Yaw:-89.133544921875, WP_Yaw:-90.01294708251953 relative_yaw: 0.8794021606445312\n",
      "Observation: [-0.00767957  0.13333334 -0.00538991]\n",
      "Vehicle transform: Transform(Location(x=193.691284, y=169.478867, z=0.221556), Rotation(pitch=0.025183, yaw=-88.969299, roll=-0.001373)), Yaw:-88.96929931640625, WP_Yaw:-90.01294708251953 relative_yaw: 1.0436477661132812\n",
      "Observation: [ 0.00321865  0.18333334 -0.00630239]\n",
      "Vehicle transform: Transform(Location(x=193.702606, y=167.768509, z=0.221642), Rotation(pitch=0.006236, yaw=-90.056931, roll=0.077486)), Yaw:-90.05693054199219, WP_Yaw:-90.01294708251953 relative_yaw: -0.04398345947265625\n",
      "Observation: [0.00712147 0.2        0.0007487 ]\n",
      "Vehicle transform: Transform(Location(x=193.590897, y=165.770721, z=0.221605), Rotation(pitch=0.012581, yaw=-92.013741, roll=-0.027649)), Yaw:-92.01374053955078, WP_Yaw:-90.01294708251953 relative_yaw: -2.00079345703125\n",
      "Observation: [-0.02996166  0.25        0.01161986]\n"
     ]
    },
    {
     "name": "stderr",
     "output_type": "stream",
     "text": [
      "2024-10-25 09:34:00,630 - INFO - lateral_distance: -0.09840117411012007, speed: 0.3, heading: 0.005105336507161458\n"
     ]
    },
    {
     "name": "stdout",
     "output_type": "stream",
     "text": [
      "Vehicle transform: Transform(Location(x=193.473740, y=163.561035, z=0.221604), Rotation(pitch=0.012725, yaw=-92.890060, roll=-0.006287)), Yaw:-92.89006042480469, WP_Yaw:-90.01294708251953 relative_yaw: -2.8771133422851562\n",
      "Observation: [-0.0681519   0.26666668  0.01648831]\n",
      "Action: [7 5], Steer: 0.25, Throttle: 1, Brake: 0.0\n",
      "Vehicle transform: Transform(Location(x=193.386322, y=161.109512, z=0.221717), Rotation(pitch=0.004214, yaw=-90.841125, roll=-0.111572)), Yaw:-90.84112548828125, WP_Yaw:-89.92216491699219 relative_yaw: -0.9189605712890625\n",
      "Observation: [-0.09840117  0.3         0.00510534]\n",
      "Vehicle transform: Transform(Location(x=193.577454, y=158.603561, z=0.221808), Rotation(pitch=0.000007, yaw=-86.490417, roll=0.006393)), Yaw:-86.49041748046875, WP_Yaw:-89.92216491699219 relative_yaw: 3.4317474365234375\n",
      "Observation: [-0.03582503  0.3        -0.01906526]\n",
      "Vehicle transform: Transform(Location(x=193.657303, y=156.088440, z=0.221836), Rotation(pitch=0.005710, yaw=-88.071587, roll=0.010742)), Yaw:-88.07158660888672, WP_Yaw:-89.92216491699219 relative_yaw: 1.8505783081054688\n",
      "Observation: [-0.0103471   0.3        -0.01028099]\n",
      "Vehicle transform: Transform(Location(x=193.719788, y=153.515350, z=0.221863), Rotation(pitch=-0.002718, yaw=-87.722168, roll=-0.003204)), Yaw:-87.72216796875, WP_Yaw:-89.92216491699219 relative_yaw: 2.1999969482421875\n",
      "Observation: [ 0.00931641  0.3        -0.01222221]\n",
      "Vehicle transform: Transform(Location(x=193.783905, y=150.951706, z=0.221852), Rotation(pitch=-0.001127, yaw=-89.486137, roll=-0.002991)), Yaw:-89.48613739013672, WP_Yaw:-89.92216491699219 relative_yaw: 0.43602752685546875\n",
      "Observation: [ 0.02952843  0.3        -0.00242238]\n",
      "Vehicle transform: Transform(Location(x=193.659454, y=148.251846, z=0.221807), Rotation(pitch=0.006243, yaw=-93.002960, roll=0.007328)), Yaw:-93.00296020507812, WP_Yaw:-89.92216491699219 relative_yaw: -3.0807952880859375\n",
      "Observation: [-0.01317722  0.33333334  0.01711553]\n",
      "Vehicle transform: Transform(Location(x=193.621796, y=145.501572, z=0.221834), Rotation(pitch=0.001776, yaw=-92.101372, roll=-0.005371)), Yaw:-92.10137176513672, WP_Yaw:-89.92216491699219 relative_yaw: -2.1792068481445312\n",
      "Observation: [-0.02697506  0.33333334  0.0121067 ]\n",
      "Vehicle transform: Transform(Location(x=193.522873, y=142.589783, z=0.221753), Rotation(pitch=0.015593, yaw=-92.757927, roll=0.024681)), Yaw:-92.75792694091797, WP_Yaw:-89.92216491699219 relative_yaw: -2.8357620239257812\n",
      "Observation: [-0.06127245  0.36666667  0.01575423]\n",
      "Vehicle transform: Transform(Location(x=193.264252, y=139.511566, z=0.221871), Rotation(pitch=-0.004522, yaw=-93.591553, roll=-0.135834)), Yaw:-93.591552734375, WP_Yaw:-89.92216491699219 relative_yaw: -3.6693878173828125\n",
      "Observation: [-0.14887288  0.36666667  0.02038549]\n",
      "Vehicle transform: Transform(Location(x=193.407150, y=136.625916, z=0.221898), Rotation(pitch=-0.009187, yaw=-87.584099, roll=-0.002380)), Yaw:-87.58409881591797, WP_Yaw:-89.92216491699219 relative_yaw: 2.3380661010742188\n",
      "Observation: [-0.10254633  0.33333334 -0.01298926]\n"
     ]
    },
    {
     "name": "stderr",
     "output_type": "stream",
     "text": [
      "2024-10-25 09:34:02,660 - INFO - Reward: 15.0, Episode time limit reached\n",
      "2024-10-25 09:34:02,700 - INFO - Starting episode 7\n",
      "2024-10-25 09:34:02,720 - INFO - Spawned vehicle at: Location(x=25.530020, y=105.549988, z=0.500000)\n",
      "2024-10-25 09:34:02,722 - INFO - Current waypoint: Location(x=25.492962, y=105.475281, z=0.000000)\n",
      "2024-10-25 09:34:02,723 - INFO - Target waypoint: Location(x=22.492983, y=105.486107, z=0.000000)\n",
      "2024-10-25 09:34:02,739 - INFO - lateral_distance: 1.0, speed: 0.0, heading: 0.998850843641493\n"
     ]
    },
    {
     "name": "stdout",
     "output_type": "stream",
     "text": [
      "Action: [4 2], Steer: 0.0, Throttle: 0.4, Brake: 0.0\n",
      "Vehicle transform: Transform(Location(x=193.610703, y=133.914993, z=0.221832), Rotation(pitch=0.002049, yaw=-86.103470, roll=-0.004517)), Yaw:-86.10346984863281, WP_Yaw:-89.92216491699219 relative_yaw: 3.818695068359375\n",
      "Episode 2 finished. Total Reward: 4996.998194686571 after 400 timesteps.\n",
      "\n",
      "Observation: [1.        0.        0.9988508]\n",
      "Starting Episode 3\n",
      "Vehicle transform: Transform(Location(x=25.530020, y=105.549988, z=0.208296), Rotation(pitch=0.000000, yaw=-179.999634, roll=0.000000)), Yaw:-179.9996337890625, WP_Yaw:179.79315185546875 relative_yaw: 0.20721435546875\n",
      "Observation: [-0.02494835  0.         -0.00115119]\n",
      "Vehicle transform: Transform(Location(x=25.299665, y=105.543785, z=0.220894), Rotation(pitch=0.075726, yaw=-179.713394, roll=-0.018677)), Yaw:-179.71339416503906, WP_Yaw:179.79315185546875 relative_yaw: 0.4934539794921875\n",
      "Observation: [-0.02260358  0.1        -0.00274141]\n",
      "Vehicle transform: Transform(Location(x=24.139431, y=105.586472, z=0.221555), Rotation(pitch=0.020122, yaw=179.023605, roll=-0.011414)), Yaw:179.0236053466797, WP_Yaw:179.79315185546875 relative_yaw: -0.7695465087890625\n",
      "Observation: [-0.03543606  0.15        0.00427526]\n",
      "Vehicle transform: Transform(Location(x=22.680815, y=105.609268, z=0.221563), Rotation(pitch=0.019671, yaw=179.377029, roll=-0.001404)), Yaw:179.3770294189453, WP_Yaw:179.79315185546875 relative_yaw: -0.4161224365234375\n",
      "Observation: [-0.04127858  0.18333334  0.01107313]\n",
      "Vehicle transform: Transform(Location(x=20.886784, y=105.535118, z=0.221472), Rotation(pitch=0.035175, yaw=-178.211746, roll=0.019133)), Yaw:-178.2117462158203, WP_Yaw:179.79315185546875 relative_yaw: 1.9951019287109375\n",
      "Observation: [-0.01440306  0.25       -0.00232256]\n",
      "Vehicle transform: Transform(Location(x=18.590170, y=105.525352, z=0.221600), Rotation(pitch=0.013380, yaw=179.646347, roll=0.051209)), Yaw:179.64634704589844, WP_Yaw:179.79315185546875 relative_yaw: -0.1468048095703125\n",
      "Observation: [-0.00838564  0.28333333  0.09717213]\n",
      "Vehicle transform: Transform(Location(x=16.240923, y=105.497147, z=0.221677), Rotation(pitch=0.000225, yaw=179.492859, roll=0.065175)), Yaw:179.49285888671875, WP_Yaw:179.79315185546875 relative_yaw: -0.30029296875\n",
      "Observation: [0.00384437 0.26666668 0.18561995]\n",
      "Vehicle transform: Transform(Location(x=13.748017, y=105.438545, z=0.221901), Rotation(pitch=0.003866, yaw=-179.536209, roll=0.025699)), Yaw:-179.5362091064453, WP_Yaw:179.79315185546875 relative_yaw: 0.6706390380859375\n",
      "Observation: [0.02637648 0.3        0.27194527]\n"
     ]
    },
    {
     "name": "stderr",
     "output_type": "stream",
     "text": [
      "2024-10-25 09:34:04,828 - INFO - lateral_distance: 0.07129616489986983, speed: 0.3333333333333333, heading: 0.38886884053548176\n"
     ]
    },
    {
     "name": "stdout",
     "output_type": "stream",
     "text": [
      "Vehicle transform: Transform(Location(x=11.123990, y=105.336960, z=0.221786), Rotation(pitch=0.010279, yaw=-177.923859, roll=0.018232)), Yaw:-177.92385864257812, WP_Yaw:179.79315185546875 relative_yaw: 2.282989501953125\n",
      "Observation: [0.06339685 0.31666666 0.37940076]\n",
      "Action: [2 1], Steer: -0.1, Throttle: 0.2, Brake: 0.0\n",
      "Vehicle transform: Transform(Location(x=8.393365, y=105.323120, z=0.221791), Rotation(pitch=0.009070, yaw=-179.628113, roll=-0.022064)), Yaw:-179.62811279296875, WP_Yaw:179.79315185546875 relative_yaw: 0.5787353515625\n",
      "Observation: [0.07129616 0.33333334 0.38886884]\n",
      "Vehicle transform: Transform(Location(x=5.611578, y=105.257118, z=0.221677), Rotation(pitch=-0.009952, yaw=-179.167450, roll=0.020407)), Yaw:-179.16744995117188, WP_Yaw:178.2161102294922 relative_yaw: 2.6164398193359375\n",
      "Observation: [0.08745684 0.31666666 0.47483805]\n",
      "Vehicle transform: Transform(Location(x=2.817695, y=105.178642, z=0.221155), Rotation(pitch=-0.014282, yaw=-178.211182, roll=-0.067902)), Yaw:-178.211181640625, WP_Yaw:162.448974609375 relative_yaw: 19.33984375\n",
      "Observation: [0.12101614 0.33333334 0.29433504]\n",
      "Vehicle transform: Transform(Location(x=0.016908, y=105.086121, z=0.227679), Rotation(pitch=0.376460, yaw=178.898819, roll=-0.841064)), Yaw:178.89881896972656, WP_Yaw:162.448974609375 relative_yaw: 16.449844360351562\n",
      "Observation: [0.43195155 0.31666666 0.3103906 ]\n"
     ]
    },
    {
     "name": "stderr",
     "output_type": "stream",
     "text": [
      "2024-10-25 09:34:05,885 - INFO - Collision detected, resetting vehicle.\n"
     ]
    },
    {
     "name": "stdout",
     "output_type": "stream",
     "text": [
      "Vehicle transform: Transform(Location(x=-2.669834, y=106.120857, z=0.223397), Rotation(pitch=0.156452, yaw=157.464752, roll=-0.192749)), Yaw:157.46475219726562, WP_Yaw:162.448974609375 relative_yaw: -4.984222412109375\n",
      "Observation: [0.37316227 0.38333333 0.42946875]\n",
      "Next waypoint after collision: Location(x=22.492983, y=105.486107, z=0.000000)\n",
      "Vehicle transform: Transform(Location(x=25.553886, y=105.458473, z=0.200930), Rotation(pitch=0.620809, yaw=-179.900375, roll=-1.227844)), Yaw:-179.90037536621094, WP_Yaw:179.79315185546875 relative_yaw: 0.3064727783203125\n",
      "Observation: [ 0.00552759  0.08333334 -0.00170263]\n",
      "Vehicle transform: Transform(Location(x=25.286701, y=105.474205, z=0.224852), Rotation(pitch=0.127622, yaw=179.633713, roll=-0.122223)), Yaw:179.6337127685547, WP_Yaw:179.79315185546875 relative_yaw: -0.1594390869140625\n",
      "Observation: [0.00060523 0.08333334 0.00088577]\n",
      "Vehicle transform: Transform(Location(x=24.229374, y=105.507713, z=0.221551), Rotation(pitch=0.034458, yaw=178.884171, roll=0.003403)), Yaw:178.88417053222656, WP_Yaw:179.79315185546875 relative_yaw: -0.9089813232421875\n",
      "Observation: [-0.00929172  0.15        0.0050499 ]\n",
      "Vehicle transform: Transform(Location(x=22.622143, y=105.662094, z=0.221572), Rotation(pitch=0.018298, yaw=175.068237, roll=0.067199)), Yaw:175.0682373046875, WP_Yaw:179.79315185546875 relative_yaw: -4.72491455078125\n",
      "Observation: [-0.0588165   0.2         0.01748818]\n",
      "Vehicle transform: Transform(Location(x=20.637873, y=105.785263, z=0.221632), Rotation(pitch=0.007964, yaw=176.186783, roll=0.000542)), Yaw:176.18678283691406, WP_Yaw:179.79315185546875 relative_yaw: -3.6063690185546875\n",
      "Observation: [-0.09748463  0.23333333  0.01127404]\n"
     ]
    },
    {
     "name": "stderr",
     "output_type": "stream",
     "text": [
      "2024-10-25 09:34:07,048 - INFO - lateral_distance: -0.05544963491365349, speed: 0.26666666666666666, heading: 0.08058242797851563\n"
     ]
    },
    {
     "name": "stdout",
     "output_type": "stream",
     "text": [
      "Action: [4 2], Steer: 0.0, Throttle: 0.4, Brake: 0.0\n",
      "Vehicle transform: Transform(Location(x=18.422031, y=105.667152, z=0.221632), Rotation(pitch=0.007855, yaw=-177.367508, roll=-0.003113)), Yaw:-177.3675079345703, WP_Yaw:179.79315185546875 relative_yaw: 2.8393402099609375\n",
      "Observation: [-0.05544963  0.26666668  0.08058242]\n",
      "Vehicle transform: Transform(Location(x=16.005365, y=105.493210, z=0.221907), Rotation(pitch=0.013770, yaw=-176.178680, roll=-0.003967)), Yaw:-176.17868041992188, WP_Yaw:179.79315185546875 relative_yaw: 4.028167724609375\n",
      "Observation: [0.00544009 0.3        0.16157295]\n",
      "Vehicle transform: Transform(Location(x=13.352607, y=105.378387, z=0.221724), Rotation(pitch=0.021413, yaw=-177.506454, roll=0.054317)), Yaw:-177.50645446777344, WP_Yaw:179.79315185546875 relative_yaw: 2.7003936767578125\n",
      "Observation: [0.04690479 0.33333334 0.26066887]\n",
      "Vehicle transform: Transform(Location(x=10.426664, y=105.427986, z=0.221843), Rotation(pitch=0.000157, yaw=178.714615, roll=0.008287)), Yaw:178.71461486816406, WP_Yaw:179.79315185546875 relative_yaw: -1.0785369873046875\n",
      "Observation: [0.03389413 0.33333334 0.3980759 ]\n",
      "Vehicle transform: Transform(Location(x=7.565759, y=105.504936, z=0.221854), Rotation(pitch=-0.001742, yaw=179.283569, roll=-0.009735)), Yaw:179.2835693359375, WP_Yaw:178.2161102294922 relative_yaw: 1.0674591064453125\n",
      "Observation: [-0.01538682  0.33333334  0.4834435 ]\n",
      "Vehicle transform: Transform(Location(x=4.668490, y=105.243874, z=0.221530), Rotation(pitch=-0.010102, yaw=-174.783691, roll=-0.035248)), Yaw:-174.78369140625, WP_Yaw:162.448974609375 relative_yaw: 22.767333984375\n",
      "Observation: [-0.08575431  0.35        0.27529344]\n",
      "Vehicle transform: Transform(Location(x=1.907393, y=104.686707, z=0.231292), Rotation(pitch=0.522673, yaw=-168.637665, roll=-1.297210)), Yaw:-168.63766479492188, WP_Yaw:162.448974609375 relative_yaw: 28.913360595703125\n",
      "Observation: [0.3688634  0.3        0.24114884]\n",
      "Vehicle transform: Transform(Location(x=-0.916582, y=104.415779, z=0.245356), Rotation(pitch=1.009304, yaw=-175.872620, roll=-1.921082)), Yaw:-175.87261962890625, WP_Yaw:162.448974609375 relative_yaw: 21.67840576171875\n",
      "Observation: [0.73882985 0.35       0.28134304]\n"
     ]
    },
    {
     "name": "stderr",
     "output_type": "stream",
     "text": [
      "2024-10-25 09:34:08,993 - INFO - Collision detected, resetting vehicle.\n"
     ]
    },
    {
     "name": "stdout",
     "output_type": "stream",
     "text": [
      "Vehicle transform: Transform(Location(x=-3.462733, y=105.545029, z=0.272880), Rotation(pitch=0.014227, yaw=151.463028, roll=-3.380646)), Yaw:151.46302795410156, WP_Yaw:162.448974609375 relative_yaw: -10.985946655273438\n",
      "Observation: [0.6358709  0.36666667 0.46281165]\n"
     ]
    },
    {
     "name": "stderr",
     "output_type": "stream",
     "text": [
      "2024-10-25 09:34:09,290 - INFO - lateral_distance: -0.025492947681605076, speed: 0.03333333333333333, heading: -0.017800988091362848\n"
     ]
    },
    {
     "name": "stdout",
     "output_type": "stream",
     "text": [
      "Next waypoint after collision: Location(x=22.492983, y=105.486107, z=0.000000)\n",
      "Vehicle transform: Transform(Location(x=25.645210, y=105.518669, z=0.248558), Rotation(pitch=0.375722, yaw=-177.952759, roll=-1.087066)), Yaw:-177.9527587890625, WP_Yaw:179.79315185546875 relative_yaw: 2.25408935546875\n",
      "Observation: [-0.01464749  0.08333334 -0.01252272]\n",
      "Action: [6 1], Steer: 0.1, Throttle: 0.2, Brake: 0.0\n",
      "Vehicle transform: Transform(Location(x=25.593725, y=105.551392, z=0.224803), Rotation(pitch=0.064798, yaw=-177.002670, roll=-0.081085)), Yaw:-177.00267028808594, WP_Yaw:179.79315185546875 relative_yaw: 3.2041778564453125\n",
      "Observation: [-0.02549295  0.03333334 -0.01780099]\n",
      "Vehicle transform: Transform(Location(x=25.335445, y=105.541092, z=0.221663), Rotation(pitch=0.013278, yaw=-177.194489, roll=0.004140)), Yaw:-177.19448852539062, WP_Yaw:179.79315185546875 relative_yaw: 3.012359619140625\n",
      "Observation: [-0.02174892  0.03333334 -0.01673533]\n",
      "Vehicle transform: Transform(Location(x=24.729923, y=105.539078, z=0.221494), Rotation(pitch=0.031637, yaw=-178.152634, roll=0.002575)), Yaw:-178.1526336669922, WP_Yaw:179.79315185546875 relative_yaw: 2.0542144775390625\n",
      "Observation: [-0.02034884  0.1        -0.0114123 ]\n",
      "Vehicle transform: Transform(Location(x=23.659479, y=105.517540, z=0.221572), Rotation(pitch=0.018107, yaw=-178.774094, roll=0.000675)), Yaw:-178.7740936279297, WP_Yaw:179.79315185546875 relative_yaw: 1.4327545166015625\n",
      "Observation: [-0.01188143  0.13333334 -0.00795975]\n",
      "Vehicle transform: Transform(Location(x=22.272644, y=105.491302, z=0.221565), Rotation(pitch=0.019254, yaw=-178.878967, roll=0.013602)), Yaw:-178.87896728515625, WP_Yaw:179.79315185546875 relative_yaw: 1.327880859375\n",
      "Observation: [-0.00146573  0.18333334  0.00138423]\n",
      "Vehicle transform: Transform(Location(x=20.545668, y=105.542038, z=0.221598), Rotation(pitch=0.013776, yaw=178.583694, roll=-0.006195)), Yaw:178.5836944580078, WP_Yaw:179.79315185546875 relative_yaw: -1.2094573974609375\n",
      "Observation: [-0.01629916  0.21666667  0.01548055]\n",
      "Vehicle transform: Transform(Location(x=18.593065, y=105.624878, z=0.221631), Rotation(pitch=0.007998, yaw=177.961960, roll=-0.018616)), Yaw:177.9619598388672, WP_Yaw:179.79315185546875 relative_yaw: -1.8311920166015625\n",
      "Observation: [-0.04156406  0.23333333  0.10652983]\n",
      "Vehicle transform: Transform(Location(x=16.435568, y=105.662720, z=0.221641), Rotation(pitch=0.006338, yaw=179.114960, roll=-0.062805)), Yaw:179.11495971679688, WP_Yaw:179.79315185546875 relative_yaw: -0.678192138671875\n",
      "Observation: [-0.05158056  0.26666668  0.18771939]\n",
      "Vehicle transform: Transform(Location(x=14.054509, y=105.589363, z=0.221618), Rotation(pitch=0.010320, yaw=-178.784836, roll=-0.040558)), Yaw:-178.7848358154297, WP_Yaw:179.79315185546875 relative_yaw: 1.4220123291015625\n",
      "Observation: [-0.02426465  0.28333333  0.26777098]\n",
      "Vehicle transform: Transform(Location(x=11.537600, y=105.379395, z=0.221863), Rotation(pitch=-0.000273, yaw=-175.499054, roll=-0.033203)), Yaw:-175.49905395507812, WP_Yaw:179.79315185546875 relative_yaw: 4.707794189453125\n",
      "Observation: [0.04875333 0.28333333 0.24951664]\n"
     ]
    },
    {
     "name": "stderr",
     "output_type": "stream",
     "text": [
      "2024-10-25 09:34:11,499 - INFO - Reward: 15.0, Episode time limit reached\n",
      "2024-10-25 09:34:11,544 - INFO - Starting episode 8\n",
      "2024-10-25 09:34:11,565 - INFO - Spawned vehicle at: Location(x=173.870056, y=105.550011, z=0.500000)\n",
      "2024-10-25 09:34:11,566 - INFO - Current waypoint: Location(x=172.498642, y=105.426109, z=0.000000)\n",
      "2024-10-25 09:34:11,567 - INFO - Target waypoint: Location(x=169.498642, y=105.428146, z=0.000000)\n",
      "2024-10-25 09:34:11,585 - INFO - lateral_distance: 1.0, speed: 0.0, heading: 0.9997837490505642\n"
     ]
    },
    {
     "name": "stdout",
     "output_type": "stream",
     "text": [
      "Action: [0 5], Steer: -0.9, Throttle: 1, Brake: 0.0\n",
      "Vehicle transform: Transform(Location(x=8.972099, y=105.106026, z=0.221772), Rotation(pitch=0.012957, yaw=-174.050323, roll=0.043541)), Yaw:-174.05032348632812, WP_Yaw:179.79315185546875 relative_yaw: 6.156524658203125\n",
      "Episode 3 finished. Total Reward: 3561.255166222628 after 400 timesteps.\n",
      "\n",
      "Observation: [1.         0.         0.99978375]\n",
      "Starting Episode 4\n",
      "Vehicle transform: Transform(Location(x=173.870041, y=105.550011, z=0.208296), Rotation(pitch=0.000000, yaw=-179.999634, roll=0.000000)), Yaw:-179.9996337890625, WP_Yaw:179.96107482910156 relative_yaw: 0.0392913818359375\n",
      "Observation: [-0.04161141  0.         -0.00021829]\n",
      "Vehicle transform: Transform(Location(x=173.598969, y=105.566376, z=0.221152), Rotation(pitch=0.031801, yaw=179.715408, roll=-0.000305)), Yaw:179.7154083251953, WP_Yaw:179.96107482910156 relative_yaw: -0.24566650390625\n",
      "Observation: [-0.04700504  0.06666667  0.00136481]\n",
      "Vehicle transform: Transform(Location(x=172.763824, y=105.597801, z=0.221544), Rotation(pitch=0.022062, yaw=178.848801, roll=0.003842)), Yaw:178.8488006591797, WP_Yaw:179.96107482910156 relative_yaw: -1.112274169921875\n",
      "Observation: [-0.05729106  0.11666667  0.0061793 ]\n",
      "Vehicle transform: Transform(Location(x=171.459000, y=105.650124, z=0.221515), Rotation(pitch=0.027758, yaw=178.256973, roll=-0.010284)), Yaw:178.25697326660156, WP_Yaw:179.96107482910156 relative_yaw: -1.7041015625\n",
      "Observation: [-0.07443635  0.18333334  0.00946723]\n",
      "Vehicle transform: Transform(Location(x=169.724411, y=105.719269, z=0.221593), Rotation(pitch=0.014535, yaw=177.221649, roll=0.039812)), Yaw:177.22164916992188, WP_Yaw:179.96107482910156 relative_yaw: -2.7394256591796875\n",
      "Observation: [-0.09709231  0.21666667  0.01521903]\n",
      "Vehicle transform: Transform(Location(x=167.798843, y=105.700287, z=0.221666), Rotation(pitch=0.002083, yaw=-179.908936, roll=0.032073)), Yaw:-179.908935546875, WP_Yaw:179.96107482910156 relative_yaw: 0.1299896240234375\n",
      "Observation: [-0.09032892  0.23333333 -0.00072216]\n",
      "Vehicle transform: Transform(Location(x=165.708801, y=105.684814, z=0.221617), Rotation(pitch=0.010498, yaw=-179.202255, roll=-0.026489)), Yaw:-179.20225524902344, WP_Yaw:179.96107482910156 relative_yaw: 0.836669921875\n",
      "Observation: [-0.08469851  0.25       -0.00464817]\n",
      "Vehicle transform: Transform(Location(x=163.404938, y=105.532120, z=0.221587), Rotation(pitch=0.015607, yaw=-176.510284, roll=0.013334)), Yaw:-176.51028442382812, WP_Yaw:179.96107482910156 relative_yaw: 3.5286407470703125\n",
      "Observation: [-0.03327892  0.28333333 -0.01960356]\n"
     ]
    },
    {
     "name": "stderr",
     "output_type": "stream",
     "text": [
      "2024-10-25 09:34:13,380 - INFO - lateral_distance: -0.06049837526704071, speed: 0.3, heading: -0.0007044474283854166\n"
     ]
    },
    {
     "name": "stdout",
     "output_type": "stream",
     "text": [
      "Vehicle transform: Transform(Location(x=160.888885, y=105.586578, z=0.221848), Rotation(pitch=0.002015, yaw=178.875366, roll=0.046297)), Yaw:178.8753662109375, WP_Yaw:179.96107482910156 relative_yaw: -1.0857086181640625\n",
      "Observation: [-0.05086238  0.3         0.00603171]\n",
      "Action: [6 2], Steer: 0.1, Throttle: 0.4, Brake: 0.0\n",
      "Vehicle transform: Transform(Location(x=158.373810, y=105.617195, z=0.221839), Rotation(pitch=0.000895, yaw=-179.912125, roll=-0.065308)), Yaw:-179.91212463378906, WP_Yaw:179.96107482910156 relative_yaw: 0.126800537109375\n",
      "Observation: [-0.06049838  0.3        -0.00070445]\n",
      "Vehicle transform: Transform(Location(x=155.766525, y=105.498848, z=0.221781), Rotation(pitch=0.011365, yaw=-178.034851, roll=0.009961)), Yaw:-178.03485107421875, WP_Yaw:179.96107482910156 relative_yaw: 2.0040740966796875\n",
      "Observation: [-0.02045671  0.31666666 -0.01113375]\n",
      "Vehicle transform: Transform(Location(x=152.939911, y=105.347931, z=0.221800), Rotation(pitch=0.007445, yaw=-176.350189, roll=-0.013794)), Yaw:-176.35018920898438, WP_Yaw:179.96107482910156 relative_yaw: 3.6887359619140625\n",
      "Observation: [ 0.03048871  0.35       -0.02092573]\n",
      "Vehicle transform: Transform(Location(x=150.024033, y=105.254028, z=0.221794), Rotation(pitch=0.008476, yaw=-177.460999, roll=0.017821)), Yaw:-177.46099853515625, WP_Yaw:179.96107482910156 relative_yaw: 2.5779266357421875\n",
      "Observation: [ 0.06244954  0.35       -0.01475457]\n",
      "Vehicle transform: Transform(Location(x=146.869339, y=105.405571, z=0.221788), Rotation(pitch=0.009487, yaw=176.246384, roll=0.091877)), Yaw:176.2463836669922, WP_Yaw:179.96107482910156 relative_yaw: -3.714691162109375\n",
      "Observation: [0.01264938 0.38333333 0.02106993]\n",
      "Vehicle transform: Transform(Location(x=143.652908, y=105.579620, z=0.221867), Rotation(pitch=-0.003968, yaw=178.076569, roll=-0.038849)), Yaw:178.07656860351562, WP_Yaw:179.96107482910156 relative_yaw: -1.8845062255859375\n",
      "Observation: [-0.04463904  0.36666667  0.01090224]\n",
      "Vehicle transform: Transform(Location(x=140.627319, y=105.475098, z=0.221873), Rotation(pitch=-0.005034, yaw=-176.182465, roll=-0.005463)), Yaw:-176.18246459960938, WP_Yaw:179.96107482910156 relative_yaw: 3.8564605712890625\n",
      "Observation: [-0.00911333  0.35       -0.02185754]\n",
      "Vehicle transform: Transform(Location(x=137.573929, y=105.194183, z=0.221840), Rotation(pitch=0.000731, yaw=-174.041031, roll=0.036055)), Yaw:-174.04103088378906, WP_Yaw:-179.96102905273438 relative_yaw: 5.9199981689453125\n",
      "Observation: [ 0.08532614  0.36666667 -0.03288888]\n",
      "Vehicle transform: Transform(Location(x=134.534012, y=105.096489, z=0.221852), Rotation(pitch=-0.001346, yaw=-177.248642, roll=-0.001892)), Yaw:-177.24864196777344, WP_Yaw:-179.96102905273438 relative_yaw: 2.7123870849609375\n",
      "Observation: [ 0.11720287  0.35       -0.01506882]\n",
      "Vehicle transform: Transform(Location(x=131.391632, y=105.146942, z=0.221785), Rotation(pitch=0.010061, yaw=178.206329, roll=0.047456)), Yaw:178.20632934570312, WP_Yaw:-179.96102905273438 relative_yaw: -1.8326416015625\n",
      "Observation: [0.0996713  0.38333333 0.01018134]\n"
     ]
    },
    {
     "name": "stderr",
     "output_type": "stream",
     "text": [
      "2024-10-25 09:34:15,478 - INFO - lateral_distance: 0.03685564206894263, speed: 0.4166666666666667, heading: 0.016455162896050347\n"
     ]
    },
    {
     "name": "stdout",
     "output_type": "stream",
     "text": [
      "Action: [0 1], Steer: -0.9, Throttle: 0.2, Brake: 0.0\n",
      "Vehicle transform: Transform(Location(x=128.059982, y=105.333122, z=0.221767), Rotation(pitch=0.013093, yaw=177.077042, roll=0.001257)), Yaw:177.07704162597656, WP_Yaw:-179.96102905273438 relative_yaw: -2.9619293212890625\n",
      "Observation: [0.03685564 0.41666666 0.01645516]\n",
      "Vehicle transform: Transform(Location(x=124.649422, y=105.763611, z=0.221800), Rotation(pitch=0.007602, yaw=173.108368, roll=-0.013336)), Yaw:173.10836791992188, WP_Yaw:-179.96102905273438 relative_yaw: -6.93060302734375\n",
      "Observation: [-0.10741261  0.41666666  0.03850335]\n",
      "Vehicle transform: Transform(Location(x=121.105782, y=106.098282, z=0.221844), Rotation(pitch=-0.000061, yaw=176.687210, roll=-0.022644)), Yaw:176.6872100830078, WP_Yaw:-179.96102905273438 relative_yaw: -3.3517608642578125\n",
      "Observation: [-0.21977186  0.41666666  0.01862089]\n",
      "Vehicle transform: Transform(Location(x=117.752411, y=105.861267, z=0.221912), Rotation(pitch=-0.011468, yaw=-173.035370, roll=-0.062592)), Yaw:-173.03536987304688, WP_Yaw:-179.96102905273438 relative_yaw: 6.9256591796875\n",
      "Observation: [-0.14152862  0.38333333 -0.03847589]\n",
      "Vehicle transform: Transform(Location(x=114.600464, y=105.335709, z=0.221869), Rotation(pitch=-0.004214, yaw=-169.800278, roll=0.014099)), Yaw:-169.80027770996094, WP_Yaw:-179.96102905273438 relative_yaw: 10.160751342773438\n",
      "Observation: [ 0.03294403  0.36666667 -0.05644862]\n",
      "Vehicle transform: Transform(Location(x=111.464966, y=104.881683, z=0.221760), Rotation(pitch=0.014268, yaw=-172.791656, roll=0.074528)), Yaw:-172.79165649414062, WP_Yaw:-179.96102905273438 relative_yaw: 7.16937255859375\n",
      "Observation: [ 0.18357347  0.4        -0.03982985]\n",
      "Vehicle transform: Transform(Location(x=107.969322, y=104.794304, z=0.221801), Rotation(pitch=0.007254, yaw=179.878403, roll=0.074961)), Yaw:179.87840270996094, WP_Yaw:-179.96102905273438 relative_yaw: -0.1605682373046875\n",
      "Observation: [0.21190856 0.41666666 0.00089205]\n",
      "Vehicle transform: Transform(Location(x=104.536285, y=105.416954, z=0.221890), Rotation(pitch=-0.008271, yaw=164.277908, roll=0.128753)), Yaw:164.2779083251953, WP_Yaw:-179.96102905273438 relative_yaw: -15.761062622070312\n",
      "Observation: [0.00357884 0.41666666 0.08756146]\n",
      "Vehicle transform: Transform(Location(x=101.191689, y=106.383942, z=0.221863), Rotation(pitch=-0.003299, yaw=168.001282, roll=-0.120605)), Yaw:168.00128173828125, WP_Yaw:-179.96102905273438 relative_yaw: -12.037689208984375\n",
      "Observation: [-0.31950742  0.41666666  0.06687605]\n",
      "Vehicle transform: Transform(Location(x=97.712242, y=106.641670, z=0.221866), Rotation(pitch=-0.003818, yaw=-179.637161, roll=-0.135803)), Yaw:-179.6371612548828, WP_Yaw:-179.96102905273438 relative_yaw: 0.3238677978515625\n",
      "Observation: [-0.40620574  0.41666666 -0.00179927]\n"
     ]
    },
    {
     "name": "stderr",
     "output_type": "stream",
     "text": [
      "2024-10-25 09:34:17,802 - INFO - lateral_distance: -0.1388165377490718, speed: 0.4166666666666667, heading: -0.10444853040907118\n"
     ]
    },
    {
     "name": "stdout",
     "output_type": "stream",
     "text": [
      "Action: [5 1], Steer: 0.05, Throttle: 0.2, Brake: 0.0\n",
      "Vehicle transform: Transform(Location(x=94.310371, y=105.837189, z=0.221887), Rotation(pitch=-0.007356, yaw=-161.160294, roll=-0.200745)), Yaw:-161.16029357910156, WP_Yaw:-179.96102905273438 relative_yaw: 18.800735473632812\n",
      "Observation: [-0.13881654  0.41666666 -0.10444853]\n"
     ]
    },
    {
     "name": "stderr",
     "output_type": "stream",
     "text": [
      "2024-10-25 09:34:18,020 - INFO - Passed waypoint. Reward: -5.0, Next waypoint: Transform(Location(x=169.498642, y=105.428146, z=0.000000), Rotation(pitch=0.000000, yaw=179.961075, roll=0.000000))\n"
     ]
    },
    {
     "name": "stdout",
     "output_type": "stream",
     "text": [
      "Vehicle transform: Transform(Location(x=170.901047, y=105.163521, z=0.243141), Rotation(pitch=0.345812, yaw=179.644394, roll=-0.427673)), Yaw:179.64439392089844, WP_Yaw:179.96107482910156 relative_yaw: -0.316680908203125\n",
      "Observation: [0.08789089 0.36666667 0.00175934]\n",
      "Vehicle transform: Transform(Location(x=167.874084, y=105.343246, z=0.222573), Rotation(pitch=0.024124, yaw=175.960190, roll=-0.053802)), Yaw:175.96018981933594, WP_Yaw:179.96107482910156 relative_yaw: -4.000885009765625\n",
      "Observation: [0.02866748 0.36666667 0.02222714]\n",
      "Vehicle transform: Transform(Location(x=164.840485, y=105.481148, z=0.221904), Rotation(pitch=-0.006195, yaw=177.157288, roll=0.047126)), Yaw:177.15728759765625, WP_Yaw:179.96107482910156 relative_yaw: -2.8037872314453125\n",
      "Observation: [-0.01661298  0.35        0.0155766 ]\n",
      "Vehicle transform: Transform(Location(x=161.979767, y=105.648888, z=0.221871), Rotation(pitch=-0.004549, yaw=178.661545, roll=-0.021667)), Yaw:178.6615447998047, WP_Yaw:179.96107482910156 relative_yaw: -1.299530029296875\n",
      "Observation: [-0.07187879  0.33333334  0.00721961]\n",
      "Vehicle transform: Transform(Location(x=159.232864, y=105.752831, z=0.221883), Rotation(pitch=-0.006564, yaw=178.838104, roll=-0.045105)), Yaw:178.83810424804688, WP_Yaw:179.96107482910156 relative_yaw: -1.1229705810546875\n",
      "Observation: [-0.10590471  0.31666666  0.00623873]\n",
      "Vehicle transform: Transform(Location(x=156.593094, y=105.759811, z=0.221883), Rotation(pitch=-0.006687, yaw=179.267899, roll=0.059185)), Yaw:179.2678985595703, WP_Yaw:179.96107482910156 relative_yaw: -0.69317626953125\n",
      "Observation: [-0.10763169  0.3         0.00385098]\n",
      "Vehicle transform: Transform(Location(x=153.942978, y=105.868927, z=0.221804), Rotation(pitch=0.006926, yaw=178.366821, roll=-0.063477)), Yaw:178.3668212890625, WP_Yaw:179.96107482910156 relative_yaw: -1.5942535400390625\n",
      "Observation: [-0.14340377  0.31666666  0.00928972]\n",
      "Vehicle transform: Transform(Location(x=151.150864, y=105.681450, z=0.221791), Rotation(pitch=0.008989, yaw=-175.366333, roll=-0.048370)), Yaw:-175.3663330078125, WP_Yaw:179.96107482910156 relative_yaw: 4.6725921630859375\n",
      "Observation: [-0.08027948  0.33333334 -0.0263916 ]\n",
      "Vehicle transform: Transform(Location(x=148.164612, y=105.223495, z=0.221772), Rotation(pitch=0.012199, yaw=-171.538040, roll=0.025389)), Yaw:-171.5380401611328, WP_Yaw:179.96107482910156 relative_yaw: 8.500885009765625\n",
      "Observation: [ 0.07304785  0.36666667 -0.0476599 ]\n"
     ]
    },
    {
     "name": "stderr",
     "output_type": "stream",
     "text": [
      "2024-10-25 09:34:20,163 - INFO - Reward: 7.467863755351853, Episode time limit reached\n",
      "2024-10-25 09:34:20,207 - INFO - Starting episode 9\n",
      "2024-10-25 09:34:20,230 - INFO - Spawned vehicle at: Location(x=193.779999, y=142.190002, z=0.500000)\n",
      "2024-10-25 09:34:20,232 - INFO - Current waypoint: Location(x=193.707352, y=142.092743, z=0.000000)\n",
      "2024-10-25 09:34:20,233 - INFO - Target waypoint: Location(x=193.711441, y=139.092743, z=0.000000)\n",
      "2024-10-25 09:34:20,251 - INFO - lateral_distance: -1.0, speed: 0.0, heading: -0.49956758287217884\n"
     ]
    },
    {
     "name": "stdout",
     "output_type": "stream",
     "text": [
      "Action: [3 4], Steer: -0.05, Throttle: 0.8, Brake: 0.0\n",
      "Vehicle transform: Transform(Location(x=145.011887, y=104.837067, z=0.221822), Rotation(pitch=0.003757, yaw=-173.344650, roll=0.040070)), Yaw:-173.3446502685547, WP_Yaw:179.96107482910156 relative_yaw: 6.69427490234375\n",
      "Episode 4 finished. Total Reward: 4923.034170198058 after 400 timesteps.\n",
      "\n",
      "Observation: [-1.          0.         -0.49956757]\n",
      "Starting Episode 5\n",
      "Vehicle transform: Transform(Location(x=193.779999, y=142.190002, z=0.208296), Rotation(pitch=0.000000, yaw=-89.999817, roll=0.000000)), Yaw:-89.99981689453125, WP_Yaw:-89.92216491699219 relative_yaw: -0.0776519775390625\n",
      "Observation: [0.02425507 0.         0.0004314 ]\n",
      "Vehicle transform: Transform(Location(x=193.762268, y=141.858368, z=0.220948), Rotation(pitch=0.066492, yaw=-90.640244, roll=0.007792)), Yaw:-90.64024353027344, WP_Yaw:-89.92216491699219 relative_yaw: -0.71807861328125\n",
      "Observation: [0.01819466 0.11666667 0.00398933]\n",
      "Vehicle transform: Transform(Location(x=193.742889, y=140.580032, z=0.221523), Rotation(pitch=0.025661, yaw=-90.485901, roll=-0.038574)), Yaw:-90.48590087890625, WP_Yaw:-89.92216491699219 relative_yaw: -0.5637359619140625\n",
      "Observation: [0.01115626 0.16666667 0.00313187]\n",
      "Vehicle transform: Transform(Location(x=193.652023, y=138.941879, z=0.221609), Rotation(pitch=0.011837, yaw=-92.882446, roll=-0.006897)), Yaw:-92.8824462890625, WP_Yaw:-89.92216491699219 relative_yaw: -2.9602813720703125\n",
      "Observation: [-0.01987377  0.2         0.01644601]\n",
      "Vehicle transform: Transform(Location(x=193.524307, y=137.073975, z=0.221591), Rotation(pitch=0.014890, yaw=-93.567780, roll=-0.020386)), Yaw:-93.56777954101562, WP_Yaw:-89.92216491699219 relative_yaw: -3.6456146240234375\n",
      "Observation: [-0.06329158  0.23333333  0.02025341]\n",
      "Vehicle transform: Transform(Location(x=193.375641, y=134.891479, z=0.221594), Rotation(pitch=0.014384, yaw=-94.005852, roll=-0.007813)), Yaw:-94.00585174560547, WP_Yaw:-89.92216491699219 relative_yaw: -4.083686828613281\n",
      "Observation: [-0.11383484  0.26666668  0.02268715]\n",
      "Vehicle transform: Transform(Location(x=193.467834, y=132.419617, z=0.221910), Rotation(pitch=0.003442, yaw=-87.501122, roll=-0.028687)), Yaw:-87.5011215209961, WP_Yaw:-89.92216491699219 relative_yaw: 2.4210433959960938\n",
      "Observation: [-0.08422255  0.3         0.06248995]\n",
      "Vehicle transform: Transform(Location(x=193.654617, y=129.921951, z=0.221849), Rotation(pitch=0.001810, yaw=-85.811333, roll=0.008431)), Yaw:-85.81133270263672, WP_Yaw:-89.92216491699219 relative_yaw: 4.110832214355469\n",
      "Observation: [-0.02309223  0.3         0.14945751]\n"
     ]
    },
    {
     "name": "stderr",
     "output_type": "stream",
     "text": [
      "2024-10-25 09:34:21,908 - INFO - lateral_distance: 0.05871926028298822, speed: 0.3333333333333333, heading: 0.3427065955268012\n"
     ]
    },
    {
     "name": "stdout",
     "output_type": "stream",
     "text": [
      "Vehicle transform: Transform(Location(x=193.774063, y=127.314545, z=0.221819), Rotation(pitch=0.005034, yaw=-89.262756, roll=0.112121)), Yaw:-89.26275634765625, WP_Yaw:-89.92216491699219 relative_yaw: 0.6594085693359375\n",
      "Observation: [0.01554275 0.31666666 0.26445964]\n",
      "Action: [4 2], Steer: 0.0, Throttle: 0.4, Brake: 0.0\n",
      "Vehicle transform: Transform(Location(x=193.907394, y=124.515114, z=0.221811), Rotation(pitch=0.005594, yaw=-86.657036, roll=0.009740)), Yaw:-86.65703582763672, WP_Yaw:-89.92216491699219 relative_yaw: 3.2651290893554688\n",
      "Observation: [0.05871926 0.33333334 0.3427066 ]\n",
      "Vehicle transform: Transform(Location(x=194.088898, y=121.587494, z=0.221846), Rotation(pitch=-0.000273, yaw=-86.322136, roll=-0.020050)), Yaw:-86.32213592529297, WP_Yaw:-89.92216491699219 relative_yaw: 3.6000289916992188\n",
      "Observation: [0.11789504 0.33333334 0.43356922]\n",
      "Vehicle transform: Transform(Location(x=194.390274, y=118.526649, z=0.221702), Rotation(pitch=-0.006837, yaw=-84.420372, roll=0.039762)), Yaw:-84.42037200927734, WP_Yaw:-89.92216491699219 relative_yaw: 5.501792907714844\n",
      "Observation: [0.21696772 0.36666667 0.42300385]\n",
      "Vehicle transform: Transform(Location(x=194.356033, y=115.383026, z=0.221134), Rotation(pitch=0.000895, yaw=-92.267090, roll=0.072264)), Yaw:-92.26708984375, WP_Yaw:256.4085998535156 relative_yaw: 11.324310302734375\n",
      "Observation: [0.24930707 0.38333333 0.36179563]\n",
      "Vehicle transform: Transform(Location(x=193.875061, y=112.067711, z=0.221010), Rotation(pitch=0.008934, yaw=-99.111588, roll=0.012298)), Yaw:-99.11158752441406, WP_Yaw:256.4085998535156 relative_yaw: 4.4798126220703125\n",
      "Observation: [0.353168   0.4        0.39982063]\n"
     ]
    },
    {
     "name": "stderr",
     "output_type": "stream",
     "text": [
      "2024-10-25 09:34:22,651 - INFO - Collision detected, resetting vehicle.\n"
     ]
    },
    {
     "name": "stdout",
     "output_type": "stream",
     "text": [
      "Next waypoint after collision: Location(x=193.711441, y=139.092743, z=0.000000)\n",
      "Vehicle transform: Transform(Location(x=193.533081, y=141.727081, z=0.244103), Rotation(pitch=0.817949, yaw=-87.768646, roll=-0.926331)), Yaw:-87.76864624023438, WP_Yaw:-89.92216491699219 relative_yaw: 2.1535186767578125\n",
      "Observation: [-0.05826039  0.13333334 -0.01196399]\n",
      "Vehicle transform: Transform(Location(x=193.600830, y=140.256836, z=0.222529), Rotation(pitch=0.068773, yaw=-87.804741, roll=-0.031097)), Yaw:-87.80474090576172, WP_Yaw:-89.92216491699219 relative_yaw: 2.1174240112304688\n",
      "Observation: [-0.03634316  0.2        -0.01176347]\n",
      "Vehicle transform: Transform(Location(x=193.581360, y=138.363190, z=0.221547), Rotation(pitch=0.025948, yaw=-90.149590, roll=0.031905)), Yaw:-90.14958953857422, WP_Yaw:-89.92216491699219 relative_yaw: -0.22742462158203125\n",
      "Observation: [-0.04369028  0.25        0.00126347]\n",
      "Vehicle transform: Transform(Location(x=193.453476, y=136.021240, z=0.221699), Rotation(pitch=0.018489, yaw=-91.617012, roll=-0.068634)), Yaw:-91.61701202392578, WP_Yaw:-89.92216491699219 relative_yaw: -1.6948471069335938\n",
      "Observation: [-0.08737826  0.3         0.00941582]\n"
     ]
    },
    {
     "name": "stderr",
     "output_type": "stream",
     "text": [
      "2024-10-25 09:34:23,609 - INFO - lateral_distance: -0.06929011401396758, speed: 0.26666666666666666, heading: 0.0892411126030816\n"
     ]
    },
    {
     "name": "stdout",
     "output_type": "stream",
     "text": [
      "Vehicle transform: Transform(Location(x=193.606522, y=133.512741, z=0.221831), Rotation(pitch=0.000560, yaw=-87.768333, roll=0.082088)), Yaw:-87.7683334350586, WP_Yaw:-89.92216491699219 relative_yaw: 2.1538314819335938\n",
      "Observation: [-0.03749856  0.3         0.06397446]\n",
      "Action: [1 2], Steer: -0.25, Throttle: 0.4, Brake: 0.0\n",
      "Vehicle transform: Transform(Location(x=193.514267, y=131.215942, z=0.221648), Rotation(pitch=-0.001557, yaw=-92.316330, roll=0.053332)), Yaw:-92.31632995605469, WP_Yaw:-89.92216491699219 relative_yaw: -2.3941650390625\n",
      "Observation: [-0.06929012  0.26666668  0.08924111]\n",
      "Vehicle transform: Transform(Location(x=193.370071, y=128.815308, z=0.221645), Rotation(pitch=0.005491, yaw=-92.175781, roll=-0.053497)), Yaw:-92.17578125, WP_Yaw:-89.92216491699219 relative_yaw: -2.2536163330078125\n",
      "Observation: [-0.11844189  0.28333333  0.18481556]\n",
      "Vehicle transform: Transform(Location(x=193.533401, y=126.332787, z=0.221678), Rotation(pitch=0.000137, yaw=-86.763359, roll=0.002010)), Yaw:-86.76335906982422, WP_Yaw:-89.92216491699219 relative_yaw: 3.1588058471679688\n",
      "Observation: [-0.06512228  0.28333333  0.2505741 ]\n",
      "Vehicle transform: Transform(Location(x=193.746536, y=123.839020, z=0.221880), Rotation(pitch=0.000068, yaw=-85.461662, roll=0.000059)), Yaw:-85.46166229248047, WP_Yaw:-89.92216491699219 relative_yaw: 4.460502624511719\n",
      "Observation: [0.00479377 0.3        0.33606562]\n",
      "Vehicle transform: Transform(Location(x=193.992767, y=121.333160, z=0.221840), Rotation(pitch=0.001079, yaw=-84.423302, roll=0.016374)), Yaw:-84.42330169677734, WP_Yaw:-89.92216491699219 relative_yaw: 5.498863220214844\n",
      "Observation: [0.08573645 0.3        0.42302012]\n",
      "Vehicle transform: Transform(Location(x=194.241013, y=118.830162, z=0.221762), Rotation(pitch=-0.002930, yaw=-84.449600, roll=-0.017731)), Yaw:-84.44960021972656, WP_Yaw:-89.92216491699219 relative_yaw: 5.472564697265625\n",
      "Observation: [0.16735138 0.3        0.42316625]\n",
      "Vehicle transform: Transform(Location(x=194.711655, y=116.329437, z=0.238652), Rotation(pitch=0.759954, yaw=-79.272545, roll=-1.606385)), Yaw:-79.27254486083984, WP_Yaw:256.4085998535156 relative_yaw: 24.31885528564453\n",
      "Observation: [0.29039362 0.3        0.2896037 ]\n"
     ]
    },
    {
     "name": "stderr",
     "output_type": "stream",
     "text": [
      "2024-10-25 09:34:24,801 - INFO - Collision detected, resetting vehicle.\n"
     ]
    },
    {
     "name": "stdout",
     "output_type": "stream",
     "text": [
      "Vehicle transform: Transform(Location(x=194.772278, y=113.772789, z=0.244993), Rotation(pitch=0.996367, yaw=-90.112350, roll=-1.999573)), Yaw:-90.11235046386719, WP_Yaw:256.4085998535156 relative_yaw: 13.479049682617188\n",
      "Observation: [0.5103029  0.3        0.34982488]\n",
      "Next waypoint after collision: Location(x=193.711441, y=139.092743, z=0.000000)\n",
      "Vehicle transform: Transform(Location(x=193.637070, y=141.291519, z=0.227650), Rotation(pitch=0.256146, yaw=-89.687744, roll=-0.244202)), Yaw:-89.687744140625, WP_Yaw:-89.92216491699219 relative_yaw: 0.2344207763671875\n",
      "Observation: [-0.02379477  0.11666667 -0.00130234]\n",
      "Vehicle transform: Transform(Location(x=193.583725, y=139.943924, z=0.221618), Rotation(pitch=0.037962, yaw=-91.447418, roll=-0.059448)), Yaw:-91.44741821289062, WP_Yaw:-89.92216491699219 relative_yaw: -1.5252532958984375\n",
      "Observation: [-0.04218655  0.18333334  0.00847363]\n"
     ]
    },
    {
     "name": "stderr",
     "output_type": "stream",
     "text": [
      "2024-10-25 09:34:25,350 - INFO - lateral_distance: -0.08157074228720822, speed: 0.23333333333333334, heading: 0.01986024644639757\n"
     ]
    },
    {
     "name": "stdout",
     "output_type": "stream",
     "text": [
      "Action: [6 1], Steer: 0.1, Throttle: 0.2, Brake: 0.0\n",
      "Vehicle transform: Transform(Location(x=193.468002, y=138.154160, z=0.221542), Rotation(pitch=0.023708, yaw=-93.497009, roll=0.004109)), Yaw:-93.49700927734375, WP_Yaw:-89.92216491699219 relative_yaw: -3.5748443603515625\n",
      "Observation: [-0.08157074  0.23333333  0.01986025]\n",
      "Vehicle transform: Transform(Location(x=193.272003, y=135.936401, z=0.221519), Rotation(pitch=0.027157, yaw=-94.546516, roll=-0.011169)), Yaw:-94.54651641845703, WP_Yaw:-89.92216491699219 relative_yaw: -4.624351501464844\n",
      "Observation: [-0.14790754  0.28333333  0.02569084]\n",
      "Vehicle transform: Transform(Location(x=193.212570, y=133.558441, z=0.221655), Rotation(pitch=-0.011502, yaw=-89.725700, roll=-0.102386)), Yaw:-89.72570037841797, WP_Yaw:-89.92216491699219 relative_yaw: 0.19646453857421875\n",
      "Observation: [-0.16879489  0.26666668  0.07484873]\n",
      "Vehicle transform: Transform(Location(x=193.390411, y=131.169525, z=0.221632), Rotation(pitch=0.007397, yaw=-86.713676, roll=0.010450)), Yaw:-86.71367645263672, WP_Yaw:-89.92216491699219 relative_yaw: 3.2084884643554688\n",
      "Observation: [-0.11059629  0.28333333  0.05811526]\n",
      "Vehicle transform: Transform(Location(x=193.710907, y=128.691086, z=0.221929), Rotation(pitch=0.003511, yaw=-82.824974, roll=-0.009216)), Yaw:-82.8249740600586, WP_Yaw:-89.92216491699219 relative_yaw: 7.097190856933594\n",
      "Observation: [-0.00488638  0.3         0.13286662]\n",
      "Vehicle transform: Transform(Location(x=193.926056, y=126.177872, z=0.221810), Rotation(pitch=0.002684, yaw=-85.712936, roll=0.031742)), Yaw:-85.71293640136719, WP_Yaw:-89.92216491699219 relative_yaw: 4.209228515625\n",
      "Observation: [0.06569225 0.3        0.24473843]\n",
      "Vehicle transform: Transform(Location(x=194.184174, y=123.497925, z=0.221745), Rotation(pitch=0.017253, yaw=-83.767761, roll=-0.003510)), Yaw:-83.76776123046875, WP_Yaw:-89.92216491699219 relative_yaw: 6.1544036865234375\n",
      "Observation: [0.1505183  0.33333334 0.32665506]\n",
      "Vehicle transform: Transform(Location(x=194.226013, y=120.586166, z=0.221826), Rotation(pitch=0.002957, yaw=-90.188377, roll=0.040672)), Yaw:-90.1883773803711, WP_Yaw:-89.92216491699219 relative_yaw: -0.26621246337890625\n",
      "Observation: [0.16314675 0.35       0.45504832]\n",
      "Vehicle transform: Transform(Location(x=194.240448, y=117.517281, z=0.221549), Rotation(pitch=-0.005983, yaw=-89.108597, roll=-0.038666)), Yaw:-89.10859680175781, WP_Yaw:256.4085998535156 relative_yaw: 14.482803344726562\n",
      "Observation: [0.04467707 0.36666667 0.34424844]\n",
      "Vehicle transform: Transform(Location(x=194.219620, y=114.383530, z=0.221110), Rotation(pitch=0.001059, yaw=-90.093506, roll=-0.036621)), Yaw:-90.093505859375, WP_Yaw:256.4085998535156 relative_yaw: 13.497894287109375\n",
      "Observation: [0.28340182 0.36666667 0.34972018]\n"
     ]
    },
    {
     "name": "stderr",
     "output_type": "stream",
     "text": [
      "2024-10-25 09:34:26,986 - INFO - Collision detected, resetting vehicle.\n",
      "2024-10-25 09:34:27,105 - INFO - Reward: 0.0, Episode time limit reached\n"
     ]
    },
    {
     "name": "stdout",
     "output_type": "stream",
     "text": [
      "Next waypoint after collision: Location(x=193.711441, y=139.092743, z=0.000000)\n",
      "Action: [2 1], Steer: -0.1, Throttle: 0.2, Brake: 0.0\n",
      "Vehicle transform: Transform(Location(x=193.672241, y=142.057495, z=0.193551), Rotation(pitch=0.918804, yaw=-89.008934, roll=-1.325623)), Yaw:-89.0089340209961, WP_Yaw:-89.92216491699219 relative_yaw: 0.9132308959960938\n",
      "Episode 5 finished. Total Reward: 4279.4625529421555 after 400 timesteps.\n",
      "\n",
      "Testing completed.\n"
     ]
    }
   ],
   "source": [
    "\n",
    "\n",
    "for episode in range(num_test_episodes):\n",
    "    obs, info = env.reset()\n",
    "    done = False\n",
    "    total_reward = 0\n",
    "    timestep = 0\n",
    "\n",
    "    print(f\"Starting Episode {episode + 1}\")\n",
    "\n",
    "    while not done:\n",
    "        # Get the action from the model\n",
    "        action, _states = model.predict(obs)\n",
    "        obs, reward, done, truncated, info = env.step(action)\n",
    "        total_reward += reward\n",
    "        timestep += 1\n",
    "        if done or truncated:\n",
    "            break\n",
    "\n",
    "    print(f\"Episode {episode + 1} finished. Total Reward: {total_reward} after {timestep} timesteps.\\n\")\n",
    "\n",
    "print(\"Testing completed.\")\n",
    "env.close()\n"
   ]
  },
  {
   "cell_type": "code",
   "execution_count": 6,
   "metadata": {},
   "outputs": [
    {
     "name": "stderr",
     "output_type": "stream",
     "text": [
      "2024-10-25 09:34:27,129 - INFO - Starting episode 10\n",
      "2024-10-25 09:34:27,133 - INFO - Spawned vehicle at: Location(x=111.080017, y=306.419983, z=0.500000)\n",
      "2024-10-25 09:34:27,134 - INFO - Current waypoint: Location(x=109.659309, y=306.550690, z=0.000000)\n",
      "2024-10-25 09:34:27,135 - INFO - Target waypoint: Location(x=112.659309, y=306.551697, z=0.000000)\n",
      "2024-10-25 09:34:27,146 - INFO - lateral_distance: -1.0, speed: 0.0, heading: 0.00010787288968761762\n"
     ]
    },
    {
     "name": "stdout",
     "output_type": "stream",
     "text": [
      "Observation: [-1.0000000e+00  0.0000000e+00  1.0787289e-04]\n"
     ]
    },
    {
     "data": {
      "text/plain": [
       "(array([-1.0000000e+00,  0.0000000e+00,  1.0787289e-04], dtype=float32), {})"
      ]
     },
     "execution_count": 6,
     "metadata": {},
     "output_type": "execute_result"
    },
    {
     "ename": "",
     "evalue": "",
     "output_type": "error",
     "traceback": [
      "\u001b[1;31mThe Kernel crashed while executing code in the current cell or a previous cell. \n",
      "\u001b[1;31mPlease review the code in the cell(s) to identify a possible cause of the failure. \n",
      "\u001b[1;31mClick <a href='https://aka.ms/vscodeJupyterKernelCrash'>here</a> for more info. \n",
      "\u001b[1;31mView Jupyter <a href='command:jupyter.viewOutput'>log</a> for further details."
     ]
    }
   ],
   "source": [
    "env.cleanup() # Clean up the environment\n",
    "env.reset() # Reset the environment to release the memory"
   ]
  }
 ],
 "metadata": {
  "kernelspec": {
   "display_name": "rlvenv",
   "language": "python",
   "name": "python3"
  },
  "language_info": {
   "codemirror_mode": {
    "name": "ipython",
    "version": 3
   },
   "file_extension": ".py",
   "mimetype": "text/x-python",
   "name": "python",
   "nbconvert_exporter": "python",
   "pygments_lexer": "ipython3",
   "version": "3.8.7"
  },
  "orig_nbformat": 4
 },
 "nbformat": 4,
 "nbformat_minor": 2
}
